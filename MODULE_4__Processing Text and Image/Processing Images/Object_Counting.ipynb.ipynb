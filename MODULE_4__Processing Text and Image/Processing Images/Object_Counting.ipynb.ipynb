{
 "cells": [
  {
   "cell_type": "markdown",
   "metadata": {
    "colab_type": "text",
    "id": "view-in-github"
   },
   "source": [
    "<a href=\"https://colab.research.google.com/github/soharabhossain/OpenCV/blob/master/Object_Counting.ipynb\" target=\"_parent\"><img src=\"https://colab.research.google.com/assets/colab-badge.svg\" alt=\"Open In Colab\"/></a>"
   ]
  },
  {
   "cell_type": "markdown",
   "metadata": {
    "colab_type": "text",
    "id": "UIWSBz1bi197"
   },
   "source": [
    "## Counting the Number of Objects in an Image\n",
    "\n",
    "\n",
    "Counting number of objects from an image is a challenging task.\n",
    "\n",
    "If we have an image with non-overlapping clear object contours then we can go as follows:\n",
    "\n",
    "i) Convert the image in grayscale\n",
    "\n",
    "ii) Reduce noise by applying smoothing (blurring)\n",
    "\n",
    "iii) Apply edge detection -e.g. Canny's algorithm\n",
    "\n",
    "iv) Finding contours on the edge map found from the previous steps\n",
    "\n",
    "v) Count the number of closed contours found\n",
    "\n",
    "\n"
   ]
  },
  {
   "cell_type": "markdown",
   "metadata": {
    "colab_type": "text",
    "id": "lZsGu7_ejCdm"
   },
   "source": [
    "### Import Libraries"
   ]
  },
  {
   "cell_type": "code",
   "execution_count": 0,
   "metadata": {
    "colab": {},
    "colab_type": "code",
    "id": "df_JLGU1VpNh"
   },
   "outputs": [],
   "source": [
    "# import libraries\n",
    "import numpy as np\n",
    "import cv2\n",
    "import matplotlib.pyplot as plt"
   ]
  },
  {
   "cell_type": "markdown",
   "metadata": {
    "colab_type": "text",
    "id": "6Ljh9az9jGr0"
   },
   "source": [
    "### Read an Image"
   ]
  },
  {
   "cell_type": "code",
   "execution_count": 0,
   "metadata": {
    "colab": {},
    "colab_type": "code",
    "id": "1Q78EJOeVq-E"
   },
   "outputs": [],
   "source": [
    "# Load image\n",
    "img = cv2.imread(\"Bounding.png\")"
   ]
  },
  {
   "cell_type": "markdown",
   "metadata": {
    "colab_type": "text",
    "id": "-1h-xO9_XBHT"
   },
   "source": [
    "### Convert to Gray Scale and Reduce Noise by Smoothing Applying Blurring"
   ]
  },
  {
   "cell_type": "code",
   "execution_count": 0,
   "metadata": {
    "colab": {},
    "colab_type": "code",
    "id": "-fRZYeYTVtU9"
   },
   "outputs": [],
   "source": [
    "# Convert the original to grey scale and blur it to reduce noise\n",
    "gray = cv2.cvtColor(img, cv2.COLOR_BGR2GRAY)\n",
    "blurred = cv2.GaussianBlur(gray, (3, 3), 0)\n",
    "\n",
    "\n",
    "# Display the gray image\n",
    "plt.imshow(gray, cmap='gray')\n",
    "plt.title('Gray Image')\n",
    "\n",
    "# Display the blurred image\n",
    "plt.imshow(blurred, cmap='gray')\n",
    "plt.title('Blurred Image')"
   ]
  },
  {
   "cell_type": "markdown",
   "metadata": {
    "colab_type": "text",
    "id": "9deIBGvHjNkr"
   },
   "source": [
    "### Edge Detection with Canny's Algorithm"
   ]
  },
  {
   "cell_type": "code",
   "execution_count": 0,
   "metadata": {
    "colab": {},
    "colab_type": "code",
    "id": "p6vCgEPVVwFd"
   },
   "outputs": [],
   "source": [
    "# Canny edge detection\n",
    "canny = cv2.Canny(blurred, 10, 150)\n",
    "\n",
    "\n",
    "# Show Canny's edge map\n",
    "plt.imshow(canny, cmap='gray')\n",
    "plt.title('Canny Edge Map')\n"
   ]
  },
  {
   "cell_type": "markdown",
   "metadata": {
    "colab_type": "text",
    "id": "eVAMvCnxjTMD"
   },
   "source": [
    "### Find Contours of the Fro the Edge Map"
   ]
  },
  {
   "cell_type": "code",
   "execution_count": 0,
   "metadata": {
    "colab": {},
    "colab_type": "code",
    "id": "pD7Uh1jIVW_v"
   },
   "outputs": [],
   "source": [
    "# find the contours\n",
    "(_, contours, _) = cv2.findContours(canny, cv2.RETR_EXTERNAL, cv2.CHAIN_APPROX_SIMPLE)"
   ]
  },
  {
   "cell_type": "markdown",
   "metadata": {
    "colab_type": "text",
    "id": "JtCKHUoKjZyB"
   },
   "source": [
    "### Draw Contours"
   ]
  },
  {
   "cell_type": "code",
   "execution_count": 0,
   "metadata": {
    "colab": {},
    "colab_type": "code",
    "id": "GHhUx96ZV1nt"
   },
   "outputs": [],
   "source": [
    "# Draw contours: -1 will draw all contours\n",
    "img1 = cv2.drawContours(img, contours, -1, (0, 255, 0), 2)"
   ]
  },
  {
   "cell_type": "markdown",
   "metadata": {
    "colab_type": "text",
    "id": "Ou_dXU9ojepM"
   },
   "source": [
    "### Draw the Contours of the objects"
   ]
  },
  {
   "cell_type": "code",
   "execution_count": 0,
   "metadata": {
    "colab": {},
    "colab_type": "code",
    "id": "_Wv7r36YbYDq"
   },
   "outputs": [],
   "source": [
    "plt.imshow(img1)\n",
    "plt.title('Contour Plot')"
   ]
  },
  {
   "cell_type": "markdown",
   "metadata": {
    "colab_type": "text",
    "id": "txZnJqszjmHg"
   },
   "source": [
    "### Print the Number of Objects Found"
   ]
  },
  {
   "cell_type": "code",
   "execution_count": 0,
   "metadata": {
    "colab": {},
    "colab_type": "code",
    "id": "6SKDDFfZV3MR"
   },
   "outputs": [],
   "source": [
    "# Print how many coins we found\n",
    "print(\"\\n Found %i objects in the image.\" % len(contours))"
   ]
  }
 ],
 "metadata": {
  "accelerator": "GPU",
  "colab": {
   "collapsed_sections": [],
   "include_colab_link": true,
   "name": "Object_Counting.ipynb",
   "provenance": [],
   "version": "0.3.2"
  },
  "kernelspec": {
   "display_name": "Python 3",
   "language": "python",
   "name": "python3"
  },
  "language_info": {
   "codemirror_mode": {
    "name": "ipython",
    "version": 3
   },
   "file_extension": ".py",
   "mimetype": "text/x-python",
   "name": "python",
   "nbconvert_exporter": "python",
   "pygments_lexer": "ipython3",
   "version": "3.8.1"
  }
 },
 "nbformat": 4,
 "nbformat_minor": 1
}
