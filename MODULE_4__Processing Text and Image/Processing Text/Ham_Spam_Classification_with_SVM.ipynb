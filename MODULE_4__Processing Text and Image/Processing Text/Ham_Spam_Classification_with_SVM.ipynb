{
 "cells": [
  {
   "cell_type": "markdown",
   "metadata": {
    "colab_type": "text",
    "id": "V0exdLDaEBOn"
   },
   "source": [
    "# Spam Filtering with SVM - Text Classification into \n",
    "\n",
    "\n",
    "Text messages received from various sources mat be categorized as Spam and Not-spam (Ham).\n",
    "\n",
    "In this notebook, we build a ML model using Support Vector Machine to classify Smap/Ham text-messages.\n"
   ]
  },
  {
   "cell_type": "code",
   "execution_count": 1,
   "metadata": {
    "colab": {},
    "colab_type": "code",
    "id": "4mUaEkqIFFj-"
   },
   "outputs": [],
   "source": [
    "\n",
    "import numpy as np\n",
    "import pandas as pd\n",
    "import matplotlib.pyplot as plt\n",
    "\n",
    "from collections import Counter\n",
    "from sklearn.feature_extraction.text import CountVectorizer\n",
    "from sklearn.model_selection import train_test_split\n",
    "from sklearn import metrics\n",
    "\n",
    "from sklearn import svm\n",
    "\n",
    "from time import time\n",
    "from sklearn.model_selection import GridSearchCV\n",
    "from sklearn.model_selection import RandomizedSearchCV\n"
   ]
  },
  {
   "cell_type": "markdown",
   "metadata": {
    "colab_type": "text",
    "id": "YFeCuKa-NEZl"
   },
   "source": [
    "## Exploring the Dataset"
   ]
  },
  {
   "cell_type": "code",
   "execution_count": 2,
   "metadata": {
    "colab": {},
    "colab_type": "code",
    "id": "9lRPkLG7NH9i"
   },
   "outputs": [],
   "source": [
    "data = pd.read_csv('spam.csv', usecols=['v1','v2'], encoding='latin-1')\n"
   ]
  },
  {
   "cell_type": "code",
   "execution_count": 3,
   "metadata": {
    "colab": {
     "base_uri": "https://localhost:8080/",
     "height": 141
    },
    "colab_type": "code",
    "id": "nxv1WEqnmduf",
    "outputId": "7ec08c37-4d79-471e-b1d1-65401dbbf104"
   },
   "outputs": [
    {
     "name": "stdout",
     "output_type": "stream",
     "text": [
      "<class 'pandas.core.frame.DataFrame'>\n",
      "RangeIndex: 5572 entries, 0 to 5571\n",
      "Data columns (total 2 columns):\n",
      "v1    5572 non-null object\n",
      "v2    5572 non-null object\n",
      "dtypes: object(2)\n",
      "memory usage: 43.6+ KB\n"
     ]
    }
   ],
   "source": [
    "data.info()"
   ]
  },
  {
   "cell_type": "code",
   "execution_count": 4,
   "metadata": {
    "colab": {
     "base_uri": "https://localhost:8080/",
     "height": 347
    },
    "colab_type": "code",
    "id": "H-wT2lnjmh8h",
    "outputId": "3c07a053-ab87-4d56-9643-6b90483030a3"
   },
   "outputs": [
    {
     "data": {
      "text/html": [
       "<div>\n",
       "<table border=\"1\" class=\"dataframe\">\n",
       "  <thead>\n",
       "    <tr style=\"text-align: right;\">\n",
       "      <th></th>\n",
       "      <th>v1</th>\n",
       "      <th>v2</th>\n",
       "    </tr>\n",
       "  </thead>\n",
       "  <tbody>\n",
       "    <tr>\n",
       "      <th>0</th>\n",
       "      <td>ham</td>\n",
       "      <td>Go until jurong point, crazy.. Available only ...</td>\n",
       "    </tr>\n",
       "    <tr>\n",
       "      <th>1</th>\n",
       "      <td>ham</td>\n",
       "      <td>Ok lar... Joking wif u oni...</td>\n",
       "    </tr>\n",
       "    <tr>\n",
       "      <th>2</th>\n",
       "      <td>spam</td>\n",
       "      <td>Free entry in 2 a wkly comp to win FA Cup fina...</td>\n",
       "    </tr>\n",
       "    <tr>\n",
       "      <th>3</th>\n",
       "      <td>ham</td>\n",
       "      <td>U dun say so early hor... U c already then say...</td>\n",
       "    </tr>\n",
       "    <tr>\n",
       "      <th>4</th>\n",
       "      <td>ham</td>\n",
       "      <td>Nah I don't think he goes to usf, he lives aro...</td>\n",
       "    </tr>\n",
       "    <tr>\n",
       "      <th>5</th>\n",
       "      <td>spam</td>\n",
       "      <td>FreeMsg Hey there darling it's been 3 week's n...</td>\n",
       "    </tr>\n",
       "    <tr>\n",
       "      <th>6</th>\n",
       "      <td>ham</td>\n",
       "      <td>Even my brother is not like to speak with me. ...</td>\n",
       "    </tr>\n",
       "    <tr>\n",
       "      <th>7</th>\n",
       "      <td>ham</td>\n",
       "      <td>As per your request 'Melle Melle (Oru Minnamin...</td>\n",
       "    </tr>\n",
       "    <tr>\n",
       "      <th>8</th>\n",
       "      <td>spam</td>\n",
       "      <td>WINNER!! As a valued network customer you have...</td>\n",
       "    </tr>\n",
       "    <tr>\n",
       "      <th>9</th>\n",
       "      <td>spam</td>\n",
       "      <td>Had your mobile 11 months or more? U R entitle...</td>\n",
       "    </tr>\n",
       "  </tbody>\n",
       "</table>\n",
       "</div>"
      ],
      "text/plain": [
       "     v1                                                 v2\n",
       "0   ham  Go until jurong point, crazy.. Available only ...\n",
       "1   ham                      Ok lar... Joking wif u oni...\n",
       "2  spam  Free entry in 2 a wkly comp to win FA Cup fina...\n",
       "3   ham  U dun say so early hor... U c already then say...\n",
       "4   ham  Nah I don't think he goes to usf, he lives aro...\n",
       "5  spam  FreeMsg Hey there darling it's been 3 week's n...\n",
       "6   ham  Even my brother is not like to speak with me. ...\n",
       "7   ham  As per your request 'Melle Melle (Oru Minnamin...\n",
       "8  spam  WINNER!! As a valued network customer you have...\n",
       "9  spam  Had your mobile 11 months or more? U R entitle..."
      ]
     },
     "execution_count": 4,
     "metadata": {},
     "output_type": "execute_result"
    }
   ],
   "source": [
    "data.head(n=10)"
   ]
  },
  {
   "cell_type": "markdown",
   "metadata": {
    "colab_type": "text",
    "id": "NtELRNXiM-_c"
   },
   "source": [
    "## Distribution spam/non-spam emails : Bar Plots"
   ]
  },
  {
   "cell_type": "code",
   "execution_count": 5,
   "metadata": {
    "colab": {},
    "colab_type": "code",
    "id": "zvq7KjDQM13O"
   },
   "outputs": [
    {
     "data": {
      "image/png": "[encoded data removed]",
      "text/plain": [
       "<matplotlib.figure.Figure at 0x3f2da30>"
      ]
     },
     "metadata": {},
     "output_type": "display_data"
    }
   ],
   "source": [
    "count_Class=pd.value_counts(data[\"v1\"], sort= True)\n",
    "\n",
    "count_Class.plot(kind= 'bar', color= [\"blue\", \"orange\"])\n",
    "\n",
    "plt.title('Bar chart')\n",
    "\n",
    "plt.show()"
   ]
  },
  {
   "cell_type": "code",
   "execution_count": 6,
   "metadata": {
    "colab": {},
    "colab_type": "code",
    "id": "PHir86rzE1Z6"
   },
   "outputs": [
    {
     "data": {
      "image/png": "[encoded data removed]",
      "text/plain": [
       "<matplotlib.figure.Figure at 0xe3e3190>"
      ]
     },
     "metadata": {},
     "output_type": "display_data"
    }
   ],
   "source": [
    "count_Class.plot(kind = 'pie')\n",
    "plt.title('Pie Chart')\n",
    "plt.ylabel('')\n",
    "plt.show()"
   ]
  },
  {
   "cell_type": "markdown",
   "metadata": {
    "colab_type": "text",
    "id": "nM3p-QorMbp5"
   },
   "source": [
    "## Text Analytics\n",
    "\n",
    "We want to find the **frequencies of words** in the spam and non-spam messages. \n",
    "\n",
    "The words of the messages will be model features (most frequent words).\n",
    "\n",
    "We use the function Counter."
   ]
  },
  {
   "cell_type": "markdown",
   "metadata": {
    "colab_type": "text",
    "id": "o8w34HbLmEbc"
   },
   "source": [
    "### Find Most Frequest Words in the Ham Messages"
   ]
  },
  {
   "cell_type": "code",
   "execution_count": 7,
   "metadata": {
    "colab": {},
    "colab_type": "code",
    "id": "80Cc0sJ1MdqV"
   },
   "outputs": [
    {
     "name": "stdout",
     "output_type": "stream",
     "text": [
      "   words in non-spam  count\n",
      "0                 to   1530\n",
      "1                you   1458\n",
      "2                  I   1436\n",
      "3                the   1019\n",
      "4                  a    969\n",
      "5                and    738\n",
      "6                  i    736\n",
      "7                 in    734\n",
      "8                  u    645\n",
      "9                 is    638\n",
      "10                my    619\n",
      "11                me    537\n",
      "12                of    498\n",
      "13               for    475\n",
      "14              that    398\n",
      "15                it    375\n",
      "16              your    373\n",
      "17                on    352\n",
      "18              have    346\n",
      "19                at    333\n"
     ]
    }
   ],
   "source": [
    "count1 = Counter(\" \".join(data[data['v1']=='ham'][\"v2\"]).split()).most_common(20)\n",
    "df1 = pd.DataFrame.from_dict(count1)\n",
    "df1 = df1.rename(columns={0: \"words in non-spam\", 1 : \"count\"})\n",
    "\n",
    "print(df1)"
   ]
  },
  {
   "cell_type": "code",
   "execution_count": 8,
   "metadata": {
    "colab": {},
    "colab_type": "code",
    "id": "SqGInMMvMi96"
   },
   "outputs": [
    {
     "data": {
      "image/png": "[encoded data removed]",
      "text/plain": [
       "<matplotlib.figure.Figure at 0xe526f70>"
      ]
     },
     "metadata": {},
     "output_type": "display_data"
    }
   ],
   "source": [
    "df1.plot.bar(legend = False)\n",
    "y_pos = np.arange(len(df1[\"words in non-spam\"]))\n",
    "plt.xticks(y_pos, df1[\"words in non-spam\"])\n",
    "plt.title('More frequent words in non-spam messages')\n",
    "plt.xlabel('words')\n",
    "plt.ylabel('number')\n",
    "plt.show()"
   ]
  },
  {
   "cell_type": "markdown",
   "metadata": {
    "colab_type": "text",
    "id": "b25BCyaHmLF_"
   },
   "source": [
    "### Find Most Frequest Words in the Spam Messages"
   ]
  },
  {
   "cell_type": "code",
   "execution_count": 9,
   "metadata": {
    "colab": {
     "base_uri": "https://localhost:8080/",
     "height": 390
    },
    "colab_type": "code",
    "id": "wtOwolLlmDY-",
    "outputId": "37763804-e3dd-437d-c0a8-e0a939e00984"
   },
   "outputs": [
    {
     "name": "stdout",
     "output_type": "stream",
     "text": [
      "   words in spam  count_\n",
      "0             to     604\n",
      "1              a     358\n",
      "2           your     187\n",
      "3           call     185\n",
      "4             or     185\n",
      "5            the     178\n",
      "6            for     169\n",
      "7              2     169\n",
      "8            you     164\n",
      "9             is     143\n",
      "10          Call     136\n",
      "11            on     135\n",
      "12          have     128\n",
      "13           and     119\n",
      "14          from     116\n",
      "15            ur     107\n",
      "16          with     101\n",
      "17             &      98\n",
      "18             4      93\n",
      "19            of      93\n"
     ]
    }
   ],
   "source": [
    "count2 = Counter(\" \".join(data[data['v1']=='spam'][\"v2\"]).split()).most_common(20)\n",
    "df2 = pd.DataFrame.from_dict(count2)\n",
    "df2 = df2.rename(columns={0: \"words in spam\", 1 : \"count_\"})\n",
    "print(df2)"
   ]
  },
  {
   "cell_type": "code",
   "execution_count": 10,
   "metadata": {
    "colab": {},
    "colab_type": "code",
    "id": "E1y7NBnUMl20"
   },
   "outputs": [
    {
     "data": {
      "image/png": "[encoded data removed]",
      "text/plain": [
       "<matplotlib.figure.Figure at 0xe3e31b0>"
      ]
     },
     "metadata": {},
     "output_type": "display_data"
    }
   ],
   "source": [
    "df2.plot.bar(legend = False, color = 'orange')\n",
    "y_pos = np.arange(len(df2[\"words in spam\"]))\n",
    "plt.xticks(y_pos, df2[\"words in spam\"])\n",
    "plt.title('More frequent words in spam messages')\n",
    "plt.xlabel('words')\n",
    "plt.ylabel('number')\n",
    "plt.show()"
   ]
  },
  {
   "cell_type": "markdown",
   "metadata": {
    "colab_type": "text",
    "id": "V36G_zUMMr7H"
   },
   "source": [
    "We can see that the majority of frequent words in both classes are stop words such as 'to', 'a', 'or' and so on.\n",
    "\n",
    "With stop words we refer to the most common words in a language, there is no simgle, universal list of stop words."
   ]
  },
  {
   "cell_type": "markdown",
   "metadata": {
    "colab_type": "text",
    "id": "LeYM53V6Lt8i"
   },
   "source": [
    "## Feature Extraction from the Text\n",
    "\n",
    "Text preprocessing, tokenizing and filtering of stopwords are included in a high level component that is able to build a dictionary of features and transform documents to feature vectors.\n",
    "\n",
    "We remove the stop words in order to improve the analytics"
   ]
  },
  {
   "cell_type": "code",
   "execution_count": 11,
   "metadata": {
    "colab": {},
    "colab_type": "code",
    "id": "kQhgSelZE5fQ"
   },
   "outputs": [
    {
     "data": {
      "text/plain": [
       "(5572, 8404)"
      ]
     },
     "execution_count": 11,
     "metadata": {},
     "output_type": "execute_result"
    }
   ],
   "source": [
    "f = CountVectorizer(stop_words = 'english')\n",
    "X = f.fit_transform(data[\"v2\"])\n",
    "np.shape(X)\n"
   ]
  },
  {
   "cell_type": "markdown",
   "metadata": {
    "colab_type": "text",
    "id": "bROymWVDq7LR"
   },
   "source": [
    "Here, 5572 is the total number of message in the dataset/curpus.\n",
    "\n",
    "Total 8404 unique worrds are there in the corpus (including special characters/strings and non-english words)."
   ]
  },
  {
   "cell_type": "code",
   "execution_count": 12,
   "metadata": {
    "colab": {
     "base_uri": "https://localhost:8080/",
     "height": 72
    },
    "colab_type": "code",
    "id": "SKg_LUdpiYUQ",
    "outputId": "4439ba0b-46cb-4a8a-ef8e-f42b78761d26"
   },
   "outputs": [
    {
     "name": "stdout",
     "output_type": "stream",
     "text": [
      "[u'00', u'000', u'000pes', u'008704050406', u'0089', u'0121', u'01223585236', u'01223585334', u'0125698789', u'02', u'0207', u'02072069400', u'02073162414', u'02085076972', u'021', u'03', u'04', u'0430', u'05', u'050703', u'0578', u'06', u'07', u'07008009200', u'07046744435', u'07090201529', u'07090298926', u'07099833605', u'07123456789', u'0721072', u'07732584351', u'07734396839', u'07742676969', u'07753741225', u'0776xxxxxxx', u'07781482378', u'07786200117', u'077xxx', u'078', u'07801543489', u'07808', u'07808247860', u'07808726822', u'07815296484', u'07821230901', u'078498', u'07880867867', u'0789xxxxxxx', u'07946746291', u'0796xxxxxx', u'07973788240', u'07xxxxxxxxx', u'08', u'0800', u'08000407165', u'08000776320', u'08000839402', u'08000930705', u'08000938767', u'08001950382', u'08002888812', u'08002986030', u'08002986906', u'08002988890', u'08006344447', u'0808', u'08081263000', u'08081560665', u'0825', u'083', u'0844', u'08448350055', u'08448714184', u'0845', u'08450542832', u'08452810071', u'08452810073', u'08452810075over18', u'0870', u'08700435505150p', u'08700469649', u'08700621170150p', u'08701213186', u'08701237397', u'08701417012', u'08701417012150p', u'0870141701216', u'087016248', u'08701752560', u'087018728737', u'0870241182716', u'08702490080', u'08702840625', u'08704050406', u'08704439680', u'08704439680ts', u'08706091795', u'0870737910216yrs', u'08707500020', u'08707509020', u'0870753331018', u'08707808226', u'08708034412', u'08708800282', u'08709222922', u'08709501522', u'0871', u'087104711148', u'08712101358', u'08712103738', u'0871212025016', u'08712300220', u'087123002209am', u'08712317606', u'08712400200', u'08712400602450p', u'08712400603', u'08712402050', u'08712402578', u'08712402779', u'08712402902', u'08712402972', u'08712404000', u'08712405020', u'08712405022', u'08712460324', u'08712466669', u'0871277810710p', u'0871277810810', u'0871277810910p', u'08714342399', u'087147123779am', u'08714712379', u'08714712388', u'08714712394', u'08714712412', u'08714714011', u'08715203028', u'08715203649', u'08715203652', u'08715203656', u'08715203677', u'08715203685', u'08715203694', u'08715205273', u'08715500022', u'08715705022', u'08717111821', u'08717168528', u'08717205546', u'0871750', u'08717507382', u'08717509990', u'08717890890\\xe5', u'08717895698', u'08717898035', u'08718711108', u'08718720201', u'08718723815', u'08718725756', u'08718726270', u'087187262701', u'08718726970', u'08718726971', u'08718726978', u'087187272008', u'08718727868', u'08718727870', u'08718727870150ppm', u'08718730555', u'08718730666', u'08718738001', u'08718738002', u'08718738034', u'08719180219', u'08719180248', u'08719181259', u'08719181503', u'08719181513', u'08719839835', u'08719899217', u'08719899229', u'08719899230', u'09', u'09041940223', u'09050000301', u'09050000332', u'09050000460', u'09050000555', u'09050000878', u'09050000928', u'09050001295', u'09050001808', u'09050002311', u'09050003091', u'09050005321', u'09050090044', u'09050280520', u'09053750005', u'09056242159', u'09057039994', u'09058091854', u'09058091870', u'09058094454', u'09058094455', u'09058094507', u'09058094565', u'09058094583', u'09058094594', u'09058094597', u'09058094599', u'09058095107', u'09058095201', u'09058097189', u'09058097218', u'09058098002', u'09058099801', u'09061104276', u'09061104283', u'09061209465', u'09061213237', u'09061221061', u'09061221066', u'09061701444', u'09061701461', u'09061701851', u'09061701939', u'09061702893', u'09061743386', u'09061743806', u'09061743810', u'09061743811', u'09061744553', u'09061749602', u'09061790121', u'09061790125', u'09061790126', u'09063440451', u'09063442151', u'09063458130', u'0906346330', u'09064011000', u'09064012103', u'09064012160', u'09064015307', u'09064017295', u'09064017305', u'09064018838', u'09064019014', u'09064019788', u'09065069120', u'09065069154', u'09065171142', u'09065174042', u'09065394514', u'09065394973', u'09065989180', u'09065989182', u'09066350750', u'09066358152', u'09066358361', u'09066361921', u'09066362206', u'09066362220', u'09066362231', u'09066364311', u'09066364349', u'09066364589', u'09066368327', u'09066368470', u'09066368753', u'09066380611', u'09066382422', u'09066612661', u'09066649731from', u'09066660100', u'09071512432', u'09071512433', u'09071517866', u'09077818151', u'09090204448', u'09090900040', u'09094100151', u'09094646631', u'09094646899', u'09095350301', u'09096102316', u'09099725823', u'09099726395', u'09099726429', u'09099726481', u'09099726553', u'09111030116', u'09111032124', u'09701213186', u'0a', u'0quit', u'10', u'100', u'1000', u'1000call', u'1000s', u'100p', u'100percent', u'100txt', u'1013', u'1030', u'10am', u'10k', u'10p', u'10ppm', u'10th', u'11', u'1120', u'113', u'1131', u'114', u'116', u'1172', u'118p', u'11mths', u'11pm', u'12', u'1205', u'120p', u'121', u'1225', u'123', u'125', u'1250', u'125gift', u'128', u'12hours', u'12hrs', u'12mths', u'13', u'130', u'1327', u'139', u'14', u'140', u'1405', u'140ppm', u'145', u'1450', u'146tf150p', u'14tcr', u'14thmarch', u'15', u'150', u'1500', u'150p', u'150p16', u'150pm', u'150ppermesssubscription', u'150ppm', u'150ppmpobox10183bhamb64xe', u'150ppmsg', u'150pw', u'151', u'153', u'15541', u'15pm', u'16', u'165', u'1680', u'169', u'177', u'18', u'180', u'1843', u'18p', u'18yrs', u'195', u'1956669', u'1apple', u'1b6a5ecef91ff9', u'1cup', u'1da', u'1er', u'1hr', u'1im', u'1lemon', u'1mega', u'1million', u'1pm', u'1st', u'1st4terms', u'1stchoice', u'1stone', u'1thing', u'1tulsi', u'1win150ppmx3', u'1winaweek', u'1winawk', u'1x150p', u'1yf', u'20', u'200', u'2000', u'2003', u'2004', u'2005', u'2006', u'2007', u'200p', u'2025050', u'20m12aq', u'20p', u'21', u'21870000', u'21st', u'22', u'220', u'220cm2', u'2309', u'23f', u'23g', u'24', u'24hrs', u'24m', u'24th', u'25', u'250', u'250k', u'255', u'25p', u'26', u'2667', u'26th', u'27', u'28', u'2814032', u'28days', u'28th', u'28thfeb', u'29', u'2b', u'2bold', u'2c', u'2channel', u'2day', u'2end', u'2exit', u'2ez', u'2find', u'2getha', u'2geva', u'2go', u'2gthr', u'2hrs', u'2kbsubject', u'2lands', u'2marrow', u'2moro', u'2morow', u'2morro', u'2morrow', u'2morrowxxxx', u'2mro', u'2mrw', u'2nd', u'2nhite', u'2nights', u'2nite', u'2optout', u'2p', u'2price', u'2px', u'2rcv', u'2stop', u'2stoptx', u'2stoptxt', u'2u', u'2u2', u'2waxsto', u'2wks', u'2wt', u'2wu', u'2years', u'2yr', u'2yrs', u'30', u'300', u'3000', u'300603', u'300603t', u'300p', u'3030', u'30apr', u'30ish', u'30pm', u'30pp', u'30s', u'30th', u'31', u'3100', u'310303', u'31p', u'32', u'32000', u'3230', u'32323', u'326', u'33', u'330', u'350', u'3510i', u'35p', u'3650', u'36504', u'3680', u'373', u'3750', u'37819', u'38', u'382', u'391784', u'3aj', u'3d', u'3days', u'3g', u'3gbp', u'3hrs', u'3lions', u'3lp', u'3miles', u'3mins', u'3mobile', u'3optical', u'3pound', u'3qxj9', u'3rd', u'3ss', u'3uz', u'3wks', u'3xx', u'3x\\xe5', u'40', u'400', u'400mins', u'400thousad', u'402', u'4041', u'40411', u'40533', u'40gb', u'40mph', u'41685', u'41782', u'420', u'42049', u'4217', u'42478', u'42810', u'430', u'434', u'44', u'440', u'4403ldnw1a7rw18', u'44345', u'447797706009', u'447801259231', u'448712404000', u'449050000301', u'449071512431', u'45', u'450', u'450p', u'450pw', u'45239', u'45pm', u'47', u'4719', u'4742', u'47per', u'48', u'4882', u'48922', u'49', u'49557', u'4a', u'4d', u'4eva', u'4few', u'4fil', u'4get', u'4give', u'4got', u'4goten', u'4info', u'4jx', u'4msgs', u'4mths', u'4qf2', u'4t', u'4th', u'4the', u'4thnov', u'4txt', u'4u', u'4utxt', u'4w', u'4ward', u'4wrd', u'4xx26', u'4years', u'50', u'500', u'5000', u'505060', u'50award', u'50ea', u'50gbp', u'50p', u'50perweeksub', u'50perwksub', u'50pm', u'50pmmorefrommobile2bremoved', u'50ppm', u'50rcvd', u'50s', u'515', u'5226', u'523', u'526', u'528', u'530', u'54', u'542', u'545', u'5digital', u'5free', u'5ish', u'5k', u'5min', u'5mls', u'5p', u'5pm', u'5th', u'5wb', u'5we', u'5wkg', u'5wq', u'5years', u'60', u'600', u'6031', u'6089', u'60p', u'61', u'61200', u'61610', u'62220cncl', u'6230', u'62468', u'62735', u'630', u'63miles', u'645', u'65', u'650', u'66', u'6669', u'674', u'67441233', u'68866', u'69101', u'69200', u'69669', u'69696', u'69698', u'69855', u'69866', u'69876', u'69888', u'69888nyt', u'69911', u'69969', u'69988', u'6days', u'6hl', u'6hrs', u'6ish', u'6missed', u'6months', u'6ph', u'6pm', u'6th', u'6times', u'6wu', u'6zf', u'700', u'71', u'7250', u'7250i', u'730', u'731', u'74355', u'75', u'750', u'7548', u'75max', u'762', u'7634', u'7684', u'77', u'7732584351', u'78', u'786', u'7876150ppm', u'79', u'7am', u'7cfca1a', u'7ish', u'7mp', u'7oz', u'7pm', u'7th', u'7ws', u'7zs', u'80', u'800', u'8000930705', u'80062', u'8007', u'80082', u'80086', u'80122300p', u'80155', u'80160', u'80182', u'8027', u'80488', u'80608', u'8077', u'80878', u'81010', u'81151', u'81303', u'81618', u'82050', u'820554ad0a1705572711', u'82242', u'82277', u'82324', u'82468', u'83021', u'83039', u'83049', u'83110', u'83118', u'83222', u'83332', u'83338', u'83355', u'83370', u'83383', u'83435', u'83600', u'83738', u'84', u'84025', u'84122', u'84128', u'84199', u'84484', u'85', u'850', u'85023', u'85069', u'85222', u'85233', u'8552', u'85555', u'86021', u'861', u'864233', u'86688', u'86888', u'87021', u'87066', u'87070', u'87077', u'87121', u'87131', u'8714714', u'872', u'87239', u'87575', u'8800', u'88039', u'88066', u'88088', u'88222', u'88600', u'88800', u'8883', u'88877', u'88888', u'89034', u'89070', u'89080', u'89105', u'89123', u'89545', u'89555', u'89693', u'89938', u'8am', u'8ball', u'8lb', u'8p', u'8pm', u'8th', u'8wp', u'900', u'9061100010', u'910', u'9153', u'9280114', u'930', u'9307622', u'945', u'946', u'95', u'9755', u'9758', u'97n7qp', u'98321561', u'99', u'9996', u'9ae', u'9am', u'9ja', u'9pm', u'9t', u'9th', u'9yt', u'____', u'a21', u'a30', u'aa', u'aah', u'aaniye', u'aaooooright', u'aathi', u'ab', u'abbey', u'abdomen', u'abeg', u'abel', u'aberdeen', u'abi', u'ability', u'abiola', u'abj', u'able', u'abnormally', u'aboutas', u'abroad', u'absence', u'absolutely', u'absolutly', u'abstract', u'abt', u'abta', u'aburo', u'abuse', u'abusers', u'ac', u'academic', u'acc', u'accent', u'accenture', u'accept', u'access', u'accessible', u'accidant', u'accident', u'accidentally', u'accommodation', u'accommodationvouchers', u'accomodate', u'accomodations', u'accordin', u'accordingly', u'account', u'accounting', u'accounts', u'accumulation', u'achan', u'ache', u'achieve', u'acid', u'acknowledgement', u'acl03530150pm', u'acnt', u'aco', u'act', u'acted', u'actin', u'acting', u'action', u'activ8', u'activate', u'active', u'activities', u'actor', u'actual', u'actually', u'ad', u'adam', u'add', u'addamsfa', u'added', u'addicted', u'addie', u'adding', u'address', u'adds', u'adewale', u'adi', u'adjustable', u'admin', u'administrator', u'admirer', u'admission', u'admit', u'adore', u'adoring', u'adp', u'adress', u'adrian', u'ads', u'adsense', u'adult', u'adults', u'advance', u'adventure', u'adventuring', u'advice', u'advise', u'advising', u'advisors', u'aeronautics', u'aeroplane', u'afew', u'affair', u'affairs', u'affection', u'affectionate', u'affections', u'affidavit', u'afford', u'afghanistan', u'afraid', u'africa', u'african', u'aft', u'afternon', u'afternoon', u'afternoons', u'aftr', u'ag', u'agalla', u'age', u'age16', u'age23', u'agency', u'agent', u'agents', u'ages', u'agidhane', u'aging', u'ago', u'agree', u'ah', u'aha', u'ahead', u'ahhh', u'ahhhh', u'ahmad', u'ahold', u'aid', u'aids', u'aig', u'aight', u'ain', u'aint', u'air', u'air1', u'airport', u'airtel', u'aiya', u'aiyah', u'aiyar', u'aiyo', u'ajith', u'ak', u'aka', u'akon', u'al', u'alaikkum', u'alaipayuthe', u'albi', u'album', u'alcohol', u'aldrine', u'alert', u'alertfrom', u'alerts', u'aletter', u'alex', u'alfie', u'algarve', u'algebra', u'algorithms', u'ali', u'alian', u'alibi', u'alive', u'allah', u'allalo', u'allday', u'alle', u'allo', u'allow', u'allowed', u'allows', u'alot', u'alright', u'alrite', u'alter', u'alternative', u'alto18', u'aluable', u'alwa', u'alwys', u'amanda', u'amazing', u'ambitious', u'ambrith', u'american', u'ami', u'amigos', u'amk', u'amla', u'amma', u'ammae', u'ammo', u'amore', u'amp', u'amplikater', u'amrca', u'amrita', u'ams', u'amt', u'amused', u'amy', u'ana', u'anal', u'analysis', u'anand', u'anderson', u'andre', u'andres', u'andrews', u'andros', u'angels', u'angry', u'animal', u'animation', u'anjie', u'anjola', u'anna', u'annie', u'anniversary', u'annoncement', u'announced', u'announcement', u'annoyin', u'annoying', u'anonymous', u'anot', u'ans', u'ansr', u'answer', u'answered', u'answerin', u'answering', u'answers', u'answr', u'antelope', u'antha', u'anthony', u'anti', u'antibiotic', u'anybody', u'anymore', u'anyones', u'anyplaces', u'anythiing', u'anythin', u'anythingtomorrow', u'anytime', u'anyways', u'aom', u'apart', u'apartment', u'apes', u'apeshit', u'aphex\\xe5\\xf5s', u'apnt', u'apo', u'apologetic', u'apologise', u'apologize', u'apology', u'app', u'apparently', u'appeal', u'appear', u'appendix', u'applausestore', u'applebees', u'apples', u'application', u'apply', u'applyed', u'applying', u'appointment', u'appointments', u'appreciate', u'appreciated', u'approaches', u'approaching', u'appropriate', u'approve', u'approved', u'approx', u'apps', u'appt', u'appy', u'april', u'aproach', u'apt', u'aptitude', u'aquarius', u'ar', u'arab', u'arabian', u'arcade', u'archive', u'ard', u'area', u'aren', u'arent', u'arestaurant', u'aretaking', u'areyouunique', u'argentina', u'argh', u'argue', u'arguing', u'argument', u'arguments', u'aries', u'arise', u'arises', u'arithmetic', u'arm', u'armand', u'armenia', u'arms', u'arng', u'arngd', u'arnt', u'aroundn', u'arr', u'arrange', u'arranging', u'arrested', u'arrival', u'arrive', u'arrived', u'arrow', u'arsenal', u'art', u'artists', u'arts', u'arty', u'arul', u'arun', u'asa', u'asap', u'asda', u'ashes', u'ashley', u'ashwini', u'asia', u'asian', u'asjesus', u'ask', u'askd', u'asked', u'askin', u'asking', u'asks', u'aslamalaikkum', u'asleep', u'asp', u'aspects', u'ass', u'assessment', u'asshole', u'assistance', u'associate', u'asssssholeeee', u'assume', u'assumed', u'asthere', u'asthma', u'astne', u'astoundingly', u'astrology', u'astronomer', u'asus', u'asusual', u'ate', u'athletic', u'athome', u'atlanta', u'atlast', u'atleast', u'atm', u'atrocious', u'attach', u'attached', u'attack', u'attempt', u'atten', u'attend', u'attended', u'attending', u'attention', u'attitude', u'attraction', u'attractive', u'attracts', u'attributed', u'atural', u'auction', u'audiitions', u'audition', u'audrey', u'audrie', u'august', u'aunt', u'auntie', u'aunties', u'aunts', u'aunty', u'aust', u'australia', u'authorise', u'auto', u'autocorrect', u'av', u'ava', u'availa', u'available', u'avalarr', u'avatar', u'avble', u'ave', u'avenge', u'avent', u'avenue', u'avin', u'avo', u'avoid', u'avoiding', u'avoids', u'await', u'awaiting', u'awake', u'award', u'awarded', u'away', u'awesome', u'awkward', u'aww', u'awww', u'ax', u'axel', u'axis', u'ay', u'ayn', u'ayo', u'a\\xe5', u'b4', u'b4190604', u'b4280703', u'b4u', u'b4utele', u'ba', u'ba128nnfwfly150ppm', u'baaaaaaaabe', u'baaaaabe', u'babe', u'babes', u'babies', u'baby', u'babygoodbye', u'babyjontet', u'babysit', u'babysitting', u'bac', u'backdoor', u'backwards', u'bad', u'badass', u'badly', u'badrith', u'bag', u'bags', u'bahamas', u'baig', u'bailiff', u'bajarangabali', u'bak', u'bakra', u'bakrid', u'balance', u'ball', u'baller', u'balloon', u'balls', u'bam', u'bambling', u'band', u'bandages', u'bang', u'bangb', u'bangbabes', u'bani', u'bank', u'banks', u'banned', u'banneduk', u'banter', u'bao', u'bar', u'barbie', u'barcelona', u'bare', u'barely', u'bari', u'barkleys', u'barmed', u'barolla', u'barred', u'barrel', u'barring', u'barry', u'bars', u'base', u'based', u'bash', u'basic', u'basically', u'basket', u'basketball', u'basq', u'bat', u'batch', u'batchlor', u'bath', u'bathe', u'bathing', u'bathroom', u'batsman', u'batt', u'battery', u'battle', u'bawling', u'bay', u'bb', u'bbc', u'bbd', u'bbdeluxe', u'bbq', u'bc', u'bcaz', u'bck', u'bcm', u'bcm1896wc1n3xx', u'bcm4284', u'bcmsfwc1n3xx', u'bcoz', u'bcum', u'bcums', u'bcz', u'bday', u'beach', u'beads', u'bear', u'bears', u'beatings', u'beauties', u'beautiful', u'beauty', u'bec', u'becaus', u'becausethey', u'becoz', u'becz', u'bed', u'bedrm', u'bedroom', u'beeen', u'beehoon', u'beendropping', u'beer', u'beerage', u'beers', u'befor', u'beg', u'beggar', u'begging', u'begin', u'begins', u'begun', u'behalf', u'behave', u'bein', u'believe', u'belive', u'bell', u'bellearlier', u'belligerent', u'belly', u'belong', u'belongs', u'belovd', u'beloved', u'belt', u'ben', u'bend', u'beneath', u'beneficiary', u'benefits', u'bennys', u'bergkamp', u'best', u'best1', u'bet', u'beta', u'beth', u'betta', u'better', u'bettersn', u'bettr', u'beverage', u'bevies', u'beware', u'bf', u'bffs', u'bfore', u'bhaji', u'bhaskar', u'bhayandar', u'bian', u'biatch', u'bid', u'bids', u'big', u'bigger', u'biggest', u'bike', u'billed', u'billing', u'billion', u'bills', u'billy', u'bilo', u'bimbo', u'bin', u'biola', u'bird', u'birds', u'birla', u'biro', u'birth', u'birthdate', u'birthday', u'bishan', u'bit', u'bitch', u'bitching', u'bite', u'bites', u'bits', u'biz', u'bk', u'black', u'blackberry', u'blacko', u'blah', u'blake', u'blame', u'blank', u'blanked', u'blanket', u'blankets', u'blastin', u'bleak', u'bleh', u'bless', u'blessed', u'blessing', u'blessings', u'blimey', u'blind', u'block', u'blocked', u'blog', u'blogging', u'blogspot', u'bloke', u'blokes', u'blonde', u'bloo', u'blood', u'bloody', u'bloomberg', u'blow', u'blowing', u'blown', u'blu', u'blue', u'bluetooth', u'bluetoothhdset', u'bluff', u'blur', u'bluray', u'bmw', u'board', u'boat', u'boatin', u'bob', u'body', u'boggy', u'bognor', u'bold', u'bold2', u'bollox', u'boltblue', u'bomb', u'bone', u'bong', u'bonus', u'boo', u'boobs', u'book', u'booked', u'bookedthe', u'booking', u'bookmark', u'books', u'bookshelf', u'boooo', u'boost', u'booty', u'bootydelious', u'borderline', u'bored', u'borin', u'boring', u'born', u'borrow', u'boss', u'boston', u'bot', u'bother', u'bothering', u'bottle', u'bought', u'bought\\xe5\\xf3braindance\\xe5\\xf3a', u'boundaries', u'bout', u'bowa', u'bowl', u'bowls', u'box', u'box1146', u'box139', u'box177', u'box245c2150pm', u'box326', u'box334', u'box334sk38ch', u'box385', u'box39822', u'box403', u'box420', u'box42wr29c', u'box434sk38wp150ppm18', u'box61', u'box95qu', u'box97n7qp', u'boy', u'boye', u'boyf', u'boyfriend', u'boys', u'boytoy', u'bpo', u'brah', u'brain', u'brainless', u'brains', u'brainy', u'brand', u'brandy', u'bras', u'brats', u'braved', u'bray', u'brb', u'brdget', u'bread', u'breadstick', u'break', u'breaker', u'breakfast', u'breakin', u'breaking', u'breaks', u'breath', u'breathe', u'breathe1', u'breather', u'breathing', u'breeze', u'breezy', u'bribe', u'bridal', u'bridge', u'bridgwater', u'brief', u'bright', u'brighten', u'brilliant', u'brilliantly', u'brin', u'bring', u'bringing', u'brings', u'brisk', u'brison', u'bristol', u'british', u'britney', u'bro', u'broad', u'broadband', u'broke', u'broken', u'brolly', u'bros', u'broth', u'brothas', u'brother', u'brothers', u'brought', u'brown', u'brownie', u'brownies', u'browse', u'browser', u'browsin', u'bruce', u'brum', u'bruv', u'bslvyl', u'bsn', u'bsnl', u'bstfrnd', u'bt', u'btw', u'btwn', u'bubbletext', u'bucks', u'bud', u'buddy', u'buddys', u'budget', u'buen', u'buff', u'buffet', u'buffy', u'bugis', u'build', u'building', u'built', u'bulbs', u'bull', u'bullshit', u'bunch', u'bundle', u'bunkers', u'buns', u'burden', u'burger', u'burgundy', u'burial', u'burn', u'burning', u'burns', u'burnt', u'burrito', u'bus', u'bus8', u'buses', u'busetop', u'business', u'busty', u'busy', u'butt', u'buttheres', u'butting', u'buttons', u'buy', u'buyer', u'buyers', u'buying', u'buzy', u'buzz', u'buzzzz', u'bw', u'bx', u'bx420', u'bx526', u'byatch', u'bye', u'by\\xe5\\xf3leafcutter', u'b\\xe5\\xf5day', u'c52', u'cab', u'cabin', u'cable', u'cafe', u'cage', u'cake', u'cakes', u'cal', u'calculated', u'calculation', u'cali', u'calicut', u'california', u'call09050000327', u'call2optout', u'callback', u'callcost', u'callcost150ppmmobilesvary', u'calld', u'called', u'caller', u'callers', u'callertune', u'callfreefone', u'callin', u'calling', u'callon', u'calls', u'calls1', u'calls\\xe5', u'calm', u'cam', u'camcorder', u'came', u'camera', u'camp', u'campus', u'camry', u'canada', u'canal', u'canary', u'cancel', u'canceled', u'cancelled', u'cancer', u'canlove', u'cann', u'canname', u'cantdo', u'canteen', u'can\\xe5\\xf5t', u'capacity', u'capital', u'cappuccino', u'caps', u'captain', u'captaining', u'car', u'card', u'cardiff', u'cardin', u'cards', u'care', u'careabout', u'cared', u'career', u'careers', u'careful', u'carefully', u'careless', u'cares', u'caring', u'carlie', u'carlin', u'carlos', u'carly', u'carolina', u'caroline', u'carpark', u'carry', u'carryin', u'cars', u'cartons', u'cartoon', u'case', u'cash', u'cashbin', u'cashed', u'cashto', u'casing', u'cast', u'casting', u'castor', u'casualty', u'cat', u'catch', u'catches', u'catching', u'categories', u'caught', u'cause', u'causes', u'causing', u'cave', u'caveboy', u'cbe', u'cc', u'cc100p', u'ccna', u'cd', u'cdgt', u'cds', u'cedar', u'ceiling', u'celeb', u'celebrate', u'celebrated', u'celebration', u'celebrations', u'cell', u'census', u'center', u'centre', u'century', u'cer', u'cereals', u'ceri', u'certainly', u'certificate', u'cha', u'chachi', u'chad', u'chain', u'challenge', u'challenging', u'champ', u'champlaxigating', u'champneys', u'chance', u'chances', u'change', u'changed', u'changes', u'changing', u'channel', u'chapel', u'chaps', u'chapter', u'character', u'characters', u'charge', u'charged', u'charges', u'charity', u'charles', u'charlie', u'charming', u'chart', u'charts', u'chase', u'chasing', u'chastity', u'chat', u'chat80155', u'chatlines', u'chatter', u'chatting', u'cheap', u'cheaper', u'cheat', u'cheating', u'chechi', u'check', u'checkboxes', u'checked', u'checkin', u'checking', u'checkmate', u'checkup', u'cheek', u'cheer', u'cheered', u'cheers', u'cheery', u'cheese', u'cheesy', u'cheetos', u'chef', u'chennai', u'cheque', u'cherish', u'cherthala', u'chess', u'chest', u'chex', u'cheyyamo', u'chez', u'chg', u'chgs', u'chic', u'chick', u'chicken', u'chickened', u'chief', u'chik', u'chikku', u'child', u'childish', u'childporn', u'children', u'childrens', u'chile', u'chill', u'chillaxin', u'chillin', u'china', u'chinatown', u'chinchillas', u'chinese', u'chinky', u'chinnu', u'chiong', u'chip', u'chit', u'chk', u'chloe', u'chocolate', u'choice', u'choices', u'choose', u'choosing', u'chop', u'chords', u'chores', u'chosen', u'chrgd', u'christ', u'christians', u'christmas', u'christmassy', u'chuck', u'chuckin', u'church', u'ciao', u'cine', u'cinema', u'citizen', u'city', u'citylink', u'cl', u'claim', u'claimcode', u'claims', u'claire', u'clarification', u'clarify', u'clark', u'clas', u'clash', u'class', u'classes', u'classic', u'classmates', u'claypot', u'cld', u'clean', u'cleaning', u'clear', u'cleared', u'clearer', u'clearing', u'clearly', u'clever', u'click', u'cliff', u'cliffs', u'clip', u'clock', u'clocks', u'clos1', u'close', u'closeby', u'closed', u'closer', u'closes', u'closingdate04', u'cloth', u'clothes', u'cloud', u'clover', u'club', u'club4', u'club4mobiles', u'clubmoby', u'clubsaisai', u'clubzed', u'clue', u'cm', u'cm2', u'cme', u'cmon', u'cn', u'cnl', u'cnn', u'cnupdates', u'coach', u'coast', u'coat', u'coaxing', u'coca', u'coccooning', u'cochin', u'cock', u'cocksuckers', u'coco', u'code', u'coffee', u'coherently', u'coimbatore', u'coin', u'coincidence', u'coins', u'cola', u'colany', u'cold', u'colin', u'collages', u'collapsed', u'colleagues', u'collect', u'collected', u'collecting', u'collection', u'colleg', u'college', u'color', u'colour', u'colourful', u'colours', u'com', u'com1win150ppmx3age16', u'com1win150ppmx3age16subscription', u'comb', u'combination', u'combine', u'come', u'comedy', u'comes', u'comfey', u'comfort', u'comin', u'coming', u'comingdown', u'command', u'comment', u'commercial', u'commit', u'common', u'community', u'como', u'comp', u'companies', u'companion', u'company', u'compare', u'compass', u'compensation', u'competition', u'complacent', u'complain', u'complaining', u'complaint', u'complementary', u'complete', u'completed', u'completely', u'completes', u'completing', u'complexities', u'complimentary', u'compliments', u'comprehensive', u'compromised', u'compulsory', u'computational', u'computer', u'computerless', u'computers', u'comuk', u'conacted', u'concentrate', u'concentrating', u'concentration', u'concern', u'concerned', u'concert', u'conclusion', u'condition', u'conditions', u'conducts', u'conected', u'conference', u'confidence', u'configure', u'confirm', u'confirmd', u'confirmed', u'conform', u'confused', u'confuses', u'congrats', u'congratulation', u'congratulations', u'connect', u'connected', u'connection', u'connections', u'cons', u'consensus', u'consent', u'conserve', u'consider', u'considering', u'consistently', u'console', u'constant', u'constantly', u'contact', u'contacted', u'contacts', u'contains', u'content', u'contented', u'contention', u'contents', u'continent', u'continue', u'continued', u'contract', u'contribute', u'control', u'convenience', u'conversations', u'converted', u'converter', u'convey', u'conveying', u'convince', u'convinced', u'convincing', u'cook', u'cooked', u'cookies', u'cooking', u'cool', u'cooped', u'cooperative', u'copied', u'copies', u'coping', u'cops', u'copy', u'corect', u'cornwall', u'corporation', u'corrct', u'correct', u'correction', u'correctly', u'corrupt', u'corvettes', u'cos', u'cosign', u'cost', u'costa', u'costing', u'costs', u'costume', u'costumes', u'cost\\xe5', u'couch', u'cougar', u'cough', u'coughing', u'coulda', u'couldn', u'couldn\\xe5\\xf5t', u'count', u'countin', u'countinlots', u'country', u'counts', u'coupla', u'couple', u'courage', u'courageous', u'course', u'court', u'courtroom', u'cousin', u'cover', u'coveragd', u'covers', u'coz', u'cozy', u'cps', u'cr', u'cr01327bt', u'cr9', u'crab', u'crack', u'craigslist', u'crammed', u'cramps', u'crap', u'crash', u'crashed', u'crashing', u'crave', u'craving', u'craziest', u'crazy', u'crazyin', u'crckt', u'cream', u'created', u'creative', u'creativity', u'credit', u'credited', u'credits', u'creep', u'creepy', u'cres', u'cribbs', u'cricket', u'cricketer', u'crickiting', u'cried', u'crisis', u'cro1327', u'crore', u'cross', u'crossing', u'crowd', u'croydon', u'crucial', u'crucify', u'cruel', u'cruise', u'cruisin', u'crushes', u'crying', u'cs', u'csbcm4235wc1n3xx', u'csc', u'csh11', u'cst', u'cstore', u'ctagg', u'ctargg', u'cthen', u'ctla', u'cts', u'cttargg', u'ctter', u'cttergg', u'ctxt', u'cuck', u'cud', u'cuddle', u'cuddled', u'cuddling', u'cudnt', u'culdnt', u'cultures', u'cum', u'cumin', u'cumming', u'cup', u'cupboard', u'cuppa', u'curfew', u'curious', u'current', u'currently', u'curry', u'curtsey', u'cusoon', u'cust', u'custcare', u'custom', u'customer', u'customercare', u'customers', u'customersqueries', u'cut', u'cute', u'cutefrnd', u'cutest', u'cutie', u'cutter', u'cutting', u'cuz', u'cw25wx', u'cya', u'cyclists', u'cysts', u'd3wv', u'da', u'daaaaa', u'dabbles', u'dabooks', u'dad', u'daddy', u'dads', u'dai', u'daily', u'dammit', u'damn', u'dan', u'dancce', u'dance', u'dancin', u'dancing', u'dane', u'dang', u'danger', u'dangerous', u'dao', u'dare', u'dark', u'darker', u'darkest', u'darkness', u'darlin', u'darling', u'darlings', u'darren', u'dartboard', u'das', u'dasara', u'dat', u'data', u'date', u'datebox1282essexcm61xn', u'dates', u'dating', u'dats', u'dave', u'dawns', u'day', u'days', u'daytime', u'daywith', u'db', u'dbuk', u'dd', u'dead', u'deal', u'dealer', u'dealing', u'deals', u'dear', u'dear1', u'dearer', u'dearly', u'death', u'debating', u'dec', u'decades', u'december', u'decent', u'decide', u'decided', u'deciding', u'decimal', u'decision', u'decisions', u'deck', u'decking', u'declare', u'decorating', u'dedicate', u'dedicated', u'deduct', u'deep', u'deepak', u'deepest', u'deer', u'deeraj', u'def', u'defeat', u'defer', u'deficient', u'definite', u'definitely', u'definitly', u'defo', u'degree', u'degrees', u'dehydrated', u'dehydration', u'del', u'delay', u'delayed', u'delete', u'deleted', u'delhi', u'delicious', u'deliver', u'delivered', u'deliveredtomorrow', u'delivery', u'deltomorrow', u'deluxe', u'dem', u'demand', u'den', u'dena', u'dengra', u'denis', u'dent', u'dental', u'dentist', u'dentists', u'deny', u'denying', u'department', u'dependable', u'dependents', u'depends', u'deposit', u'deposited', u'depressed', u'depression', u'dept', u'der', u'derek', u'derp', u'description', u'desert', u'deserve', u'designation', u'desires', u'desk', u'desparate', u'desparately', u'desperate', u'despite', u'dessert', u'destination', u'destiny', u'detailed', u'details', u'determine', u'determined', u'detroit', u'deus', u'develop', u'developed', u'developer', u'device', u'devils', u'devouring', u'dey', u'dha', u'dhanush', u'dhina', u'dhoni', u'dhorte', u'di', u'dial', u'dialling', u'dialogue', u'diamond', u'diamonds', u'diapers', u'dice', u'dick', u'dict', u'dictionary', u'did', u'diddy', u'didn', u'didnt', u'didntgive', u'didn\\xe5\\xf5t', u'die', u'died', u'diesel', u'diet', u'dieting', u'diff', u'differ', u'difference', u'differences', u'different', u'difficult', u'difficulties', u'dificult', u'digi', u'digital', u'digits', u'dignity', u'dileep', u'dime', u'dimension', u'din', u'dine', u'dined', u'dinero', u'ding', u'dining', u'dinner', u'dino', u'dint', u'dip', u'dippeditinadew', u'direct', u'directly', u'director', u'directors', u'dirt', u'dirtiest', u'dirty', u'dis', u'disagreeable', u'disappeared', u'disappointment', u'disaster', u'disasters', u'disastrous', u'disc', u'disclose', u'disconnect', u'disconnected', u'discount', u'discreet', u'discuss', u'discussed', u'diseases', u'disk', u'dislikes', u'dismay', u'dismissial', u'display', u'distance', u'distract', u'disturb', u'disturbance', u'disturbing', u'ditto', u'divert', u'division', u'divorce', u'diwali', u'dizzamn', u'dizzee', u'dl', u'dled', u'dlf', u'dload', u'dnot', u'dnt', u'dob', u'dobby', u'doc', u'dock', u'docks', u'docs', u'doctor', u'doctors', u'documents', u'dodda', u'dodgey', u'does', u'doesdiscount', u'doesn', u'doesnt', u'doesn\\xe5\\xf5t', u'dog', u'dogbreath', u'dogg', u'doggin', u'dogging', u'doggy', u'dogs', u'dogwood', u'doin', u'doinat', u'doing', u'doit', u'doke', u'dokey', u'doll', u'dollar', u'dollars', u'dolls', u'dom', u'domain', u'don', u'donate', u'donno', u'dont', u'dontcha', u'dontmatter', u'donyt', u'don\\xe5\\xf5t', u'dooms', u'door', u'doors', u'dorm', u'dormitory', u'dorothy', u'dose', u'dosomething', u'dot', u'double', u'doublemins', u'doubles', u'doubletxt', u'doubt', u'doug', u'dough', u'download', u'downloaded', u'downloads', u'downon', u'downs', u'downstem', u'dozens', u'dps', u'dr', u'dracula', u'drama', u'dramastorm', u'dramatic', u'drastic', u'draw', u'draws', u'dreading', u'dream', u'dreams', u'dreamz', u'dress', u'dressed', u'dresser', u'drink', u'drinkin', u'drinking', u'drinks', u'drivby', u'drive', u'driver', u'drivin', u'driving', u'drizzling', u'drms', u'drop', u'dropped', u'drops', u'drove', u'drpd', u'drug', u'drugdealer', u'drugs', u'drum', u'drunk', u'drunkard', u'drunken', u'drvgsto', u'dry', u'dryer', u'dsn', u'dt', u'dual', u'dub', u'dubsack', u'duchess', u'ducking', u'dude', u'dudes', u'dudette', u'duffer', u'dull', u'dumb', u'dump', u'dun', u'dungerees', u'dunno', u'duo', u'durban', u'durham', u'dusk', u'dust', u'duvet', u'dvd', u'dvg', u'dwn', u'dying', u'dysentry', u'e14', u'eachother', u'ear', u'earlier', u'earliest', u'early', u'earn', u'earning', u'ears', u'earth', u'easier', u'easiest', u'easily', u'east', u'eastenders', u'easter', u'easy', u'eat', u'eaten', u'eatin', u'eating', u'ebay', u'ec2a', u'echo', u'eckankar', u'ecstacy', u'ecstasy', u'ed', u'edge', u'edhae', u'edison', u'edition', u'edrunk', u'edu', u'education', u'educational', u'edukkukayee', u'edward', u'edwards', u'ee', u'eek', u'eerie', u'eerulli', u'effect', u'effects', u'efficient', u'efreefone', u'egbon', u'egg', u'eggs', u'ego', u'eh', u'eh74rr', u'eighth', u'eightish', u'eire', u'el', u'ela', u'elaborate', u'elaborating', u'elaine', u'elama', u'elaya', u'eldest', u'election', u'elections', u'electricity', u'elephant', u'elliot', u'ello', u'elvis', u'em', u'email', u'emailed', u'embarassed', u'embarassing', u'embarrassed', u'embassy', u'emc1', u'emergency', u'emerging', u'emigrated', u'emily', u'emotion', u'employee', u'employer', u'en', u'enc', u'end', u'ended', u'ending', u'endless', u'endowed', u'ends', u'enemies', u'enemy', u'energy', u'eng', u'engaged', u'engagement', u'engalnd', u'engin', u'england', u'english', u'enjoy', u'enjoyed', u'enjoyin', u'enjoying', u'enketa', u'enna', u'ennal', u'ente', u'enter', u'entered', u'enters', u'entertain', u'entertaining', u'entey', u'entire', u'entirely', u'entitled', u'entrepreneurs', u'entropication', u'entry', u'entry41', u'enufcredeit', u'enuff', u'envelope', u'environment', u'envy', u'epi', u'eppolum', u'epsilon', u'equally', u'er', u'ere', u'ericson', u'ericsson', u'erm', u'erode', u'erotic', u'err', u'error', u'errors', u'ertini', u'eruku', u'erupt', u'erutupalam', u'esaplanade', u'escalator', u'escape', u'ese', u'eshxxxxxxxxxxx', u'espe', u'especially', u'esplanade', u'essay', u'essential', u'establish', u'eta', u'ethnicity', u'etlp', u'ettans', u'euro', u'euro2004', u'eurodisinc', u'europe', u'evaluation', u'evaporated', u'eve', u'eveb', u'evening', u'evenings', u'event', u'events', u'eventually', u'every1', u'everybody', u'everyboy', u'everyday', u'everyones', u'everyso', u'everythin', u'everytime', u'evey', u'eviction', u'evil', u'evn', u'evng', u'evo', u'evone', u'evr', u'evrey', u'evry', u'evry1', u'evrydy', u'ew', u'ex', u'exact', u'exactly', u'exam', u'exams', u'excellent', u'exchanged', u'excited', u'exciting', u'excuse', u'excused', u'excuses', u'exe', u'executive', u'exercise', u'exeter', u'exhaust', u'exhausted', u'exhibition', u'exist', u'exmpel', u'exorcism', u'exorcist', u'exp', u'expect', u'expected', u'expecting', u'expects', u'expensive', u'experience', u'experiencehttp', u'experiment', u'expert', u'expired', u'expires', u'expiry', u'explain', u'explicit', u'explicitly', u'explosive', u'exposed', u'exposes', u'express', u'expression', u'expressoffer', u'ext', u'exterminator', u'extra', u'extract', u'extreme', u'ey', u'eye', u'eyed', u'eyes', u'e\\xe5', u'f4q', u'fa', u'fab', u'faber', u'face', u'facebook', u'facilities', u'fact', u'factory', u'facts', u'faded', u'faggot', u'faggy', u'faglord', u'failed', u'failing', u'fails', u'failure', u'fainting', u'fair', u'faith', u'fake', u'fakeye', u'fal', u'falconerf', u'fall', u'fallen', u'falling', u'falls', u'fals', u'famamus', u'familiar', u'family', u'famous', u'fan', u'fancied', u'fancies', u'fancy', u'fans', u'fantasies', u'fantastic', u'fantasy', u'far', u'farm', u'farrell', u'farting', u'fassyole', u'fast', u'faster', u'fastest', u'fat', u'fated', u'father', u'fathima', u'fats', u'fatty', u'fault', u'fav', u'fave', u'favor', u'favorite', u'favour', u'favourite', u'fb', u'fear', u'feathery', u'features', u'feb', u'february', u'fed', u'fedex', u'feed', u'feel', u'feelin', u'feeling', u'feellikw', u'feels', u'fees', u'feet', u'fell', u'fellow', u'felt', u'female', u'feng', u'festival', u'fetch', u'fetching', u'fever', u'ffectionate', u'fffff', u'ffffffffff', u'ffffuuuuuuu', u'fgkslpo', u'fgkslpopw', u'fidalfication', u'field', u'fieldof', u'fiend', u'fifa', u'fifth', u'fight', u'fighting', u'fightng', u'fights', u'figure', u'figures', u'figuring', u'file', u'files', u'filled', u'filling', u'fills', u'film', u'films', u'filth', u'filthy', u'filthyguys', u'final', u'finalise', u'finally', u'finance', u'financial', u'finding', u'finds', u'fine', u'finest', u'fingers', u'finish', u'finishd', u'finished', u'finishes', u'finishing', u'fink', u'finn', u'fired', u'firefox', u'fireplace', u'fires', u'firmware', u'firsg', u'fish', u'fishhead', u'fishrman', u'fit', u'fiting', u'fix', u'fixd', u'fixed', u'fixedline', u'fixes', u'fizz', u'flag', u'flaked', u'flaky', u'flame', u'flash', u'flat', u'flatter', u'flavour', u'flea', u'fletcher', u'flew', u'flies', u'flight', u'flights', u'flim', u'flip', u'flippin', u'flirt', u'flirting', u'flirtparty', u'floating', u'flood', u'floor', u'floppy', u'florida', u'flow', u'flower', u'flowers', u'flowing', u'fluids', u'flung', u'flurries', u'flute', u'fly', u'flying', u'flyng', u'fm', u'fml', u'fne', u'fo', u'fold', u'foley', u'folks', u'follow', u'followed', u'followin', u'following', u'follows', u'fond', u'fondly', u'fone', u'foned', u'fones', u'food', u'fool', u'fooled', u'fools', u'foot', u'football', u'footbl', u'footie', u'footprints', u'footy', u'force', u'forced', u'foregate', u'foreign', u'forever', u'forevr', u'forfeit', u'forget', u'forgets', u'forgive', u'forgiven', u'forgiveness', u'forgot', u'forgotten', u'forgt', u'form', u'formal', u'formally', u'format', u'formatting', u'forms', u'forth', u'fortune', u'forum', u'forums', u'forward', u'forwarded', u'forwarding', u'for\\xe5', u'fourth', u'foward', u'fowler', u'fox', u'fps', u'fr', u'fraction', u'fran', u'frank', u'frankie', u'franxx', u'franyxxxxx', u'frauds', u'freak', u'freaked', u'freaking', u'freaky', u'fredericksburg', u'free', u'free2day', u'freedom', u'freeentry', u'freefone', u'freek', u'freely', u'freemsg', u'freephone', u'freezing', u'fren', u'french', u'frens', u'frequently', u'fresh', u'freshers', u'fret', u'fri', u'friday', u'fridays', u'fridge', u'fried', u'friend', u'friends', u'friendsare', u'friendship', u'friendships', u'fring', u'fringe', u'frm', u'frnd', u'frnds', u'frndship', u'frndshp', u'frndsship', u'frndz', u'frnt', u'fro', u'frog', u'fromm', u'frontierville', u'frosty', u'frwd', u'frying', u'ft', u'fuck', u'fucked', u'fuckin', u'fucking', u'fuckinnice', u'fucks', u'fudge', u'fuelled', u'fujitsu', u'ful', u'fulfil', u'fullonsms', u'fumbling', u'fun', u'function', u'functions', u'fund', u'fundamentals', u'funeral', u'funk', u'funky', u'funny', u'funs', u'furniture', u'fusion', u'future', u'fuuuuck', u'fwiw', u'fyi', u'g2', u'g696ga', u'ga', u'gage', u'gail', u'gailxx', u'gain', u'gained', u'gal', u'galileo', u'gals', u'gam', u'gamb', u'game', u'games', u'gamestar', u'gandhipuram', u'ganesh', u'gang', u'gap', u'gaps', u'garage', u'garbage', u'garden', u'gardener', u'gari', u'garments', u'gary', u'gas', u'gastroenteritis', u'gate', u'gauge', u'gautham', u'gauti', u'gave', u'gay', u'gayle', u'gays', u'gaytextbuddy', u'gaze', u'gbp', u'gbp1', u'gbp4', u'gbp5', u'gd', u'ge', u'gee', u'geeee', u'geeeee', u'gei', u'gek1510', u'gender', u'general', u'generally', u'genes', u'genius', u'gent', u'gentle', u'gentleman', u'gently', u'genuine', u'genus', u'geoenvironmental', u'george', u'gep', u'ger', u'germany', u'get4an18th', u'getiing', u'geting', u'gets', u'getsleep', u'getstop', u'gettin', u'getting', u'getzed', u'gf', u'ghodbandar', u'ghost', u'gibbs', u'gibe', u'gift', u'gifted', u'gifts', u'giggle', u'gigolo', u'gimme', u'gimmi', u'gin', u'girl', u'girlfrnd', u'girlie', u'girls', u'gist', u'giv', u'given', u'gives', u'giving', u'glad', u'glands', u'glasgow', u'glass', u'glo', u'global', u'glorious', u'glory', u'gloucesterroad', u'gm', u'gmw', u'gn', u'gnarls', u'gnun', u'go2', u'go2sri', u'goal', u'goals', u'gobi', u'god', u'gods', u'goes', u'goggles', u'goigng', u'goin', u'goin2bed', u'going', u'gokila', u'gold', u'golddigger', u'golden', u'goldviking', u'golf', u'gon', u'gona', u'gone', u'gong', u'gonna', u'gonnamissu', u'good', u'goodevening', u'goodfriend', u'goodies', u'goodmate', u'goodmorning', u'goodnight', u'goodnite', u'goodnoon', u'goodo', u'goods', u'goodtime', u'google', u'gopalettan', u'gorgeous', u'gosh', u'goss', u'gossip', u'got', u'gota', u'gotany', u'gotbabes', u'gotmarried', u'goto', u'gotta', u'gotten', u'gotto', u'goverment', u'govt', u'gower', u'gprs', u'gpu', u'gr8', u'gr8fun', u'gr8prizes', u'grab', u'grace', u'graduated', u'grahmbell', u'gram', u'grams', u'gran', u'grand', u'grandfather', u'grandma', u'grandmas', u'granite', u'granted', u'graphics', u'grasp', u'grateful', u'grave', u'gravel', u'gravity', u'gravy', u'gray', u'grazed', u'gre', u'great', u'greatest', u'greatly', u'greatness', u'greece', u'green', u'greet', u'greeting', u'greetings', u'grief', u'grinder', u'grins', u'grinule', u'grl', u'grocers', u'grooved', u'groovy', u'groovying', u'ground', u'group', u'grow', u'growing', u'grown', u'grownup', u'grr', u'grumble', u'grumpy', u'gsex', u'gsoh', u'gt', u'gua', u'guai', u'guaranteed', u'gucci', u'gud', u'gudni8', u'gudnite', u'gudnyt', u'guess', u'guessed', u'guesses', u'guessin', u'guessing', u'guidance', u'guide', u'guides', u'guild', u'guilty', u'guitar', u'gumby', u'guoyang', u'gurl', u'gut', u'guy', u'guys', u'gv', u'gving', u'gym', u'gymnastics', u'gynae', u'gyno', u'ha', u'habba', u'habit', u'hack', u'hadn', u'haf', u'haha', u'hahaha', u'hai', u'hail', u'hair', u'haircut', u'hairdressers', u'haiyoh', u'haiz', u'half', u'half8th', u'hall', u'halla', u'hallaq', u'halloween', u'ham', u'hamper', u'hamster', u'hand', u'handed', u'handing', u'handle', u'hands', u'handset', u'handsome', u'handsomes', u'hang', u'hanger', u'hangin', u'hanging', u'hanks', u'hannaford', u'hanuman', u'hanumanji', u'happen', u'happend', u'happened', u'happenin', u'happening', u'happens', u'happier', u'happiest', u'happily', u'happiness', u'happy', u'hard', u'hardcore', u'harder', u'hardest', u'hardly', u'hari', u'harish', u'harlem', u'harri', u'harry', u'hasbro', u'hasn', u'hassling', u'hat', u'hate', u'hates', u'haughaighgtujhyguj', u'haul', u'haunt', u'hav', u'hava', u'haven', u'havent', u'haventcn', u'haven\\xe5\\xf5t', u'havin', u'having', u'havn', u'havnt', u'hcl', u'hdd', u'head', u'headache', u'headin', u'heading', u'heads', u'headset', u'headstart', u'heal', u'healer', u'healthy', u'heap', u'hear', u'heard', u'hearin', u'hearing', u'heart', u'hearted', u'hearts', u'heat', u'heater', u'heaven', u'heavily', u'heavy', u'hectic', u'hee', u'heehee', u'height', u'held', u'helen', u'helens', u'hell', u'hella', u'hello', u'hellogorgeous', u'helloooo', u'help', u'help08700621170150p', u'help08714742804', u'help08718728876', u'helpful', u'helping', u'helpline', u'helps', u'heltini', u'hen', u'henry', u'hep', u'hero', u'heroes', u'heron', u'hes', u'hesitant', u'hesitate', u'hesitation', u'hex', u'hey', u'he\\xe5\\xf5s', u'hf8', u'hg', u'hhahhaahahah', u'hi', u'hidden', u'hide', u'hides', u'hiding', u'high', u'highest', u'hilarious', u'hill', u'hills', u'hillsborough', u'himso', u'hint', u'hip', u'hiphop', u'hire', u'history', u'hit', u'hitler', u'hitman', u'hits', u'hitter', u'hittng', u'hiya', u'hl', u'hlday', u'hlp', u'hm', u'hme', u'hmm', u'hmmm', u'hmmmm', u'hmmross', u'hmph', u'hmv', u'hmv1', u'ho', u'hockey', u'hogidhe', u'hogli', u'hogolo', u'hol', u'holby', u'hold', u'holder', u'holding', u'hole', u'holiday', u'holla', u'hollalater', u'hols', u'holy', u'home', u'homeowners', u'hon', u'honest', u'honestly', u'honesty', u'honey', u'honeybee', u'honeymoon', u'honi', u'hont', u'hoo', u'hooch', u'hoody', u'hook', u'hooked', u'hoops', u'hop', u'hope', u'hoped', u'hopeful', u'hopefully', u'hopeing', u'hopes', u'hopeu', u'hoping', u'hor', u'horniest', u'horny', u'horo', u'horrible', u'horse', u'hos', u'hospital', u'hospitals', u'host', u'hostel', u'hostile', u'hot', u'hotel', u'hotels', u'hotmail', u'hotmix', u'hottest', u'hour', u'hourish', u'hours', u'house', u'houseful', u'housewives', u'housework', u'housing', u'howard', u'howda', u'howdy', u'hows', u'howz', u'hp', u'hp20', u'hppnss', u'hr', u'hrishi', u'hrs', u'hsbc', u'html', u'http', u'hu', u'huai', u'hubby', u'hudgi', u'hug', u'huge', u'hugging', u'hugh', u'hugs', u'huh', u'hui', u'huiming', u'hum', u'humanities', u'humans', u'hun', u'hundreds', u'hungover', u'hungry', u'hunks', u'hunny', u'hunt', u'hunting', u'hurricanes', u'hurried', u'hurry', u'hurt', u'hurting', u'hurts', u'husband', u'hussey', u'hustle', u'hut', u'hv', u'hv9d', u'hvae', u'hw', u'hyde', u'hype', u'hypertension', u'hypotheticalhuagauahahuagahyuhagga', u'iam', u'ias', u'ibh', u'ibhltd', u'ibiza', u'ibm', u'ibn', u'ibored', u'ibuprofens', u'ic', u'iccha', u'ice', u'icic', u'icicibank', u'icky', u'icmb3cktz8r7', u'icon', u'id', u'idc', u'idea', u'ideal', u'ideas', u'identification', u'identifier', u'idew', u'idiot', u'idk', u'idps', u'idu', u'iff', u'ifink', u'ig11', u'ignorant', u'ignore', u'ignoring', u'ihave', u'ijust', u'ikea', u'ikno', u'iknow', u'il', u'ileave', u'ill', u'illness', u'ilol', u'im', u'image', u'images', u'imagination', u'imagine', u'imat', u'imf', u'img', u'imin', u'imma', u'immed', u'immediately', u'immunisation', u'imp', u'impatient', u'impede', u'implications', u'important', u'importantly', u'imposed', u'impossible', u'imposter', u'impress', u'impressed', u'impression', u'impressively', u'improve', u'improved', u'imprtant', u'in2', u'inch', u'inches', u'incident', u'inclu', u'include', u'includes', u'including', u'inclusive', u'incomm', u'inconsiderate', u'inconvenience', u'inconvenient', u'incorrect', u'increase', u'incredible', u'increments', u'inde', u'independence', u'independently', u'index', u'india', u'indian', u'indians', u'indicate', u'individual', u'indyarocks', u'inever', u'infact', u'infections', u'infernal', u'influx', u'info', u'inform', u'information', u'informed', u'infra', u'infront', u'ing', u'ingredients', u'initiate', u'ink', u'inlude', u'inmind', u'inner', u'innings', u'innocent', u'innu', u'inperialmusic', u'inpersonation', u'inr', u'insects', u'insha', u'inshah', u'inside', u'inspection', u'inst', u'install', u'installation', u'installing', u'instant', u'instantly', u'instead', u'instituitions', u'instructions', u'insurance', u'intelligent', u'intend', u'intention', u'intentions', u'interested', u'interesting', u'interflora', u'interfued', u'internal', u'internet', u'interview', u'interviews', u'interviw', u'intha', u'intrepid', u'intro', u'intrude', u'invaders', u'invention', u'invest', u'investigate', u'invitation', u'invite', u'invited', u'inviting', u'invnted', u'invoices', u'involve', u'involved', u'iouri', u'ip', u'ip4', u'ipad', u'ipaditan', u'ipads', u'iphone', u'ipod', u'iq', u'iraq', u'irene', u'iriver', u'iron', u'ironing', u'irritated', u'irritates', u'irritating', u'irritation', u'irulinae', u'isaiah', u'iscoming', u'ish', u'ishtamayoo', u'island', u'islands', u'isn', u'isnt', u'isn\\xe5\\xf5t', u'issue', u'issues', u'italian', u'itcould', u'items', u'iter', u'itna', u'itried2tell', u'itwhichturnedinto', u'itxt', u'itz', u'it\\xe5\\xf5s', u'ivatte', u'ive', u'iwana', u'iwas', u'iyo', u'iz', u'izzit', u'i\\xe5\\xf5d', u'i\\xe5\\xf5llspeak', u'i\\xe5\\xf5m', u'i\\xe5\\xf5ve', u'j5q', u'j89', u'jabo', u'jack', u'jacket', u'jackpot', u'jackson', u'jacuzzi', u'jada', u'jade', u'jaklin', u'jam', u'james', u'jamster', u'jamz', u'jan', u'janarige', u'jane', u'janinexx', u'january', u'janx', u'jap', u'japanese', u'jas', u'jason', u'java', u'jay', u'jaya', u'jaykwon', u'jaz', u'jazz', u'jb', u'jd', u'je', u'jealous', u'jeans', u'jeetey', u'jeevithathile', u'jelly', u'jen', u'jenne', u'jenny', u'jeremiah', u'jeri', u'jerk', u'jerry', u'jersey', u'jess', u'jesus', u'jet', u'jetton', u'jewelry', u'jez', u'ji', u'jia', u'jiayin', u'jide', u'jiu', u'jjc', u'jo', u'joanna', u'job', u'jobs', u'jocks', u'jod', u'jog', u'jogging', u'john', u'john\\xe5\\xf3', u'join', u'joined', u'joining', u'joke', u'joker', u'jokes', u'jokin', u'joking', u'jolly', u'jolt', u'jon', u'jones', u'jontin', u'jordan', u'jorge', u'jos', u'jot', u'journey', u'joy', u'joys', u'jp', u'js', u'jsco', u'jst', u'jstfrnd', u'jsut', u'juan', u'judgemental', u'juicy', u'jul', u'jules', u'juliana', u'julianaland', u'july', u'jump', u'jumpers', u'june', u'jungle', u'junna', u'jurong', u'jus', u'just', u'justbeen', u'justfound', u'justify', u'juswoke', u'juz', u'k52', u'k61', u'k718', u'kaaj', u'kadeem', u'kaiez', u'kaila', u'kaitlyn', u'kalaachutaarama', u'kalainar', u'kalisidare', u'kallis', u'kalstiya', u'kama', u'kanagu', u'kane', u'kanji', u'kano', u'kappa', u'karaoke', u'karnan', u'karo', u'kate', u'katexxx', u'kath', u'kavalan', u'kay', u'kaypoh', u'kb', u'ke', u'keen', u'keeping', u'keeps', u'kegger', u'keluviri', u'ken', u'kent', u'kept', u'kerala', u'keralacircle', u'keris', u'kettoda', u'key', u'keypad', u'keys', u'keyword', u'kfc', u'kg', u'khelate', u'ki', u'kicchu', u'kick', u'kickboxing', u'kickoff', u'kicks', u'kid', u'kidding', u'kids', u'kidz', u'kiefer', u'kill', u'killed', u'killing', u'kills', u'kilos', u'kind', u'kinda', u'kindly', u'king', u'kingdom', u'kintu', u'kiosk', u'kip', u'kisi', u'kiss', u'kisses', u'kissing', u'kit', u'kittum', u'kitty', u'kl341', u'knackered', u'knee', u'knees', u'knew', u'knickers', u'knock', u'knocking', u'know', u'knowing', u'known', u'knows', u'knw', u'ko', u'kochi', u'kodstini', u'kodthini', u'kolathupalayam', u'konw', u'korche', u'korean', u'korli', u'korte', u'kotees', u'kothi', u'kr', u'ktv', u'kuch', u'kudi', u'kusruthi', u'kvb', u'kz', u'l8', u'l8er', u'l8r', u'l8rs', u'l8tr', u'la', u'la1', u'la3', u'la32wu', u'lab', u'labor', u'lac', u'lacking', u'lacs', u'laden', u'ladies', u'lady', u'lag', u'lage', u'lager', u'laid', u'lakhs', u'lambda', u'lambu', u'lamp', u'lancaster', u'land', u'landing', u'landline', u'landlineonly', u'landlines', u'landmark', u'lands', u'lane', u'langport', u'language', u'lanka', u'lanre', u'lap', u'lapdancer', u'laptop', u'lar', u'lara', u'laready', u'large', u'largest', u'lark', u'lasagna', u'lastest', u'lasting', u'late', u'lately', u'latelyxxx', u'later', u'latest', u'latests', u'latr', u'laugh', u'laughed', u'laughing', u'laughs', u'laundry', u'laurie', u'lautech', u'lavender', u'law', u'laxinorficated', u'lay', u'laying', u'lays', u'lazy', u'lccltd', u'ld', u'ldew', u'ldn', u'ldnw15h', u'le', u'lead', u'leadership', u'leading', u'leads', u'leaf', u'league', u'leanne', u'learn', u'learned', u'least5times', u'leave', u'leaves', u'leaving', u'lect', u'lecture', u'lecturer', u'left', u'leftovers', u'leg', u'legal', u'legitimat', u'legs', u'leh', u'lei', u'lekdog', u'lemme', u'length', u'lengths', u'lennon', u'leo', u'leona', u'leonardo', u'les', u'lesser', u'lesson', u'lessons', u'let', u'lets', u'letter', u'letters', u'level', u'lf56', u'li', u'liao', u'lib', u'libertines', u'library', u'lick', u'licks', u'lido', u'lie', u'lies', u'life', u'lifebook', u'lifeis', u'lifetime', u'lifpartnr', u'lift', u'lifted', u'lifting', u'light', u'lighters', u'lightly', u'lik', u'like', u'liked', u'likely', u'likes', u'likeyour', u'liking', u'lil', u'lily', u'lim', u'limit', u'limited', u'limiting', u'limits', u'limping', u'lindsay', u'line', u'linear', u'lined', u'linerental', u'lines', u'lingerie', u'lingo', u'link', u'links', u'linux', u'lion', u'lionm', u'lionp', u'lions', u'lip', u'lipo', u'lips', u'liquor', u'list', u'listed', u'listen', u'listened2the', u'listener', u'listening', u'listening2the', u'listn', u'lists', u'lit', u'literally', u'litres', u'little', u'live', u'lived', u'liver', u'liverpool', u'lives', u'living', u'lk', u'lkpobox177hp51fl', u'll', u'llc', u'lmao', u'lnly', u'lo', u'load', u'loads', u'loan', u'loans', u'lobby', u'local', u'location', u'locations', u'locaxx', u'lock', u'locks', u'lodge', u'lodging', u'log', u'logged', u'logging', u'login', u'logo', u'logoff', u'logon', u'logos', u'loko', u'lol', u'lolnice', u'lololo', u'londn', u'london', u'loneliness', u'lonely', u'long', u'longer', u'lonlines', u'loo', u'look', u'lookatme', u'looked', u'lookin', u'looking', u'looks', u'lool', u'loooooool', u'looovvve', u'loose', u'loosing', u'loosu', u'lor', u'lord', u'lose', u'losers', u'loses', u'losing', u'loss', u'lost', u'lot', u'lotr', u'lots', u'lotsly', u'lotta', u'lotto', u'lotz', u'lou', u'loud', u'lounge', u'lousy', u'lov', u'lovable', u'love', u'loved', u'lovejen', u'lovely', u'loveme', u'lover', u'loverboy', u'lovers', u'loves', u'lovin', u'loving', u'lovingly', u'lovly', u'low', u'lower', u'lowes', u'loxahatchee', u'loyal', u'loyalty', u'ls1', u'ls15hb', u'ls278bb', u'lst', u'lt', u'ltdhelpdesk', u'lttrs', u'lubly', u'luck', u'luckily', u'lucky', u'lucozade', u'lucy', u'lucyxx', u'luks', u'lul', u'lunch', u'lunchtime', u'lunsford', u'lush', u'luton', u'luv', u'luvd', u'luvs', u'lux', u'luxury', u'lv', u'lvblefrnd', u'lyf', u'lyfu', u'lying', u'lyk', u'lyricalladie', u'lyrics', u'm100', u'm221bp', u'm227xy', u'm26', u'm263uz', u'm39m51', u'm6', u'm60', u'm8', u'm8s', u'm95', u'ma', u'maaaan', u'maangalyam', u'maat', u'mac', u'macedonia', u'macha', u'machan', u'machi', u'machines', u'macho', u'mack', u'macleran', u'macs', u'mad', u'mad1', u'mad2', u'madam', u'madodu', u'madoke', u'madstini', u'madurai', u'mag', u'maga', u'magazine', u'maggi', u'magic', u'magical', u'magicalsongs', u'mah', u'mahal', u'mahaveer', u'mahfuuz', u'maid', u'mail', u'mailbox', u'mailed', u'mails', u'main', u'maintain', u'maintaining', u'major', u'make', u'makes', u'makiing', u'makin', u'making', u'malaria', u'malarky', u'male', u'mall', u'mallika', u'man', u'manage', u'manageable', u'managed', u'management', u'manchester', u'manda', u'mandan', u'mandara', u'mandy', u'maneesha', u'manege', u'mango', u'maniac', u'manky', u'manual', u'map', u'mapquest', u'maps', u'maraikara', u'marandratha', u'march', u'maretare', u'margaret', u'margin', u'marine', u'mark', u'market', u'marketing', u'marking', u'marley', u'marrge', u'marriage', u'married', u'marry', u'marsms', u'maruti', u'marvel', u'mary', u'mas', u'masked', u'massage', u'massages', u'massive', u'masteriastering', u'masters', u'mat', u'match', u'matched', u'matches', u'mate', u'mates', u'math', u'mathe', u'mathematics', u'mathews', u'maths', u'matra', u'matric', u'matrix3', u'matter', u'matters', u'matthew', u'matured', u'maturity', u'max', u'max10mins', u'max6', u'maximize', u'maximum', u'max\\xe5', u'mayb', u'maybe', u'mb', u'mc', u'mca', u'mcat', u'mcfly', u'mcr', u'meal', u'meals', u'mean', u'meaning', u'meaningful', u'meaningless', u'means', u'meant', u'measure', u'meat', u'meatballs', u'mecause', u'med', u'medical', u'medicine', u'meds', u'mee', u'meet', u'meetin', u'meeting', u'meetins', u'meets', u'meg', u'mega', u'meh', u'mei', u'meive', u'mel', u'melle', u'melnite', u'melody', u'melt', u'member', u'members', u'membership', u'memorable', u'memories', u'memory', u'men', u'mens', u'mental', u'mention', u'mentioned', u'mentionned', u'mentor', u'menu', u'meow', u'merely', u'merememberin', u'merry', u'mesages', u'mess', u'message', u'messaged', u'messages', u'messaging', u'messed', u'messenger', u'messy', u'met', u'method', u'mf', u'mfl', u'mgs', u'mi', u'mia', u'michael', u'mid', u'middle', u'midnight', u'mids', u'miiiiiiissssssssss', u'mike', u'mila', u'mileage', u'miles', u'milk', u'millers', u'million', u'millions', u'milta', u'min', u'mina', u'minapn', u'mind', u'minded', u'mindset', u'minecraft', u'mini', u'minimum', u'minmobsmore', u'minmobsmorelkpobox177hp51fl', u'minmoremobsemspobox45po139wa', u'minnaminunginte', u'minor', u'mins', u'mint', u'minus', u'minute', u'minutes', u'minuts', u'miracle', u'mirror', u'mis', u'misbehaved', u'miserable', u'misfits', u'mising', u'misplaced', u'miss', u'misscall', u'missed', u'missin', u'missing', u'missionary', u'missions', u'misss', u'missunderstding', u'missy', u'mist', u'mistake', u'mistakes', u'misundrstud', u'mite', u'mitsake', u'mittelschmertz', u'miwa', u'mix', u'mj', u'mjzgroup', u'mk45', u'ml', u'mm', u'mmm', u'mmmm', u'mmmmm', u'mmmmmm', u'mmmmmmm', u'mmsto', u'mns', u'mnth', u'mnths', u'mo', u'moan', u'mob', u'mobcudb', u'mobile', u'mobiles', u'mobilesdirect', u'mobilesvary', u'mobileupd8', u'mobno', u'mobs', u'mobsi', u'mobstorequiz10ppm', u'moby', u'mobypobox734ls27yf', u'mode', u'model', u'modl', u'module', u'modules', u'mofo', u'moji', u'mojibiola', u'mokka', u'molested', u'mom', u'moment', u'moments', u'moms', u'mon', u'monday', u'mone', u'money', u'monkeespeople', u'monkey', u'monkeyaround', u'monkeys', u'mono', u'monoc', u'monos', u'monster', u'month', u'monthly', u'monthlysubscription', u'months', u'mood', u'moon', u'moral', u'morefrmmob', u'morn', u'mornin', u'morning', u'mornings', u'morphine', u'moseley', u'mother', u'motherfucker', u'motivate', u'motivating', u'motive', u'motor', u'motorola', u'mountain', u'mountains', u'mouse', u'mouth', u'moved', u'moves', u'movie', u'movies', u'movietrivia', u'moving', u'mp3', u'mquiz', u'mr', u'mre', u'mrng', u'mrt', u'ms', u'msg', u'msg150p', u'msging', u'msgrcvd', u'msgrcvd18', u'msgrcvdhg', u'msgs', u'msn', u'mt', u'mtalk', u'mth', u'mths', u'mtmsg', u'mtmsg18', u'mtmsgrcvd18', u'mtnl', u'mu', u'muah', u'muchand', u'muchxxlove', u'mudyadhu', u'mufti', u'muhommad', u'muht', u'multimedia', u'multiply', u'multis', u'mum', u'mumbai', u'mumhas', u'mummy', u'mums', u'mumtaz', u'mundhe', u'munsters', u'murali', u'murder', u'murdered', u'murderer', u'mus', u'mush', u'mushy', u'music', u'musical', u'musicnews', u'musta', u'musthu', u'mustprovide', u'mutai', u'mutations', u'muz', u'mw', u'mwahs', u'mylife', u'mymoby', u'myparents', u'mys', u'myspace', u'mystery', u'n8', u'n9dx', u'na', u'naal', u'nachos', u'nag', u'nagar', u'nah', u'nahi', u'nails', u'naked', u'nalla', u'nalli', u'name1', u'name2', u'named', u'names', u'nammanna', u'namous', u'nan', u'nange', u'nanny', u'nannys', u'nap', u'narcotics', u'nasdaq', u'naseeb', u'nasty', u'nat', u'nat27081980', u'natalie', u'natalie2k9', u'natalja', u'national', u'nationwide', u'nattil', u'natural', u'nature', u'natwest', u'naughty', u'nauseous', u'nav', u'navigate', u'nb', u'nbme', u'nd', u'ndship', u'ne', u'near', u'nearby', u'nearer', u'nearly', u'necesity', u'necessarily', u'necessary', u'necessity', u'neck', u'necklace', u'ned', u'need', u'needa', u'needed', u'needing', u'needle', u'needs', u'needy', u'neekunna', u'neft', u'negative', u'neglect', u'neglet', u'neighbor', u'neighbors', u'neighbour', u'nelson', u'neo69', u'nervous', u'neshanth', u'net', u'netcollex', u'netflix', u'nething', u'netun', u'netvision', u'network', u'networking', u'networks', u'neva', u'nevering', u'neville', u'nevr', u'new', u'neway', u'newest', u'newport', u'newquay', u'news', u'newscaster', u'newsletter', u'newspapers', u'nhs', u'ni8', u'nic', u'nice', u'nichols', u'nick', u'nickey', u'nicky', u'nig', u'nigeria', u'nigh', u'night', u'nighters', u'nightnight', u'nights', u'nigpun', u'nigro', u'nike', u'nikiyu4', u'nimbomsons', u'nimya', u'ninish', u'nino', u'nipost', u'nit', u'nite', u'nitro', u'nitros', u'nitw', u'nitz', u'njan', u'nmde', u'no1', u'nobbing', u'noe', u'noice', u'noise', u'noisy', u'noi\\xe5\\xf5m', u'nok', u'nokia', u'nokia6600', u'nokia6650', u'nokias', u'noline', u'non', u'noncomittal', u'nonetheless', u'nookii', u'noon', u'nooooooo', u'noooooooo', u'nope', u'nora', u'norcorp', u'nordstrom', u'norm', u'norm150p', u'normal', u'normally', u'north', u'northampton', u'nos', u'nose', u'nosh', u'nosy', u'note', u'notebook', u'notes', u'nothin', u'notice', u'notifications', u'notified', u'notixiquating', u'nottingham', u'notxt', u'noun', u'novelty', u'november', u'now1', u'nowadays', u'noworriesloans', u'nr31', u'nri', u'nt', u'nte', u'ntimate', u'ntt', u'ntwk', u'nuclear', u'nudist', u'nuerologist', u'num', u'number', u'numbers', u'nursery', u'nurses', u'nurungu', u'nus', u'nusstu', u'nuther', u'nutter', u'nver', u'nvm', u'nvq', u'nw', u'nxt', u'ny', u'nyc', u'nydc', u'nyt', u'nz', u'n\\xec\\xe2te', u'o2', u'o2fwd', u'oath', u'obedient', u'obese', u'obey', u'objection', u'oble', u'oblisingately', u'oblivious', u'obviously', u'occasion', u'occupied', u'occupy', u'occur', u'occurs', u'ocean', u'oclock', u'october', u'odalebeku', u'odi', u'ofcourse', u'offc', u'offcampus', u'offense', u'offer', u'offered', u'offering', u'offers', u'office', u'officer', u'official', u'officially', u'offline', u'ofice', u'ofsi', u'ofstuff', u'of\\xe5', u'oga', u'ogunrinde', u'oh', u'oi', u'oic', u'oil', u'oja', u'ok', u'okay', u'okday', u'okden', u'okey', u'okie', u'okies', u'okmail', u'okors', u'ola', u'olage', u'olave', u'olayiwola', u'old', u'oli', u'ollu', u'olol', u'olowoyey', u'olympics', u'omg', u'omw', u'onam', u'onbus', u'oncall', u'ondu', u'ones', u'oni', u'onion', u'online', u'onluy', u'only1more', u'onlyfound', u'onum', u'onwards', u'onwords', u'ooh', u'oooh', u'oooooh', u'ooooooh', u'oops', u'open', u'opened', u'opener', u'openin', u'opening', u'openings', u'operate', u'operator', u'opinion', u'opinions', u'opponenter', u'opportunity', u'opposed', u'opposite', u'opps', u'opt', u'opted', u'optimistic', u'optin', u'option', u'optout', u'or2optout', u'or2stoptxt', u'oral', u'orange', u'oranges', u'orc', u'orchard', u'order', u'ordered', u'ore', u'oredi', u'oreo', u'oreos', u'org', u'organise', u'organizer', u'orh', u'orig', u'original', u'orno', u'ors', u'ortxt', u'oru', u'os', u'oscar', u'oso', u'otbox', u'othrs', u'othrwise', u'otside', u'ou', u'ouch', u'ourbacks', u'outage', u'outages', u'outbid', u'outdoors', u'outfit', u'outfor', u'outgoing', u'outl8r', u'outrageous', u'outreach', u'outs', u'outside', u'outsider', u'outstanding', u'outta', u'ovarian', u'oveable', u'overa', u'overdid', u'overdose', u'overemphasise', u'overheating', u'overtime', u'ovr', u'ovulate', u'ovulation', u'ow', u'owe', u'owed', u'owl', u'owned', u'owns', u'owo', u'oxygen', u'oyea', u'oyster', u'oz', u'pa', u'paces', u'pack', u'package', u'packing', u'packs', u'padhe', u'page', u'pages', u'pai', u'paid', u'pain', u'painful', u'paining', u'painting', u'pairs', u'pale', u'palm', u'pan', u'panalam', u'panasonic', u'pandy', u'panic', u'panicks', u'panren', u'pansy', u'panther', u'panties', u'pants', u'pap', u'papa', u'paper', u'papers', u'paperwork', u'paracetamol', u'parachute', u'parade', u'paragon', u'paragraphs', u'paranoid', u'parantella', u'parchi', u'parco', u'parent', u'parents', u'paris', u'parish', u'park', u'parked', u'parkin', u'parking', u'participate', u'particular', u'particularly', u'parties', u'partner', u'partnership', u'parts', u'party', u'paru', u'pases', u'pass', u'passable', u'passed', u'passes', u'passion', u'passionate', u'passport', u'password', u'passwords', u'past', u'pataistha', u'patent', u'path', u'pathaya', u'paths', u'patients', u'patrick', u'pattern', u'patty', u'paul', u'pause', u'pavanaputra', u'pax', u'pay', u'payasam', u'payback', u'payed', u'payee', u'paying', u'payment', u'payments', u'payoh', u'paypal', u'pc', u'pc1323', u'pdate_now', u'peace', u'peaceful', u'peach', u'peak', u'pears', u'pee', u'peeps', u'pehle', u'pei', u'pen', u'pence', u'pendent', u'pending', u'penis', u'penny', u'people', u'peoples', u'percent', u'percentages', u'perf', u'perfect', u'perform', u'performance', u'performed', u'perfume', u'peril', u'period', u'peripherals', u'permanent', u'permission', u'permissions', u'perpetual', u'persevered', u'persian', u'persolvo', u'person', u'person2die', u'personal', u'personality', u'personally', u'persons', u'perspective', u'pert', u'perumbavoor', u'pesky', u'pest', u'pete', u'petey', u'petrol', u'petticoatdreams', u'pg', u'ph', u'pharmacy', u'phasing', u'phb1', u'phd', u'phews', u'phil', u'philosophical', u'philosophy', u'phne', u'phoenix', u'phone', u'phone750', u'phonebook', u'phoned', u'phones', u'phony', u'photo', u'photos', u'photoshop', u'php', u'phrase', u'phyhcmk', u'physics', u'piah', u'pic', u'pick', u'picked', u'picking', u'pickle', u'pics', u'picsfree1', u'picture', u'pictures', u'pie', u'piece', u'pieces', u'pierre', u'pig', u'piggy', u'pilates', u'pile', u'pillows', u'pimples', u'pin', u'pink', u'pints', u'pisces', u'piss', u'pissed', u'pist', u'pity', u'pix', u'pixels', u'pizza', u'pl', u'place', u'placed', u'placement', u'places', u'plaid', u'plan', u'plane', u'planet', u'planettalkinstant', u'planned', u'planning', u'plans', u'plate', u'platt', u'play', u'played', u'player', u'players', u'playin', u'playing', u'playng', u'plaza', u'pleasant', u'pleased', u'pleassssssseeeeee', u'pleasure', u'pleasured', u'plenty', u'plm', u'ploughing', u'pls', u'plum', u'plumbers', u'plumbing', u'plural', u'plus', u'plyr', u'plz', u'pm', u'pmt', u'po', u'po19', u'pobox', u'pobox1', u'pobox114', u'pobox12n146tf15', u'pobox12n146tf150p', u'pobox202', u'pobox334', u'pobox36504w45wq', u'pobox365o4w45wq', u'pobox45w2tg150p', u'pobox75ldns7', u'pobox84', u'poboxox36504w45wq', u'pocay', u'pocked', u'pocketbabe', u'pockets', u'pocy', u'pod', u'poem', u'poet', u'point', u'points', u'poker', u'poking', u'pokkiri', u'pole', u'police', u'politicians', u'polo', u'poly', u'poly3', u'polyc', u'polyh', u'polyph', u'polyphonic', u'polys', u'pongal', u'ponnungale', u'poo', u'pooja', u'pookie', u'pool', u'poop', u'poor', u'poorly', u'poortiyagi', u'pop', u'popcorn', u'popped', u'popping', u'porn', u'porridge', u'port', u'portal', u'portege', u'pos', u'pose', u'posh', u'posible', u'position', u'positions', u'positive', u'possession', u'possessive', u'possessiveness', u'possibility', u'possible', u'possibly', u'post', u'postal', u'postcard', u'postcode', u'posted', u'posting', u'postponed', u'posts', u'potato', u'potential', u'potter', u'pouch', u'pound', u'pounded', u'pounds', u'poured', u'pours', u'pouts', u'power', u'powerful', u'poyyarikatur', u'ppl', u'pple', u'ppm', u'ppm150', u'ppt150x3', u'prabha', u'prabu', u'pract', u'practical', u'practice', u'practicing', u'practicum', u'practising', u'praises', u'prakasam', u'prakasamanu', u'prakesh', u'praps', u'prasad', u'prasanth', u'prashanthettan', u'praveesh', u'pray', u'prayers', u'praying', u'prayrs', u'pre', u'predict', u'predicte', u'predicting', u'prediction', u'predictive', u'prefer', u'preferably', u'prem', u'premarica', u'premier', u'premium', u'prepaid', u'prepare', u'prepared', u'prepayment', u'preponed', u'prescribed', u'prescripiton', u'prescription', u'presence', u'present', u'presents', u'president', u'presleys', u'presnts', u'press', u'pressies', u'pressure', u'prestige', u'pretend', u'pretsorginta', u'pretsovru', u'pretty', u'prevent', u'previews', u'previous', u'previously', u'prey', u'price', u'prices', u'pride', u'priest', u'prin', u'prince', u'princes', u'princess', u'print', u'printed', u'printer', u'printing', u'prior', u'priority', u'priscilla', u'privacy', u'private', u'prix', u'priya', u'prize', u'prizeawaiting', u'prizes', u'prizeswith', u'pro', u'prob', u'probably', u'problem', u'problematic', u'problems', u'problms', u'problum', u'probs', u'probthat', u'process', u'processed', u'prods', u'products', u'prof', u'professional', u'professors', u'profile', u'profiles', u'profit', u'program', u'programs', u'progress', u'project', u'projects', u'prolly', u'prometazine', u'prominent', u'promise', u'promised', u'promises', u'promo', u'promoting', u'promotion', u'promptly', u'prompts', u'prone', u'proof', u'proove', u'proper', u'properly', u'property', u'propose', u'props', u'propsd', u'pros', u'prospects', u'protect', u'proverb', u'provided', u'provider', u'providing', u'province', u'proze', u'prsn', u'ps', u'ps3', u'pshew', u'psp', u'psychiatrist', u'psychic', u'psychologist', u'pt2', u'ptbo', u'pthis', u'pub', u'public', u'publish', u'pubs', u'pudunga', u'pull', u'pulling', u'pulls', u'pump', u'punch', u'punish', u'punishment', u'punj', u'punto', u'puppy', u'pura', u'purchase', u'purchases', u'pure', u'purity', u'purple', u'purpose', u'purse', u'push', u'pushbutton', u'pushes', u'pussy', u'puts', u'puttin', u'putting', u'puzzeles', u'puzzles', u'px3748', u'p\\xe5', u'qatar', u'qbank', u'qet', u'qi', u'qing', u'qjkgighjjgcbl', u'qlynnbv', u'quality', u'quarter', u'que', u'queen', u'queries', u'ques', u'question', u'questioned', u'questions', u'quick', u'quickly', u'quiet', u'quit', u'quite', u'quiteamuzing', u'quitting', u'quiz', u'quizclub', u'quizzes', u'quote', u'quoting', u'r836', u'racal', u'racing', u'radiator', u'radio', u'raed', u'rael', u'raglan', u'rahul', u'raiden', u'railway', u'rain', u'raining', u'raise', u'raised', u'raj', u'rajas', u'raji', u'rajini', u'rajitha', u'rajnikant', u'rakhesh', u'raksha', u'rally', u'ralphs', u'ramaduth', u'ramen', u'ran', u'random', u'randomlly', u'randomly', u'randy', u'rang', u'range', u'ranjith', u'ranju', u'raping', u'rate', u'rates', u'ratio', u'rats', u'raviyog', u'rawring', u'rayan', u'rayman', u'rays', u'rcb', u'rcd', u'rct', u'rcv', u'rcvd', u'rd', u'rdy', u'reach', u'reache', u'reached', u'reaching', u'reacting', u'reaction', u'read', u'readers', u'readiness', u'reading', u'ready', u'real', u'real1', u'realise', u'realised', u'realising', u'reality', u'realize', u'realized', u'realizes', u'really', u'realy', u'reapply', u'rearrange', u'reason', u'reasonable', u'reasons', u'reassurance', u'reassuring', u'rebel', u'reboot', u'rebooting', u'rebtel', u'rec', u'recd', u'receipt', u'receipts', u'receive', u'receivea', u'received', u'receiving', u'recent', u'recently', u'reception', u'recession', u'recharge', u'recharged', u'recieve', u'reckon', u'recognise', u'recognises', u'record', u'recorded', u'recorder', u'records', u'recount', u'recovery', u'recpt', u'recreation', u'recycling', u'red', u'redeemable', u'redeemed', u'reduce', u'ree', u'ref', u'reference', u'references', u'referin', u'reffering', u'refilled', u'reflection', u'reflex', u'reformat', u'refreshed', u'refund', u'refunded', u'refused', u'reg', u'regalportfolio', u'regard', u'regarding', u'regards', u'register', u'registered', u'registration', u'regret', u'regretted', u'regular', u'rejected', u'related', u'relation', u'relationship', u'relatives', u'relax', u'relaxing', u'released', u'reliant', u'relieved', u'religiously', u'relocate', u'reltnship', u'rem', u'remain', u'remains', u'remb', u'remember', u'remembered', u'rememberi', u'remembr', u'remembrs', u'remind', u'reminded', u'reminder', u'reminding', u'reminds', u'remixed', u'removal', u'remove', u'removed', u'rencontre', u'renewal', u'renewed', u'renewing', u'rent', u'rental', u'renting', u'rentl', u'rents', u'repair', u'repairs', u'repeat', u'repeating', u'repent', u'replace', u'replacement', u'replacing', u'replied', u'replies', u'reply', u'replying', u'replys150', u'report', u'reppurcussions', u'representative', u'republic', u'request', u'requests', u'require', u'required', u'requirements', u'requires', u'research', u'resend', u'resent', u'reservations', u'reserve', u'reserved', u'reserves', u'reset', u'residency', u'resizing', u'reslove', u'resolution', u'resolved', u'resort', u'respect', u'respectful', u'responce', u'respond', u'responding', u'response', u'responsibilities', u'responsibility', u'responsible', u'rest', u'restaurant', u'restock', u'restocked', u'restrict', u'restrictions', u'resubbing', u'resubmit', u'result', u'results', u'resume', u'resuming', u'retard', u'retired', u'retrieve', u'return', u'returned', u'returning', u'returns', u'reunion', u'reveal', u'revealed', u'revealing', u'reverse', u'review', u'revision', u'reward', u'rewarding', u'rg21', u'rgds', u'rgent', u'rhode', u'rhythm', u'rice', u'rich', u'riddance', u'ridden', u'ride', u'right', u'rightio', u'rightly', u'rights', u'riley', u'rimac', u'ring', u'ringing', u'rings', u'ringtone', u'ringtoneking', u'ringtones', u'ringtone\\xe5\\xe1', u'rinu', u'rip', u'ripped', u'risk', u'risks', u'rite', u'ritten', u'river', u'road', u'roads', u'roast', u'rob', u'robinson', u'robs', u'rock', u'rocking', u'rocks', u'rodds1', u'rodger', u'rofl', u'roger', u'role', u'roles', u'rolled', u'roller', u'romantic', u'romcapspam', u'ron', u'room', u'roomate', u'roommate', u'roommates', u'rooms', u'ros', u'rose', u'roses', u'rough', u'round', u'rounder', u'rounds', u'route', u'row', u'rowdy', u'rows', u'royal', u'rp176781', u'rpl', u'rply', u'rr', u'rs', u'rstm', u'rt', u'rtf', u'rtm', u'rto', u'ru', u'rub', u'rubber', u'rude', u'rudi', u'rugby', u'ruin', u'ruining', u'rule', u'rules', u'rum', u'rumbling', u'rummer', u'rumour', u'run', u'running', u'runs', u'rupaul', u'rush', u'rushing', u'ruthful', u'rv', u'rvx', u'rwm', u'ryan', u'ryder', u's3xy', u's89', u'sabarish', u'sac', u'sachin', u'sack', u'sacked', u'sacrifice', u'sad', u'sae', u'saeed', u'safe', u'safely', u'safety', u'sagamu', u'saibaba', u'said', u'sake', u'salad', u'salam', u'salary', u'sale', u'sales', u'salesman', u'salmon', u'salon', u'salt', u'sam', u'samachara', u'samantha', u'sambar', u'samus', u'sandiago', u'sane', u'sang', u'sankatmochan', u'sankranti', u'santa', u'santacalling', u'sao', u'sapna', u'sar', u'sara', u'sarasota', u'sarcasm', u'sarcastic', u'saristar', u'sariyag', u'sary', u'sashimi', u'sat', u'satanic', u'sathy', u'sathya', u'satisfied', u'satisfy', u'satsgettin', u'saturday', u'saucy', u'savamob', u'save', u'saved', u'saves', u'savings', u'saw', u'say', u'sayin', u'saying', u'says', u'sayy', u'sc', u'scallies', u'scammers', u'scarcasim', u'scared', u'scary', u'scenario', u'scenery', u'sch', u'schedule', u'school', u'schools', u'science', u'scold', u'scorable', u'score', u'scores', u'scoring', u'scotch', u'scotland', u'scotsman', u'scouse', u'scraped', u'scrappy', u'scratches', u'scratching', u'scream', u'screamed', u'screaming', u'screen', u'screwd', u'scrounge', u'scrumptious', u'sculpture', u'sd', u'sday', u'sdryb8i', u'se', u'sea', u'search', u'searching', u'season', u'seat', u'sec', u'second', u'secondary', u'seconds', u'secret', u'secretary', u'secretly', u'secrets', u'secs', u'section', u'sections', u'secure', u'secured', u'sed', u'seeds', u'seeing', u'seekers', u'seeking', u'seen', u'sef', u'seh', u'sehwag', u'seing', u'select', u'selected', u'selection', u'self', u'selfindependence', u'selfish', u'selflessness', u'sell', u'selling', u'sells', u'sem', u'semester', u'semi', u'semiobscure', u'sen', u'send', u'sender', u'sending', u'sends', u'senor', u'senrd', u'sense', u'senses', u'sensible', u'sensitive', u'sent', u'sentence', u'senthil', u'sentiment', u'seperated', u'sept', u'september', u'serena', u'series', u'seriously', u'served', u'server', u'service', u'services', u'serving', u'servs', u'set', u'setting', u'settings', u'settle', u'settled', u'settling', u'seven', u'seventeen', u'sex', u'sexiest', u'sextextuk', u'sexual', u'sexy', u'sexychat', u'sez', u'sf', u'sg', u'sh', u'sha', u'shade', u'shadow', u'shag', u'shagged', u'shah', u'shahjahan', u'shakara', u'shake', u'shakespeare', u'shaking', u'shall', u'shame', u'shampain', u'shangela', u'shanghai', u'shanil', u'shant', u'shaping', u'share', u'shared', u'sharing', u'shattered', u'shaved', u'shb', u'shd', u'sheet', u'sheets', u'sheffield', u'shelf', u'shell', u'shelves', u'sherawat', u'shes', u'shesil', u'shhhhh', u'shifad', u'shijas', u'shijutta', u'shinco', u'shindig', u'shining', u'shiny', u'ship', u'shipped', u'shipping', u'shirt', u'shirts', u'shit', u'shite', u'shitin', u'shitinnit', u'shitload', u'shitstorm', u'shivratri', u'shld', u'shldxxxx', u'shock', u'shocking', u'shoes', u'shola', u'shoot', u'shop', u'shoppin', u'shopping', u'shoranur', u'shore', u'short', u'shortage', u'shortbreaks', u'shortcode', u'shorter', u'shortly', u'shorts', u'shot', u'shoul', u'shoulders', u'shouldn', u'shouted', u'shouting', u'shove', u'shoving', u'showed', u'shower', u'showered', u'showers', u'showing', u'showr', u'showrooms', u'shows', u'shracomorsglsuplt', u'shrek', u'shrink', u'shrub', u'shsex', u'shu', u'shud', u'shuhui', u'shun', u'shut', u'shy', u'si', u'sian', u'sib', u'sic', u'sick', u'sickness', u'sigh', u'sighs', u'sight', u'sign', u'signal', u'significance', u'significant', u'signin', u'signing', u'siguviri', u'silence', u'silent', u'silently', u'silly', u'silver', u'sim', u'simonwatson5120', u'simple', u'simpler', u'simply', u'simpsons', u'simulate', u'sinco', u'sindu', u'sing', u'singapore', u'singing', u'single', u'singles', u'sink', u'sip', u'sipix', u'sips', u'sir', u'sirji', u'sis', u'sister', u'sisters', u'sit', u'site', u'sitll', u'sitter', u'sittin', u'sitting', u'situation', u'situations', u'siva', u'size', u'sized', u'sk3', u'sk38xh', u'skateboarding', u'skilgme', u'skillgame', u'skills', u'skinny', u'skins', u'skint', u'skip', u'skirt', u'sky', u'skye', u'skype', u'skyped', u'skyving', u'slaaaaave', u'slacking', u'slap', u'slave', u'sleep', u'sleepin', u'sleeping', u'sleepingwith', u'sleeps', u'sleepwell', u'sleepy', u'slept', u'slice', u'slices', u'slide', u'sliding', u'slightly', u'slip', u'slippers', u'slippery', u'slo', u'slob', u'slots', u'slovely', u'slow', u'slower', u'slowing', u'slowly', u'slp', u'slurp', u'smacks', u'small', u'smaller', u'smart', u'smartcall', u'smarter', u'smash', u'smashed', u'smear', u'smell', u'smells', u'smeone', u'smidgin', u'smile', u'smiled', u'smiles', u'smiley', u'smiling', u'smith', u'smoke', u'smoked', u'smokes', u'smokin', u'smoking', u'smoothly', u'sms', u'smsco', u'smsing', u'smsrewards', u'smsservices', u'smth', u'sn', u'snake', u'snap', u'snappy', u'snatch', u'snd', u'sneham', u'snickering', u'snogs', u'snoring', u'snot', u'snow', u'snowball', u'snowboarding', u'snowman', u'snuggles', u'soc', u'sochte', u'social', u'sofa', u'soft', u'software', u'soil', u'soiree', u'sol', u'soladha', u'sold', u'solihull', u'solve', u'solved', u'some1', u'somebody', u'someday', u'someonone', u'someplace', u'somerset', u'sometext', u'somethin', u'sometme', u'somewhat', u'somewheresomeone', u'somewhr', u'somone', u'somtimes', u'sonathaya', u'sonetimes', u'song', u'songs', u'sony', u'sonyericsson', u'soo', u'soon', u'sooner', u'soonlots', u'sooo', u'soooo', u'sooooo', u'sophas', u'sore', u'sorrow', u'sorrows', u'sorry', u'sort', u'sorta', u'sorted', u'sorting', u'sorts', u'sory', u'soryda', u'sos', u'soul', u'sound', u'sounding', u'sounds', u'soundtrack', u'sound\\xe5\\xf5s', u'soup', u'source', u'sources', u'south', u'southern', u'souveniers', u'soz', u'sozi', u'sp', u'space', u'spacebucks', u'spaces', u'spageddies', u'spain', u'spam', u'spanish', u'spare', u'spares', u'spark', u'sparkling', u'spatula', u'speak', u'speaking', u'special', u'speciale', u'specialisation', u'specialise', u'specially', u'specific', u'specify', u'specs', u'speechless', u'speed', u'speedchat', u'speeding', u'speling', u'spell', u'spelled', u'spelling', u'spend', u'spending', u'spent', u'sphosting', u'spice', u'spider', u'spiffing', u'spile', u'spin', u'spinout', u'spiral', u'spirit', u'spiritual', u'spjanuary', u'spk', u'spl', u'splash', u'splashmobile', u'splat', u'splendid', u'split', u'splleing', u'spoil', u'spoiled', u'spoilt', u'spoke', u'spoken', u'sponsors', u'spontaneously', u'spook', u'spoon', u'spoons', u'sporadically', u'sport', u'sports', u'sportsx', u'spose', u'spot', u'spotty', u'spouse', u'sppok', u'spreadsheet', u'spree', u'spring', u'springs', u'sprint', u'sptv', u'spun', u'spys', u'sq825', u'squatting', u'squeeeeeze', u'squeezed', u'squid', u'squishy', u'srs', u'srsly', u'srt', u'sry', u'st', u'stability', u'stable', u'stadium', u'staff', u'stage', u'stagwood', u'stairs', u'stalk', u'stalking', u'stamped', u'stamps', u'stand', u'standard', u'standing', u'stands', u'stapati', u'star', u'starer', u'staring', u'starring', u'stars', u'starshine', u'start', u'started', u'starting', u'starts', u'starve', u'starving', u'starwars3', u'stash', u'stated', u'statement', u'statements', u'station', u'status', u'stay', u'stayed', u'stayin', u'staying', u'stays', u'std', u'stdtxtrate', u'steak', u'steal', u'stealing', u'steam', u'steamboat', u'steed', u'steering', u'step', u'steps', u'stereo', u'stereophonics', u'sterling', u'sterm', u'steve', u'stewartsize', u'steyn', u'sth', u'stick', u'sticky', u'stifled', u'stil', u'stink', u'stitch', u'stock', u'stocked', u'stockport', u'stolen', u'stomach', u'stomps', u'stone', u'stoners', u'stones', u'stool', u'stop', u'stop2', u'stop2stop', u'stopbcm', u'stopcost', u'stopcs', u'stopped', u'stops', u'stopsms', u'stoptxtstop\\xe5', u'store', u'stores', u'stories', u'storming', u'story', u'str', u'str8', u'straight', u'strain', u'strange', u'stranger', u'stream', u'street', u'stress', u'stressed', u'stressful', u'stressfull', u'stretch', u'strewn', u'strict', u'strike', u'strings', u'strip', u'stripes', u'strips', u'strokes', u'strong', u'strongly', u'strt', u'strtd', u'struggling', u'sts', u'stu', u'stubborn', u'stuck', u'studdying', u'student', u'studentfinancial', u'students', u'studies', u'studio', u'study', u'studying', u'studyn', u'stuff', u'stuff42moro', u'stuffed', u'stuffing', u'stuffs', u'stunning', u'stupid', u'style', u'styles', u'styling', u'stylish', u'stylist', u'sub', u'subject', u'subletting', u'submitted', u'submitting', u'subpoly', u'subs', u'subs16', u'subscribe', u'subscribe6gbp', u'subscribed', u'subscriber', u'subscribers', u'subscription', u'subscriptions', u'subscriptn3gbp', u'subscrition', u'subsequent', u'subtoitles', u'success', u'successful', u'successfully', u'sucker', u'suckers', u'sucks', u'sudden', u'suddenly', u'sudn', u'sue', u'suffer', u'suffering', u'suffers', u'sufficient', u'sugababes', u'suganya', u'sugar', u'sugardad', u'suggest', u'suggestion', u'suggestions', u'suite', u'suite342', u'suitemates', u'suits', u'sullivan', u'sum', u'sum1', u'suman', u'sumfing', u'summer', u'summers', u'summon', u'sumthin', u'sun', u'sun0819', u'sunday', u'sundayish', u'sunlight', u'sunny', u'sunoco', u'sunroof', u'sunscreen', u'sunshine', u'suntec', u'sup', u'super', u'superb', u'superior', u'supervisor', u'suply', u'supose', u'suppliers', u'supplies', u'supply', u'support', u'supports', u'suppose', u'supposed', u'supreme', u'suprman', u'sura', u'sure', u'surely', u'surf', u'surfing', u'surgical', u'surly', u'surname', u'surprise', u'surprised', u'surrender', u'surrounded', u'survey', u'surya', u'sutra', u'sux', u'suzy', u'svc', u'sw7', u'sw73ss', u'swalpa', u'swan', u'swann', u'swap', u'swashbuckling', u'swat', u'swatch', u'sway', u'swayze', u'swear', u'sweater', u'sweatter', u'sweet', u'sweetest', u'sweetheart', u'sweetie', u'sweets', u'swell', u'swhrt', u'swimming', u'swimsuit', u'swing', u'swiss', u'switch', u'swollen', u'swoop', u'swt', u'swtheart', u'syd', u'syllabus', u'symbol', u'sympathetic', u'symptoms', u'synced', u'syria', u'syrup', u'systems', u't4get2text', u't91', u'ta', u'table', u'tablet', u'tablets', u'tackle', u'tacos', u'tactful', u'tactless', u'tag', u'tagged', u'tahan', u'tai', u'tait', u'taj', u'taka', u'takecare', u'taken', u'takes', u'takin', u'taking', u'talent', u'talents', u'talk', u'talkbut', u'talked', u'talkin', u'talking', u'talks', u'tall', u'tallahassee', u'tallent', u'tamilnadu', u'tampa', u'tank', u'tantrum', u'tap', u'tape', u'tariffs', u'tarot', u'tarpon', u'taste', u'tasts', u'tat', u'tata', u'tats', u'tattoos', u'tau', u'taught', u'taunton', u'taxes', u'taxi', u'taxless', u'taxt', u'taylor', u'tayseer', u'tb', u'tbs', u'tc', u'tcr', u'tcs', u'tddnewsletter', u'tea', u'teach', u'teacher', u'teachers', u'teaches', u'teaching', u'team', u'teams', u'tear', u'tears', u'tease', u'teasing', u'tech', u'technical', u'technologies', u'tee', u'teenager', u'teeth', u'teju', u'tel', u'telediscount', u'telephone', u'telephonic', u'teletext', u'tell', u'telling', u'tellmiss', u'tells', u'telly', u'telphone', u'telugu', u'temales', u'temp', u'temper', u'temple', u'tenants', u'tendencies', u'tenerife', u'tensed', u'tension', u'teresa', u'term', u'terminated', u'terms', u'termsapply', u'ternal', u'terrible', u'terrific', u'terror', u'terrorist', u'terry', u'tescos', u'tessy', u'test', u'testing', u'tests', u'tex', u'texas', u'texd', u'text', u'text82228', u'textand', u'textbook', u'textbuddy', u'textcomp', u'texted', u'textin', u'texting', u'textoperator', u'textpod', u'texts', u'tgxxrz', u'th', u'thandiyachu', u'thangam', u'thank', u'thanks', u'thanks2', u'thanksgiving', u'thanku', u'thankyou', u'thanx', u'thanx4', u'thasa', u'that2worzels', u'thatmum', u'thats', u'that\\xe5\\xf5s', u'that\\xe5\\xf5scool', u'the4th', u'theacusations', u'theater', u'theatre', u'thedailydraw', u'theirs', u'thekingshead', u'themed', u'themes', u'themob', u'thenampet', u'theoretically', u'theory', u'theplace', u'theres', u'thesedays', u'thesis', u'thesmszone', u'thet', u'thew', u'theyre', u'thgt', u'thia', u'thing', u'things', u'think', u'thinked', u'thinkin', u'thinking', u'thinks', u'thinkthis', u'thinl', u'thirtyeight', u'thirunelvali', u'thk', u'thkin', u'thm', u'thnk', u'thnq', u'thnx', u'tho', u'thot', u'thou', u'thought', u'thoughts', u'thousands', u'thout', u'thread', u'threats', u'threw', u'thriller', u'throat', u'throw', u'throwin', u'throwing', u'thrown', u'throws', u'ths', u'tht', u'thts', u'thuglyfe', u'thurs', u'thursday', u'thx', u'thy', u'tick', u'ticket', u'tickets', u'tie', u'tiempo', u'tiger', u'tight', u'tightly', u'tigress', u'tihs', u'tiime', u'til', u'till', u'tim', u'time', u'times', u'timi', u'timin', u'timing', u'timings', u'tip', u'tips', u'tired', u'tiring', u'tirunelvai', u'tirunelvali', u'tirupur', u'tis', u'tissco', u'title', u'titles', u'tiwary', u'tix', u'tiz', u'tke', u'tkls', u'tkts', u'tlk', u'tlp', u'tm', u'tming', u'tmorow', u'tmorrow', u'tmr', u'tmrw', u'tms', u'tmw', u'tnc', u'tncs', u'toa', u'toaday', u'tobacco', u'tobed', u'tocall', u'toclaim', u'today', u'todays', u'todo', u'tog', u'tohar', u'toilet', u'tok', u'token', u'toking', u'tol', u'told', u'toledo', u'tolerance', u'toll', u'tom', u'tomarrow', u'tomeandsaid', u'tomo', u'tomorro', u'tomorrow', u'tomorw', u'tone', u'tones', u'tones2u', u'tones2you', u'tonexs', u'tonght', u'tongued', u'tonight', u'tonights', u'tonite', u'tons', u'took', u'tookplace', u'tool', u'tooo', u'toot', u'tooth', u'toothpaste', u'tootsie', u'topic', u'toplay', u'topped', u'toppoly', u'tops', u'tor', u'torch', u'torrents', u'tortilla', u'torture', u'tosend', u'toshiba', u'toss', u'tot', u'total', u'totally', u'totes', u'touch', u'touched', u'tough', u'toughest', u'tour', u'town', u'toxic', u'toyota', u'tp', u'track', u'trackmarque', u'trade', u'traditions', u'traffic', u'train', u'trained', u'training', u'trainners', u'trains', u'tram', u'tranquility', u'transaction', u'transcribing', u'transfer', u'transfered', u'transferred', u'transfr', u'transfred', u'transport', u'trash', u'trauma', u'trav', u'travel', u'traveling', u'travelled', u'travelling', u'treacle', u'treadmill', u'treasure', u'treat', u'treated', u'treatin', u'treats', u'trebles', u'tree', u'trek', u'trends', u'trial', u'tried', u'trip', u'triple', u'trips', u'trishul', u'triumphed', u'trivia', u'tron', u'trouble', u'troubleshooting', u'trouser', u'truble', u'truck', u'true', u'true18', u'true\\xe5\\xe1c', u'truffles', u'truly', u'truro', u'trust', u'trusting', u'truth', u'try', u'tryin', u'trying', u'ts', u'tsandcs', u'tscs', u'tscs08714740323', u'tscs087147403231winawk', u'tsunami', u'tsunamis', u'tt', u'ttyl', u'tue', u'tues', u'tuesday', u'tui', u'tuition', u'tul', u'tulip', u'tunde', u'tune', u'tunji', u'turkeys', u'turn', u'turned', u'turning', u'turns', u'tuth', u'tv', u'twat', u'twice', u'twiggs', u'twilight', u'twinks', u'twins', u'twittering', u'txt', u'txt250', u'txt43', u'txt82228', u'txtauction', u'txtin', u'txting', u'txtno', u'txts', u'txtstar', u'txtstop', u'txttowin', u'txtx', u'tyler', u'type', u'types', u'typical', u'tyrone', u'u4', u'uawake', u'ubandu', u'ubi', u'ud', u'ugadi', u'ugh', u'ugo', u'uh', u'uhhhhrmm', u'uin', u'ujhhhhhhh', u'uk', u'ukp', u'uks', u'ultimate', u'ultimately', u'ultimatum', u'um', u'umma', u'ummifying', u'ummma', u'ummmmmaah', u'unable', u'unbelievable', u'unbreakable', u'unclaimed', u'uncle', u'uncles', u'uncomfortable', u'unconditionally', u'unconscious', u'unconsciously', u'unconvinced', u'uncountable', u'uncut', u'underdtand', u'understand', u'understanding', u'understood', u'underwear', u'undrstnd', u'undrstndng', u'unemployed', u'uneventful', u'unfolds', u'unfortunately', u'unfortuntly', u'unhappiness', u'unhappy', u'uni', u'unicef', u'uniform', u'unintentional', u'unintentionally', u'unique', u'united', u'units', u'univ', u'university', u'unjalur', u'unkempt', u'unknown', u'unless', u'unlike', u'unlimited', u'unmits', u'unnecessarily', u'unni', u'unrecognized', u'unredeemed', u'unsecured', u'unsold', u'unsub', u'unsubscribe', u'unsubscribed', u'untamed', u'unusual', u'up4', u'upcharge', u'upd8', u'updat', u'update', u'update_now', u'upgrade', u'upgrading', u'upgrdcentre', u'upload', u'uploaded', u'upping', u'ups', u'upset', u'upstairs', u'upto', u'uptown', u'ur', u'urawinner', u'ure', u'urfeeling', u'urgent', u'urgently', u'urgh', u'urgnt', u'urgoin', u'urination', u'url', u'urmom', u'urn', u'urself', u'usa', u'usb', u'usc', u'use', u'used', u'useful', u'useless', u'user', u'uses', u'usf', u'usher', u'using', u'usmle', u'usps', u'usual', u'usually', u'uterus', u'utter', u'uttered', u'uup', u'uv', u'uve', u'uworld', u'va', u'vaazhthukkal', u'vague', u'vaguely', u'vale', u'valentine', u'valentines', u'valid', u'valid12hrs', u'valuable', u'value', u'valued', u'values', u'valuing', u'varaya', u'vargu', u'various', u'varma', u'varunnathu', u'vary', u'vasai', u'vat', u'vatian', u'vava', u'vco', u'vday', u've', u'vegas', u'vegetables', u'veggie', u'vehicle', u'velachery', u'velly', u'velusamy', u'venaam', u'venugopal', u'verified', u'verify', u'verifying', u'version', u'versus', u'vettam', u'vewy', u'vibrant', u'vibrate', u'vibrator', u'vic', u'victoria', u'victors', u'vid', u'video', u'videochat', u'videophones', u'videos', u'videosound', u'videosounds', u'view', u'vijay', u'vijaykanth', u'vikky', u'vilikkam', u'vill', u'villa', u'village', u'vinobanagar', u'violated', u'violence', u'violet', u'vip', u'vipclub4u', u'virgil', u'virgin', u'virgins', u'virtual', u'visa', u'visionsms', u'visit', u'visiting', u'visitor', u'visitors', u'vital', u'vitamin', u'viva', u'vivek', u'vl', u'voda', u'vodafone', u'vodka', u'voice', u'voicemail', u'voila', u'volcanoes', u'vomit', u'vomitin', u'vomiting', u'vote', u'voted', u'vouch4me', u'voucher', u'vouchers', u'vpod', u'vry', u'vs', u'vth', u'vu', u'w1', u'w111wx', u'w14rg', u'w1a', u'w1j', u'w1j6hl', u'w1jhl', u'w1t1jy', u'w4', u'w45wq', u'w8in', u'wa', u'wa14', u'waaaat', u'wad', u'wadebridge', u'wah', u'wahala', u'wahay', u'waheed', u'waheeda', u'wahleykkum', u'waht', u'wait', u'waited', u'waitin', u'waiting', u'wake', u'waking', u'wales', u'waliking', u'walk', u'walkabout', u'walked', u'walkin', u'walking', u'walks', u'wall', u'wallet', u'wallpaper', u'walls', u'walmart', u'walsall', u'wamma', u'wan', u'wan2', u'wana', u'wanna', u'wannatell', u'want', u'want2come', u'wanted', u'wanting', u'wants', u'wap', u'waqt', u'warm', u'warming', u'warned', u'warner', u'warning', u'warranty', u'warwick', u'washob', u'wasn', u'wasnt', u'wasn\\xe5\\xf5t', u'waste', u'wasted', u'wasting', u'wat', u'watch', u'watched', u'watches', u'watchin', u'watching', u'watchng', u'water', u'watever', u'watevr', u'wating', u'watr', u'wats', u'watts', u'wave', u'wavering', u'waves', u'way', u'way2sms', u'waz', u'wc1n', u'wc1n3xx', u'weak', u'weakness', u'weaknesses', u'weapon', u'wear', u'wearing', u'weaseling', u'weasels', u'weather', u'web', u'web2mobile', u'webadres', u'webeburnin', u'webpage', u'website', u'wed', u'weddin', u'wedding', u'weddingfriend', u'wednesday', u'weds', u'wee', u'weed', u'week', u'weekdays', u'weekend', u'weekends', u'weekly', u'weeks', u'weigh', u'weighed', u'weight', u'weightloss', u'weird', u'weirdest', u'weirdo', u'weirdy', u'weiyi', u'welcome', u'welcomes', u'wellda', u'welp', u'wen', u'wendy', u'wenever', u'went', u'wenwecan', u'wer', u'werebored', u'weren', u'werethe', u'wesley', u'wesleys', u'west', u'western', u'westlife', u'westonzoyland', u'westshore', u'wet', u'wetherspoons', u'wewa', u'we\\xe5\\xf5ve', u'whassup', u'whats', u'whatsup', u'wheat', u'wheel', u'wheellock', u'whenevr', u'whens', u'whereare', u'wherevr', u'wherre', u'whilltake', u'whispers', u'white', u'whn', u'whore', u'whos', u'whr', u'wi', u'wicked', u'wicket', u'wicklow', u'wid', u'widelive', u'wif', u'wife', u'wifes', u'wifi', u'wihtuot', u'wikipedia', u'wil', u'wild', u'wildest', u'wildlife', u'willing', u'willpower', u'win', u'win150ppmx3age16', u'wind', u'window', u'windows', u'winds', u'windy', u'wine', u'wined', u'wings', u'wining', u'winner', u'winnersclub', u'winning', u'wins', u'winterstone', u'wipro', u'wire3', u'wisdom', u'wise', u'wish', u'wisheds', u'wishes', u'wishin', u'wishing', u'wishlist', u'wiskey', u'wit', u'withdraw', u'wither', u'witin', u'witot', u'witout', u'wiv', u'wizzle', u'wk', u'wkend', u'wkent', u'wkg', u'wkly', u'wknd', u'wks', u'wlcome', u'wld', u'wml', u'wn', u'wnevr', u'wnt', u'wo', u'woah', u'wocay', u'woke', u'woken', u'woman', u'womdarfull', u'women', u'won', u'wondar', u'wondarfull', u'wonder', u'wonderful', u'wondering', u'wonders', u'wont', u'woo', u'woodland', u'woods', u'woohoo', u'woot', u'woould', u'woozles', u'worc', u'word', u'words', u'work', u'workage', u'workand', u'workin', u'working', u'workout', u'works', u'world', u'worlds', u'worms', u'worried', u'worries', u'worry', u'worrying', u'worse', u'worst', u'worth', u'worthless', u'wot', u'wotu', u'wotz', u'woul', u'woulda', u'wouldn', u'wounds', u'wow', u'wrc', u'wrecked', u'wrench', u'wrenching', u'wright', u'write', u'writhing', u'wrk', u'wrkin', u'wrking', u'wrks', u'wrld', u'wrnog', u'wrong', u'wrongly', u'wrote', u'ws', u'wt', u'wtc', u'wtf', u'wth', u'wthout', u'wtlp', u'wud', u'wudn', u'wuld', u'wuldnt', u'wun', u'www', u'wylie', u'x2', u'x29', u'x49', u'xafter', u'xam', u'xavier', u'xchat', u'xclusive', u'xin', u'xmas', u'xoxo', u'xt', u'xuhui', u'xx', u'xxsp', u'xxuk', u'xxx', u'xxxmobilemovieclub', u'xxxx', u'xxxxx', u'xxxxxx', u'xxxxxxx', u'xxxxxxxx', u'xxxxxxxxxxxxxx', u'xy', u'y87', u'ya', u'yah', u'yahoo', u'yalrigu', u'yalru', u'yam', u'yan', u'yar', u'yarasu', u'yards', u'yavnt', u'yaxx', u'yaxxx', u'yay', u'yck', u'yeah', u'year', u'years', u'yeesh', u'yeh', u'yelling', u'yellow', u'yelow', u'yen', u'yeovil', u'yep', u'yer', u'yes', u'yest', u'yesterday', u'yetty', u'yetunde', u'yhl', u'yi', u'yifeng', u'yijue', u'ym', u'ymca', u'yo', u'yoga', u'yogasana', u'yor', u'yorge', u'youdoing', u'youi', u'young', u'younger', u'youphone', u'youre', u'yourinclusive', u'yourjob', u'youuuuu', u'youwanna', u'you\\xe5\\xf5re', u'yoville', u'yowifes', u'yoyyooo', u'yr', u'yrs', u'ystrday', u'ything', u'yummmm', u'yummy', u'yun', u'yunny', u'yuo', u'yuou', u'yup', u'yupz', u'zac', u'zaher', u'zealand', u'zebra', u'zed', u'zeros', u'zhong', u'zindgi', u'zoe', u'zogtorius', u'zoom', u'zouk', u'zyada', u'\\xe5\\xe810', u'\\xe5\\xf0', u'\\xe5\\xf2harry', u'\\xe5\\xf2it', u'\\xe5\\xf4morrow', u'\\xe5\\xf4rents', u'\\xec_', u'\\xec\\xbc1', u'\\xec\\xe4', u'\\xec\\xef', u'\\xf3_', u'\\xfb_', u'\\xfb_thanks', u'\\xfb\\xaam', u'\\xfb\\xaat', u'\\xfb\\xaave', u'\\xfb\\xef', u'\\xfb\\xefharry', u'\\xfb\\xf2', u'\\xfb\\xf3well']\n",
      "8404\n"
     ]
    }
   ],
   "source": [
    "# List of features - each feature is a unique word in the dataset\n",
    "features=f.get_feature_names()\n",
    "print(features)\n",
    "\n",
    "print(len(features))"
   ]
  },
  {
   "cell_type": "code",
   "execution_count": 13,
   "metadata": {
    "colab": {
     "base_uri": "https://localhost:8080/",
     "height": 105
    },
    "colab_type": "code",
    "id": "8AoZIFXwkuUw",
    "outputId": "ef19489f-4a99-4b96-b92a-294065111307"
   },
   "outputs": [
    {
     "name": "stdout",
     "output_type": "stream",
     "text": [
      "Even my brother is not like to speak with me. They treat me like aids patent.\n",
      "1674\n",
      "6910\n",
      "7634\n",
      "5546\n"
     ]
    }
   ],
   "source": [
    "print(data.iloc[6,1])\n",
    "\n",
    "print(features.index('brother'))\n",
    "print(features.index('speak'))\n",
    "print(features.index('treat'))\n",
    "print(features.index('patent'))\n"
   ]
  },
  {
   "cell_type": "code",
   "execution_count": 14,
   "metadata": {
    "colab": {
     "base_uri": "https://localhost:8080/",
     "height": 141
    },
    "colab_type": "code",
    "id": "V78cX0QTipwn",
    "outputId": "ec4e2507-f165-4468-d5f4-11ad64c21a04"
   },
   "outputs": [
    {
     "name": "stdout",
     "output_type": "stream",
     "text": [
      "[1 0 0 0 0 0 0 0 0 0 0 0 0 0 0 0 0 0 0 0 0 0 0 0 0 0]\n",
      "[0 1 0 0 0 0 0 0 0 0 0 0 0 0 0 0 0 0 0 0 0 0 0 0 0 0 0 0 0 0 0 0 0 0 0 0 0\n",
      " 0 0 0 0 0 0 0 0 0 0 0 0 0 0 0 0 0 0 0 0 0 0 0 0 0 0 0 0 0 0 0 0 0 0 0 0 0\n",
      " 0 0 0 0 0 0 0 0 0 0 0 0 0 0 0 0 0]\n",
      "[0 0 0 0 0 0 0 0 0 0 0 0 0 0 0 0 0 0 0 0 0 0 0 0 0 0 0 0 0 0 0 0 0 0 1 0 0\n",
      " 0 0 0 0 0 0 0 0 0 0 0 0 0]\n",
      "[0 0 0 0 0 0 1 0 0 0]\n"
     ]
    }
   ],
   "source": [
    "print(X.toarray()[6][1674:1700]) # brother\n",
    "print(X.toarray()[6][6909:7000]) # speak\n",
    "print(X.toarray()[6][7600:7650]) # treat\n",
    "print(X.toarray()[6][5540:5550]) # parent\n"
   ]
  },
  {
   "cell_type": "markdown",
   "metadata": {
    "colab_type": "text",
    "id": "xOwTHymUL5yy"
   },
   "source": [
    "We have created more than 8400 new features. \n",
    "\n",
    "The new feature  j  in the row  i is equal to 1 if the word  wj  appears in the text example  i . It is zero if not."
   ]
  },
  {
   "cell_type": "markdown",
   "metadata": {
    "colab_type": "text",
    "id": "syw-F04JMPOq"
   },
   "source": [
    "## Predictive Analysis\n",
    "\n",
    "Our goal is to predict if a new sms is spam or non-spam. \n",
    "\n",
    "Our assumption is that it is much worse to misclassify a non-spam message as spam than misclassify an spam as non spam.\n",
    "i.e. we want to reduce the false positives. The reason is because most of the users normally don't check the spam messages.\n",
    "\n",
    "The two possible situations are:\n",
    "\n",
    "New spam sms in my inbox. (False Negative). >> We generally detect and delete it.\n",
    "\n",
    "New non-spam sms in my spam folder (False positive). >> We probably don't read it.\n",
    "\n",
    "We prefer the first option!!!\n",
    "\n",
    "First we transform the variable spam/non-spam into binary variable, then we split our data set in training set and test set."
   ]
  },
  {
   "cell_type": "code",
   "execution_count": 15,
   "metadata": {
    "colab": {},
    "colab_type": "code",
    "id": "142N8lISMRgG"
   },
   "outputs": [],
   "source": [
    "data[\"v1\"]=data[\"v1\"].map({'spam':1,'ham':0})\n",
    "\n",
    "y=data[\"v1\"]\n",
    "\n",
    "#print(y)\n"
   ]
  },
  {
   "cell_type": "markdown",
   "metadata": {
    "colab_type": "text",
    "id": "lNSJMkV7beSI"
   },
   "source": [
    "## Splitting Data into Traiing and Test Set"
   ]
  },
  {
   "cell_type": "code",
   "execution_count": 16,
   "metadata": {
    "colab": {
     "base_uri": "https://localhost:8080/",
     "height": 34
    },
    "colab_type": "code",
    "id": "bbwXpbu1k4kp",
    "outputId": "51d5b600-1d62-4423-9c79-9a9bc120c639"
   },
   "outputs": [
    {
     "name": "stdout",
     "output_type": "stream",
     "text": [
      "[(3733, 8404), (1839, 8404)]\n"
     ]
    }
   ],
   "source": [
    "X_train, X_test, y_train, y_test = train_test_split(X, y, test_size=0.33, random_state=10)\n",
    "\n",
    "print([np.shape(X_train), np.shape(X_test)])"
   ]
  },
  {
   "cell_type": "markdown",
   "metadata": {
    "colab_type": "text",
    "id": "v-wcUQQND3_Q"
   },
   "source": [
    "### Distribution of Spam/Ham in the Training and Test Dataset"
   ]
  },
  {
   "cell_type": "code",
   "execution_count": 17,
   "metadata": {
    "colab": {
     "base_uri": "https://localhost:8080/",
     "height": 123
    },
    "colab_type": "code",
    "id": "X8ToZP9G8cWh",
    "outputId": "d6b770f6-48f0-4b9e-e083-c04c6134f78b"
   },
   "outputs": [
    {
     "name": "stdout",
     "output_type": "stream",
     "text": [
      "\n",
      " Number of observations of class Spam in Training Set = 502\n",
      " Number of observations of class Ham in Training Set = 3231\n",
      "\n",
      " Number of observations of class Spam in Test Set = 245\n",
      " Number of observations of class Ham in Test Set = 1594\n"
     ]
    }
   ],
   "source": [
    "\n",
    "train_spam=sum(y_train==1)\n",
    "train_ham=sum(y_train==0)\n",
    "\n",
    "print('\\n Number of observations of class Spam in Training Set = {}'.format(train_spam))\n",
    "print(' Number of observations of class Ham in Training Set = {}'.format(train_ham))\n",
    "\n",
    "\n",
    "test_spam=sum(y_test==1)\n",
    "test_ham=sum(y_test==0)\n",
    "\n",
    "print('\\n Number of observations of class Spam in Test Set = {}'.format(test_spam))\n",
    "print(' Number of observations of class Ham in Test Set = {}'.format(test_ham))\n",
    "\n"
   ]
  },
  {
   "cell_type": "code",
   "execution_count": 18,
   "metadata": {
    "colab": {
     "base_uri": "https://localhost:8080/",
     "height": 301
    },
    "colab_type": "code",
    "id": "m3ygapd795Hc",
    "outputId": "2a4bd6de-ad8a-4535-fdeb-ca554a1c2351"
   },
   "outputs": [
    {
     "data": {
      "image/png": "[encoded data removed]",
      "text/plain": [
       "<matplotlib.figure.Figure at 0xe6ec670>"
      ]
     },
     "metadata": {},
     "output_type": "display_data"
    }
   ],
   "source": [
    "\n",
    "df = pd.DataFrame({'type':['Ham', 'Spam'], 'counts':[train_ham, train_spam]})\n",
    "ax=df.plot.bar(x='type', y='counts', color= [\"blue\", \"orange\"])\n"
   ]
  },
  {
   "cell_type": "code",
   "execution_count": 19,
   "metadata": {
    "colab": {
     "base_uri": "https://localhost:8080/",
     "height": 301
    },
    "colab_type": "code",
    "id": "zHdsmEbmDxCe",
    "outputId": "c506f958-ef62-4a5f-90eb-7f04a3f79905"
   },
   "outputs": [
    {
     "data": {
      "image/png": "[encoded data removed]",
      "text/plain": [
       "<matplotlib.figure.Figure at 0xe6ec030>"
      ]
     },
     "metadata": {},
     "output_type": "display_data"
    }
   ],
   "source": [
    "df = pd.DataFrame({'type':['Ham', 'Spam'], 'counts':[test_ham, test_spam]})\n",
    "ax=df.plot.bar(x='type', y='counts', color= [\"blue\", \"orange\"])\n"
   ]
  },
  {
   "cell_type": "markdown",
   "metadata": {
    "colab_type": "text",
    "id": "pigSKu-zglML"
   },
   "source": [
    "## Train and Evaluate the a SVM Classifier"
   ]
  },
  {
   "cell_type": "code",
   "execution_count": 20,
   "metadata": {
    "colab": {},
    "colab_type": "code",
    "id": "vDEcU46iE-y5"
   },
   "outputs": [
    {
     "name": "stdout",
     "output_type": "stream",
     "text": [
      "\n",
      " Training the model......\n",
      "\n",
      "\n",
      " Training completed successfully.....\n",
      "\n",
      "\n",
      " Evaluating SVM on Test Data : \n",
      "\n",
      " Accuracy score : \n",
      "0.958673191952148\n",
      "\n",
      " Confusion Matrix : \n",
      "[[1594    0]\n",
      " [  76  169]]\n",
      "\n",
      " Recall : \n",
      "0.689795918367347\n",
      "\n",
      " Precision : \n",
      "1.0\n"
     ]
    }
   ],
   "source": [
    "\n",
    "model = svm.SVC(C=0.01, kernel='linear', gamma=0.001)\n",
    "\n",
    "print (\"\\n Training the model......\\n\")\n",
    "\n",
    "# Train model\n",
    "model.fit(X_train, y_train)\n",
    "print (\"\\n Training completed successfully.....\\n\")\n",
    "\n",
    "\n",
    "# Test the model\n",
    "predicted_labels = model.predict(X_test)\n",
    "\n",
    "print (\"\\n Evaluating SVM on Test Data : \")\n",
    "\n",
    "print (\"\\n Accuracy score : \")\n",
    "print (metrics.accuracy_score(y_test, predicted_labels))\n",
    "\n",
    "print (\"\\n Confusion Matrix : \")\n",
    "print (metrics.confusion_matrix(y_test, predicted_labels))\n",
    "\n",
    "print (\"\\n Recall : \")\n",
    "print (metrics.recall_score(y_test, predicted_labels))\n",
    "\n",
    "print (\"\\n Precision : \")\n",
    "print (metrics.precision_score(y_test, predicted_labels))\n",
    "\n",
    "\n"
   ]
  },
  {
   "cell_type": "markdown",
   "metadata": {
    "colab_type": "text",
    "id": "081e2yqtaQ0O"
   },
   "source": [
    "## SVM Hyperparameters\n",
    "\n",
    "### Regularization Parameter. It tells the SVM optimization how much you want to avoid misclassifying each training example. For large values of C, the optimization will choose a smaller-margin hyperplane if that hyperplane does a better job of getting all the training points classified correctly. Conversely, a very small value of C will cause the optimizer to look for a larger-margin separating hyperplane, even if that hyperplane misclassifies more points.\n",
    "\n",
    "**C** : float, optional (default=1.0)\n",
    "Penalty parameter C of the error term.\n",
    "\n",
    "\n",
    "\n",
    "### Kernel Functions - Transformations applied to data to project into higher dimensional space in order to find suitale class separation in the transformed space.\n",
    "\n",
    "**kernel** : string, optional (default=’rbf’)\n",
    "Specifies the kernel type to be used in the algorithm. \n",
    "It must be one of ‘linear’, ‘poly’, ‘rbf’, ‘sigmoid’, ‘precomputed’ or a callable. If none is given, ‘rbf’ will be used.\n",
    "If a callable is given it is used to pre-compute the kernel matrix from data matrices; that matrix should be an array of shape (n_samples, n_samples).\n",
    "\n",
    "\n",
    "\n",
    "### Gamma - The gamma parameter defines how far the influence of a single training example reaches, with low values meaning ‘far’ and high values meaning ‘close’. In other words, with low gamma, points far away from plausible seperation line are considered in calculation for the seperation line. Where as high gamma means the points close to plausible line are considered in calculation.\n",
    "\n",
    "\n",
    "**gamma** : float, optional (default=’auto’)\n",
    "Kernel coefficient for ‘rbf’, ‘poly’ and ‘sigmoid’.\n",
    "\n",
    "Current default is ‘auto’ which uses 1 / n_features, if gamma='scale' is passed then it uses 1 / (n_features * X.var()) as value of gamma. The current default of gamma, ‘auto’, will change to ‘scale’ in version 0.22. ‘auto_deprecated’, a deprecated version of ‘auto’ is used as a default indicating that no explicit value of gamma was passed.\n",
    "\n",
    "\n",
    "\n",
    "**degree** : int, optional (default=3)\n",
    "Degree of the polynomial kernel function (‘poly’). Ignored by all other kernels.\n",
    "\n",
    "\n",
    "**coef0** : float, optional (default=0.0)\n",
    "Independent term in kernel function. It is only significant in ‘poly’ and ‘sigmoid’."
   ]
  },
  {
   "cell_type": "markdown",
   "metadata": {
    "colab_type": "text",
    "id": "luoMMTzjQnVr"
   },
   "source": [
    "## Experiment with Regularization Hyper-parameter of SVM"
   ]
  },
  {
   "cell_type": "code",
   "execution_count": 21,
   "metadata": {
    "colab": {},
    "colab_type": "code",
    "id": "WC8k_ZEbFAmr"
   },
   "outputs": [
    {
     "name": "stdout",
     "output_type": "stream",
     "text": [
      "\n",
      " Confusion Matrix : \n",
      "[[1594    0]\n",
      " [  39  206]]\n",
      "\n",
      " Confusion Matrix : \n",
      "[[1593    1]\n",
      " [  40  205]]\n",
      "\n",
      " Confusion Matrix : \n",
      "[[1592    2]\n",
      " [  36  209]]\n",
      "\n",
      " Confusion Matrix : \n",
      "[[1592    2]\n",
      " [  35  210]]\n",
      "\n",
      " Confusion Matrix : \n",
      "[[1592    2]\n",
      " [  32  213]]\n",
      "\n",
      " Confusion Matrix : \n",
      "[[1592    2]\n",
      " [  33  212]]\n",
      "\n",
      " Confusion Matrix : \n",
      "[[1592    2]\n",
      " [  33  212]]\n",
      "\n",
      " Confusion Matrix : \n",
      "[[1592    2]\n",
      " [  31  214]]\n",
      "\n",
      " Confusion Matrix : \n",
      "[[1592    2]\n",
      " [  31  214]]\n",
      "\n",
      " Confusion Matrix : \n",
      "[[1593    1]\n",
      " [  31  214]]\n"
     ]
    }
   ],
   "source": [
    "list_C = np.arange(0.1, 1.1, 0.1) # [0.1 0.2 0.3 0.4 0.5 0.6 0.7 0.8 0.9 1. ]\n",
    "\n",
    "score_train = np.zeros(len(list_C))\n",
    "score_test = np.zeros(len(list_C))\n",
    "recall_test = np.zeros(len(list_C))\n",
    "precision_test= np.zeros(len(list_C))\n",
    "\n",
    "count = 0\n",
    "\n",
    "for c in list_C:\n",
    "    model = svm.SVC(C=c, gamma='auto', kernel='linear')\n",
    "    model.fit(X_train, y_train)\n",
    "    \n",
    "    score_train[count] = model.score(X_train, y_train)\n",
    "    score_test[count]= model.score(X_test, y_test)\n",
    "    \n",
    "    predicted_labels = model.predict(X_test)\n",
    "    #print(predicted_labels)\n",
    "    #print(y_test)\n",
    "    print (\"\\n Confusion Matrix : \")\n",
    "    print (metrics.confusion_matrix(y_test, predicted_labels))\n",
    "\n",
    "    recall_test[count] = metrics.recall_score(y_test, predicted_labels)\n",
    "    precision_test[count] = metrics.precision_score(y_test, predicted_labels)\n",
    "    \n",
    "    count = count + 1 \n",
    "    \n",
    "    "
   ]
  },
  {
   "cell_type": "markdown",
   "metadata": {
    "colab_type": "text",
    "id": "tJPyCq07O8n-"
   },
   "source": [
    "Let's see the first 10 learning models and their metrics!"
   ]
  },
  {
   "cell_type": "code",
   "execution_count": 22,
   "metadata": {
    "colab": {},
    "colab_type": "code",
    "id": "PKjlP0XxO6JH"
   },
   "outputs": [
    {
     "data": {
      "text/html": [
       "<div>\n",
       "<table border=\"1\" class=\"dataframe\">\n",
       "  <thead>\n",
       "    <tr style=\"text-align: right;\">\n",
       "      <th></th>\n",
       "      <th>C</th>\n",
       "      <th>Train Accuracy</th>\n",
       "      <th>Test Accuracy</th>\n",
       "      <th>Test Recall</th>\n",
       "      <th>Test Precision</th>\n",
       "    </tr>\n",
       "  </thead>\n",
       "  <tbody>\n",
       "    <tr>\n",
       "      <th>0</th>\n",
       "      <td>0.1</td>\n",
       "      <td>0.993839</td>\n",
       "      <td>0.978793</td>\n",
       "      <td>0.840816</td>\n",
       "      <td>1.000000</td>\n",
       "    </tr>\n",
       "    <tr>\n",
       "      <th>1</th>\n",
       "      <td>0.2</td>\n",
       "      <td>0.997857</td>\n",
       "      <td>0.977705</td>\n",
       "      <td>0.836735</td>\n",
       "      <td>0.995146</td>\n",
       "    </tr>\n",
       "    <tr>\n",
       "      <th>2</th>\n",
       "      <td>0.3</td>\n",
       "      <td>0.998928</td>\n",
       "      <td>0.979337</td>\n",
       "      <td>0.853061</td>\n",
       "      <td>0.990521</td>\n",
       "    </tr>\n",
       "    <tr>\n",
       "      <th>3</th>\n",
       "      <td>0.4</td>\n",
       "      <td>0.999196</td>\n",
       "      <td>0.979880</td>\n",
       "      <td>0.857143</td>\n",
       "      <td>0.990566</td>\n",
       "    </tr>\n",
       "    <tr>\n",
       "      <th>4</th>\n",
       "      <td>0.5</td>\n",
       "      <td>0.999732</td>\n",
       "      <td>0.981512</td>\n",
       "      <td>0.869388</td>\n",
       "      <td>0.990698</td>\n",
       "    </tr>\n",
       "    <tr>\n",
       "      <th>5</th>\n",
       "      <td>0.6</td>\n",
       "      <td>0.999732</td>\n",
       "      <td>0.980968</td>\n",
       "      <td>0.865306</td>\n",
       "      <td>0.990654</td>\n",
       "    </tr>\n",
       "    <tr>\n",
       "      <th>6</th>\n",
       "      <td>0.7</td>\n",
       "      <td>0.999732</td>\n",
       "      <td>0.980968</td>\n",
       "      <td>0.865306</td>\n",
       "      <td>0.990654</td>\n",
       "    </tr>\n",
       "    <tr>\n",
       "      <th>7</th>\n",
       "      <td>0.8</td>\n",
       "      <td>0.999732</td>\n",
       "      <td>0.982055</td>\n",
       "      <td>0.873469</td>\n",
       "      <td>0.990741</td>\n",
       "    </tr>\n",
       "    <tr>\n",
       "      <th>8</th>\n",
       "      <td>0.9</td>\n",
       "      <td>0.999732</td>\n",
       "      <td>0.982055</td>\n",
       "      <td>0.873469</td>\n",
       "      <td>0.990741</td>\n",
       "    </tr>\n",
       "    <tr>\n",
       "      <th>9</th>\n",
       "      <td>1.0</td>\n",
       "      <td>0.999732</td>\n",
       "      <td>0.982599</td>\n",
       "      <td>0.873469</td>\n",
       "      <td>0.995349</td>\n",
       "    </tr>\n",
       "  </tbody>\n",
       "</table>\n",
       "</div>"
      ],
      "text/plain": [
       "     C  Train Accuracy  Test Accuracy  Test Recall  Test Precision\n",
       "0  0.1        0.993839       0.978793     0.840816        1.000000\n",
       "1  0.2        0.997857       0.977705     0.836735        0.995146\n",
       "2  0.3        0.998928       0.979337     0.853061        0.990521\n",
       "3  0.4        0.999196       0.979880     0.857143        0.990566\n",
       "4  0.5        0.999732       0.981512     0.869388        0.990698\n",
       "5  0.6        0.999732       0.980968     0.865306        0.990654\n",
       "6  0.7        0.999732       0.980968     0.865306        0.990654\n",
       "7  0.8        0.999732       0.982055     0.873469        0.990741\n",
       "8  0.9        0.999732       0.982055     0.873469        0.990741\n",
       "9  1.0        0.999732       0.982599     0.873469        0.995349"
      ]
     },
     "execution_count": 22,
     "metadata": {},
     "output_type": "execute_result"
    }
   ],
   "source": [
    "matrix = np.matrix(np.c_[list_C, score_train, score_test, recall_test, precision_test])\n",
    "model_results = pd.DataFrame(data = matrix, columns = ['C', 'Train Accuracy', 'Test Accuracy', 'Test Recall', 'Test Precision'])\n",
    "model_results"
   ]
  },
  {
   "cell_type": "markdown",
   "metadata": {
    "colab_type": "text",
    "id": "GBi5779HPBrD"
   },
   "source": [
    "We select the model with the most test precision\n",
    "\n"
   ]
  },
  {
   "cell_type": "code",
   "execution_count": 23,
   "metadata": {
    "colab": {},
    "colab_type": "code",
    "id": "8vivchGGPEHY"
   },
   "outputs": [
    {
     "data": {
      "text/plain": [
       "C                 0.100000\n",
       "Train Accuracy    0.993839\n",
       "Test Accuracy     0.978793\n",
       "Test Recall       0.840816\n",
       "Test Precision    1.000000\n",
       "Name: 0, dtype: float64"
      ]
     },
     "execution_count": 23,
     "metadata": {},
     "output_type": "execute_result"
    }
   ],
   "source": [
    "best_index = model_results['Test Precision'].idxmax()\n",
    "model_results.iloc[best_index, :]"
   ]
  },
  {
   "cell_type": "markdown",
   "metadata": {
    "colab_type": "text",
    "id": "gU9IdQdpPILB"
   },
   "source": [
    "My best model does not produce any false positive, which is our goal.\n",
    "\n",
    "Let's see if there is more than one model with 100% precision !"
   ]
  },
  {
   "cell_type": "code",
   "execution_count": 24,
   "metadata": {
    "colab": {},
    "colab_type": "code",
    "id": "bRKv0w51PK8c"
   },
   "outputs": [
    {
     "data": {
      "text/html": [
       "<div>\n",
       "<table border=\"1\" class=\"dataframe\">\n",
       "  <thead>\n",
       "    <tr style=\"text-align: right;\">\n",
       "      <th></th>\n",
       "      <th>C</th>\n",
       "      <th>Train Accuracy</th>\n",
       "      <th>Test Accuracy</th>\n",
       "      <th>Test Recall</th>\n",
       "      <th>Test Precision</th>\n",
       "    </tr>\n",
       "  </thead>\n",
       "  <tbody>\n",
       "    <tr>\n",
       "      <th>0</th>\n",
       "      <td>0.1</td>\n",
       "      <td>0.993839</td>\n",
       "      <td>0.978793</td>\n",
       "      <td>0.840816</td>\n",
       "      <td>1.0</td>\n",
       "    </tr>\n",
       "  </tbody>\n",
       "</table>\n",
       "</div>"
      ],
      "text/plain": [
       "     C  Train Accuracy  Test Accuracy  Test Recall  Test Precision\n",
       "0  0.1        0.993839       0.978793     0.840816             1.0"
      ]
     },
     "execution_count": 24,
     "metadata": {},
     "output_type": "execute_result"
    }
   ],
   "source": [
    "model_results[model_results['Test Precision']==1].head(n=1)"
   ]
  },
  {
   "cell_type": "markdown",
   "metadata": {
    "colab_type": "text",
    "id": "QV4huEFnPPLK"
   },
   "source": [
    "## Select the Highest Precision Model\n",
    "\n",
    "Between these models with the highest possible precision, we are going to select which has more test accuracy."
   ]
  },
  {
   "cell_type": "code",
   "execution_count": 25,
   "metadata": {
    "colab": {},
    "colab_type": "code",
    "id": "mxvewfcdPSiM"
   },
   "outputs": [
    {
     "data": {
      "text/plain": [
       "C                 0.100000\n",
       "Train Accuracy    0.993839\n",
       "Test Accuracy     0.978793\n",
       "Test Recall       0.840816\n",
       "Test Precision    1.000000\n",
       "Name: 0, dtype: float64"
      ]
     },
     "execution_count": 25,
     "metadata": {},
     "output_type": "execute_result"
    }
   ],
   "source": [
    "best_index = model_results[model_results['Test Precision']==1.0]['Test Accuracy'].idxmax()\n",
    "svc = svm.SVC(C=list_C[best_index], gamma='auto', kernel='linear')\n",
    "svc.fit(X_train, y_train)\n",
    "model_results.iloc[best_index, :]"
   ]
  },
  {
   "cell_type": "markdown",
   "metadata": {
    "colab_type": "text",
    "id": "p8CInnsFPYzW"
   },
   "source": [
    "Confusion matrix with support vector machine classifier."
   ]
  },
  {
   "cell_type": "code",
   "execution_count": 26,
   "metadata": {
    "colab": {},
    "colab_type": "code",
    "id": "NvcO7hd2Pbi8"
   },
   "outputs": [
    {
     "data": {
      "text/html": [
       "<div>\n",
       "<table border=\"1\" class=\"dataframe\">\n",
       "  <thead>\n",
       "    <tr style=\"text-align: right;\">\n",
       "      <th></th>\n",
       "      <th>Predicted 0</th>\n",
       "      <th>Predicted 1</th>\n",
       "    </tr>\n",
       "  </thead>\n",
       "  <tbody>\n",
       "    <tr>\n",
       "      <th>Actual 0</th>\n",
       "      <td>1594</td>\n",
       "      <td>0</td>\n",
       "    </tr>\n",
       "    <tr>\n",
       "      <th>Actual 1</th>\n",
       "      <td>39</td>\n",
       "      <td>206</td>\n",
       "    </tr>\n",
       "  </tbody>\n",
       "</table>\n",
       "</div>"
      ],
      "text/plain": [
       "          Predicted 0  Predicted 1\n",
       "Actual 0         1594            0\n",
       "Actual 1           39          206"
      ]
     },
     "execution_count": 26,
     "metadata": {},
     "output_type": "execute_result"
    }
   ],
   "source": [
    "m_confusion_test = metrics.confusion_matrix(y_test, svc.predict(X_test))\n",
    "pd.DataFrame(data = m_confusion_test, columns = ['Predicted 0', 'Predicted 1'],\n",
    "            index = ['Actual 0', 'Actual 1'])"
   ]
  },
  {
   "cell_type": "markdown",
   "metadata": {
    "colab_type": "text",
    "id": "lDQNRcsrPhYQ"
   },
   "source": [
    "The model has misclassified 39 spam as non-spam messages (False Negative).\n",
    "\n",
    "However, it does not misclassify any ham/non-spam message (False Positive is zero).\n",
    "\n",
    "## Conclusion\n",
    "\n",
    "The best model found is the SVM with 97.87% accuracy.\n",
    "\n",
    "It classifies every non-spam message correctly (Model Precision)\n",
    "\n",
    "It classifies the 84.08% of spam messages correctly (Model Recall)"
   ]
  },
  {
   "cell_type": "markdown",
   "metadata": {
    "colab_type": "text",
    "id": "qjYW3LLK0xth"
   },
   "source": [
    "# +++++++++++++++++++++++++++++++++++++++++++++++++++++\n",
    "\n",
    "# A Systematic Approach to Hyperparameter Tuning for SVM"
   ]
  },
  {
   "cell_type": "markdown",
   "metadata": {
    "colab_type": "text",
    "id": "oQ7Cz9Wv09VV"
   },
   "source": [
    "### Define a Utility Function for Displaying the Best Model Parameters"
   ]
  },
  {
   "cell_type": "code",
   "execution_count": 27,
   "metadata": {
    "colab": {},
    "colab_type": "code",
    "id": "iwOnO9NjrMiq"
   },
   "outputs": [],
   "source": [
    "# Utility function to report best scores\n",
    "def report(results, n_top=3):\n",
    "    for i in range(1, n_top + 1):\n",
    "        candidates = np.flatnonzero(results['rank_test_score'] == i)\n",
    "        for candidate in candidates:\n",
    "            print(\"Model with rank: {0}\".format(i))\n",
    "            print(\"Mean validation score: {0:.3f} (std: {1:.3f})\".format(\n",
    "                  results['mean_test_score'][candidate],\n",
    "                  results['std_test_score'][candidate]))\n",
    "            print(\"Parameters: {0}\".format(results['params'][candidate]))\n",
    "            print(\"\")\n",
    "\n"
   ]
  },
  {
   "cell_type": "markdown",
   "metadata": {
    "colab_type": "text",
    "id": "8JUQ-xYf1PgM"
   },
   "source": [
    "### Define a SVM Model"
   ]
  },
  {
   "cell_type": "code",
   "execution_count": 28,
   "metadata": {
    "colab": {},
    "colab_type": "code",
    "id": "38zuMNaQo_aK"
   },
   "outputs": [],
   "source": [
    "svc = svm.SVC()"
   ]
  },
  {
   "cell_type": "markdown",
   "metadata": {
    "colab_type": "text",
    "id": "8iuvppE72L-d"
   },
   "source": [
    "### Define the list of Hyper-parameter to be Tuned"
   ]
  },
  {
   "cell_type": "code",
   "execution_count": 34,
   "metadata": {
    "colab": {},
    "colab_type": "code",
    "id": "k4F7CT0F1gDf"
   },
   "outputs": [],
   "source": [
    "param_list={ \"C\" : [0.5, 1.0, 10, 30, 100],\n",
    "            \"kernel\" : ['linear', 'rbf', 'poly', 'sigmoid'],\n",
    "            \"gamma\" : [0.05, 0.09, 1.5, 10.0]\n",
    "            }\n",
    "\n",
    "n_iter=10"
   ]
  },
  {
   "cell_type": "markdown",
   "metadata": {
    "colab_type": "text",
    "id": "Xvh-T4pGycjo"
   },
   "source": [
    "## RandomizedSearchCV\n",
    "### Search for suitable Hyper-parameter from a Random Subset of Hyper-parameters Space"
   ]
  },
  {
   "cell_type": "code",
   "execution_count": 35,
   "metadata": {
    "colab": {
     "base_uri": "https://localhost:8080/",
     "height": 70
    },
    "colab_type": "code",
    "id": "TpmDV-DPooxN",
    "outputId": "b9f190b4-0641-4b56-cf51-1fb19c2724ec"
   },
   "outputs": [
    {
     "name": "stdout",
     "output_type": "stream",
     "text": [
      "\n",
      " Searching for Optimal Hyper-parameters using RandomizedSearchCV.....\n",
      "RandomizedSearchCV took 140.11 seconds for 10 candidates parameter settings.\n"
     ]
    }
   ],
   "source": [
    "# Run Randomized Search\n",
    "\n",
    "random_search = RandomizedSearchCV(svc, param_distributions=param_list, n_iter=n_iter, cv=5)\n",
    "\n",
    "print('\\n Searching for Optimal Hyper-parameters using RandomizedSearchCV.....')\n",
    "start = time()\n",
    "random_search.fit(X, y)\n",
    "print(\"RandomizedSearchCV took %.2f seconds for %d candidates\"\n",
    "      \" parameter settings.\" % ((time() - start), n_iter))\n"
   ]
  },
  {
   "cell_type": "code",
   "execution_count": 37,
   "metadata": {
    "colab": {
     "base_uri": "https://localhost:8080/",
     "height": 230
    },
    "colab_type": "code",
    "id": "21ZCzWXMrQX-",
    "outputId": "4e31c01d-220c-4517-96a9-75bb7d5419a2"
   },
   "outputs": [
    {
     "name": "stdout",
     "output_type": "stream",
     "text": [
      "Model with rank: 1\n",
      "Mean validation score: 0.982 (std: 0.002)\n",
      "Parameters: {'kernel': 'linear', 'C': 0.5, 'gamma': 0.05}\n",
      "\n",
      "Model with rank: 2\n",
      "Mean validation score: 0.982 (std: 0.002)\n",
      "Parameters: {'kernel': 'linear', 'C': 30, 'gamma': 0.09}\n",
      "\n",
      "Model with rank: 2\n",
      "Mean validation score: 0.982 (std: 0.002)\n",
      "Parameters: {'kernel': 'linear', 'C': 30, 'gamma': 0.05}\n",
      "\n"
     ]
    }
   ],
   "source": [
    "report(random_search.cv_results_)\n"
   ]
  },
  {
   "cell_type": "markdown",
   "metadata": {
    "colab_type": "text",
    "id": "UxhhXVtGfTOT"
   },
   "source": [
    "## Let's verify the Results with the Best Hyper-Parameters suggested by RandomizedSearchCV"
   ]
  },
  {
   "cell_type": "code",
   "execution_count": 38,
   "metadata": {
    "colab": {
     "base_uri": "https://localhost:8080/",
     "height": 247
    },
    "colab_type": "code",
    "id": "uFKDmcSWeVsL",
    "outputId": "2b136c38-a8ee-40a7-87f9-9c39ba7aed3d"
   },
   "outputs": [
    {
     "name": "stdout",
     "output_type": "stream",
     "text": [
      "\n",
      " Acccuracy : \n",
      "0.9815116911364872\n",
      "\n",
      " Recall : \n",
      "0.8693877551020408\n",
      "\n",
      " Precision : \n",
      "0.9906976744186047\n",
      "\n",
      " Confusion Matrix : \n",
      "[[1592    2]\n",
      " [  32  213]]\n"
     ]
    }
   ],
   "source": [
    "svc = svm.SVC(kernel='linear', gamma = 0.05, C= 0.5) # the first result shown above\n",
    "svc.fit(X_train,y_train)\n",
    "\n",
    "predicted=svc.predict(X_test)\n",
    "\n",
    "print (\"\\n Acccuracy : \")\n",
    "print(metrics.accuracy_score(y_test, predicted))\n",
    "\n",
    "print (\"\\n Recall : \")\n",
    "print(metrics.recall_score(y_test, predicted))\n",
    "\n",
    "print (\"\\n Precision : \")\n",
    "print(metrics.precision_score(y_test, predicted))\n",
    "\n",
    "print (\"\\n Confusion Matrix : \")\n",
    "print(metrics.confusion_matrix(y_test, predicted))"
   ]
  },
  {
   "cell_type": "markdown",
   "metadata": {
    "colab_type": "text",
    "id": "-pMc2faNyuuC"
   },
   "source": [
    "## GridSearchCV\n",
    "### Search for suitable Hyper-parameter Exhaustively from the set of all possible combinaion of Hyper-parameters"
   ]
  },
  {
   "cell_type": "code",
   "execution_count": 39,
   "metadata": {
    "colab": {
     "base_uri": "https://localhost:8080/",
     "height": 70
    },
    "colab_type": "code",
    "id": "mXIq4Uzdom6J",
    "outputId": "a8eaf987-8c77-45be-c7d1-490d24e38c12"
   },
   "outputs": [
    {
     "name": "stdout",
     "output_type": "stream",
     "text": [
      "\n",
      " Exhaustively Searching for Optimal Hyper-parameters using GridSearchCV.....\n",
      "GridSearchCV took 1270.31 seconds for 80 candidate parameter settings.\n"
     ]
    }
   ],
   "source": [
    "\n",
    "# Run Grid Search\n",
    "grid_search = GridSearchCV(svc, param_grid=param_list, cv=5)\n",
    "print('\\n Exhaustively Searching for Optimal Hyper-parameters using GridSearchCV.....')\n",
    "start = time()\n",
    "grid_search.fit(X, y)\n",
    "\n",
    "print(\"GridSearchCV took %.2f seconds for %d candidate parameter settings.\"\n",
    "      % (time() - start, len(grid_search.cv_results_['params'])))\n"
   ]
  },
  {
   "cell_type": "code",
   "execution_count": 40,
   "metadata": {
    "colab": {
     "base_uri": "https://localhost:8080/",
     "height": 585
    },
    "colab_type": "code",
    "id": "ZvrizWDBrVDY",
    "outputId": "eb640ccc-05e3-4f35-a12c-fe8186fb41f2"
   },
   "outputs": [
    {
     "name": "stdout",
     "output_type": "stream",
     "text": [
      "Model with rank: 1\n",
      "Mean validation score: 0.982 (std: 0.002)\n",
      "Parameters: {'kernel': 'linear', 'C': 0.5, 'gamma': 0.05}\n",
      "\n",
      "Model with rank: 1\n",
      "Mean validation score: 0.982 (std: 0.002)\n",
      "Parameters: {'kernel': 'linear', 'C': 0.5, 'gamma': 0.09}\n",
      "\n",
      "Model with rank: 1\n",
      "Mean validation score: 0.982 (std: 0.002)\n",
      "Parameters: {'kernel': 'linear', 'C': 0.5, 'gamma': 1.5}\n",
      "\n",
      "Model with rank: 1\n",
      "Mean validation score: 0.982 (std: 0.002)\n",
      "Parameters: {'kernel': 'linear', 'C': 0.5, 'gamma': 10.0}\n",
      "\n",
      "Model with rank: 1\n",
      "Mean validation score: 0.982 (std: 0.002)\n",
      "Parameters: {'kernel': 'linear', 'C': 1.0, 'gamma': 0.05}\n",
      "\n",
      "Model with rank: 1\n",
      "Mean validation score: 0.982 (std: 0.002)\n",
      "Parameters: {'kernel': 'linear', 'C': 1.0, 'gamma': 0.09}\n",
      "\n",
      "Model with rank: 1\n",
      "Mean validation score: 0.982 (std: 0.002)\n",
      "Parameters: {'kernel': 'linear', 'C': 1.0, 'gamma': 1.5}\n",
      "\n",
      "Model with rank: 1\n",
      "Mean validation score: 0.982 (std: 0.002)\n",
      "Parameters: {'kernel': 'linear', 'C': 1.0, 'gamma': 10.0}\n",
      "\n"
     ]
    }
   ],
   "source": [
    "report(grid_search.cv_results_)"
   ]
  },
  {
   "cell_type": "markdown",
   "metadata": {
    "colab_type": "text",
    "id": "UKmq0x49gW8j"
   },
   "source": [
    "## Let's verify the Results with the Best Hyper-Parameters suggested by GridSearchCV"
   ]
  },
  {
   "cell_type": "code",
   "execution_count": 41,
   "metadata": {
    "colab": {
     "base_uri": "https://localhost:8080/",
     "height": 247
    },
    "colab_type": "code",
    "id": "8rFq3nZTfuvG",
    "outputId": "69a60327-3088-45b7-c3b4-bfc828a4dfab"
   },
   "outputs": [
    {
     "name": "stdout",
     "output_type": "stream",
     "text": [
      "\n",
      " Acccuracy : \n",
      "0.9820554649265906\n",
      "\n",
      " Recall : \n",
      "0.8693877551020408\n",
      "\n",
      " Precision : \n",
      "0.9953271028037384\n",
      "\n",
      " Confusion Matrix : \n",
      "[[1593    1]\n",
      " [  32  213]]\n"
     ]
    }
   ],
   "source": [
    "\n",
    "svc = svm.SVC(kernel='linear', gamma = 10.0, C= 1.8) # the last result shown above\n",
    "\n",
    "svc.fit(X_train,y_train)\n",
    "\n",
    "predicted=svc.predict(X_test)\n",
    "\n",
    "print (\"\\n Acccuracy : \")\n",
    "print(metrics.accuracy_score(y_test, predicted))\n",
    "\n",
    "print (\"\\n Recall : \")\n",
    "print(metrics.recall_score(y_test, predicted))\n",
    "\n",
    "print (\"\\n Precision : \")\n",
    "print(metrics.precision_score(y_test, predicted))\n",
    "\n",
    "print (\"\\n Confusion Matrix : \")\n",
    "print(metrics.confusion_matrix(y_test, predicted))"
   ]
  }
 ],
 "metadata": {
  "accelerator": "GPU",
  "colab": {
   "collapsed_sections": [],
   "name": "Ham_Spam_SVM.ipynb",
   "provenance": []
  },
  "kernelspec": {
   "display_name": "Python 3",
   "language": "python",
   "name": "python3"
  },
  "language_info": {
   "codemirror_mode": {
    "name": "ipython",
    "version": 3
   },
   "file_extension": ".py",
   "mimetype": "text/x-python",
   "name": "python",
   "nbconvert_exporter": "python",
   "pygments_lexer": "ipython3",
   "version": "3.8.1"
  }
 },
 "nbformat": 4,
 "nbformat_minor": 1
}
