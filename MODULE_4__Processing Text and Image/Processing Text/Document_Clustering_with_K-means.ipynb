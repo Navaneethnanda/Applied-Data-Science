{
 "cells": [
  {
   "cell_type": "markdown",
   "metadata": {},
   "source": [
    "\n",
    "# Clustering Text Documents using K-Means Algorithm\n",
    "\n",
    "\n",
    "### This is an example showing how the scikit-learn can be used to cluster documents by topics using TF-IDF approach. \n",
    "\n",
    "This example uses a scipy.sparse matrix to store the features instead of standard numpy arrays.\n",
    "\n",
    "Feature extraction method being used in this example:\n",
    "\n",
    "  - **TfidfVectorizer** uses a in-memory vocabulary (a python dict) to map the most\n",
    "    frequent words to features indices and hence compute a word occurrence\n",
    "    frequency (sparse) matrix. The word frequencies are then reweighted using\n",
    "    the Inverse Document Frequency (IDF) vector collected feature-wise over\n",
    "    the corpus.\n",
    "\n",
    "\n",
    "Two algorithms are demoed: ordinary k-means and its more scalable cousin\n",
    "minibatch k-means.\n",
    "\n",
    "Additionally, latent semantic analysis can also be used to reduce dimensionality and discover latent patterns in the data.\n",
    "\n",
    "It can be noted that k-means (and minibatch k-means) are very sensitive to feature scaling and that in this case the IDF weighting helps improve the quality of the clustering by quite a lot as measured against the \"ground truth\" provided by the class label assignments of the 20 newsgroups dataset.\n",
    "\n",
    "This improvement is not visible in the Silhouette Coefficient which is small for both as this measure seem to suffer from the phenomenon called \"Concentration of Measure\" or \"Curse of Dimensionality\" for high dimensional datasets such as text data. \n",
    "\n",
    "Other measures such as V-measure and Adjusted Rand Index are information theoretic based evaluation scores: as they are only based on cluster assignments rather than distances, hence not affected by the curse of dimensionality.\n",
    "\n",
    "Note: as k-means is optimizing a non-convex objective function, it will likely end up in a local optimum. \n",
    "Several runs with independent random init might be necessary to get a good convergence.\n"
   ]
  },
  {
   "cell_type": "markdown",
   "metadata": {},
   "source": [
    "## Import Libraries"
   ]
  },
  {
   "cell_type": "code",
   "execution_count": 53,
   "metadata": {},
   "outputs": [],
   "source": [
    "# Dataset\n",
    "from sklearn.datasets import fetch_20newsgroups\n",
    "\n",
    "from sklearn.feature_extraction.text import TfidfVectorizer\n",
    "#from sklearn.feature_extraction.text import TfidfTransformer\n",
    "from sklearn.decomposition import TruncatedSVD\n",
    "from sklearn.preprocessing import Normalizer\n",
    "from sklearn.cluster import KMeans, MiniBatchKMeans\n",
    "from sklearn.pipeline import make_pipeline\n",
    "from sklearn import metrics\n",
    "\n",
    "from time import time\n",
    "\n",
    "import numpy as np"
   ]
  },
  {
   "cell_type": "markdown",
   "metadata": {},
   "source": [
    "## Read Data"
   ]
  },
  {
   "cell_type": "code",
   "execution_count": 54,
   "metadata": {},
   "outputs": [],
   "source": [
    "# #############################################################################\n",
    "\n",
    "# Load some specific categories from the training set\n",
    "categories = [\n",
    "    'alt.atheism',\n",
    "    'talk.religion.misc',\n",
    "    'comp.graphics',\n",
    "    'sci.space',\n",
    "]\n",
    "\n",
    "# Uncomment the following to do the analysis on all the categories\n",
    "# categories = None\n"
   ]
  },
  {
   "cell_type": "code",
   "execution_count": 55,
   "metadata": {
    "scrolled": true
   },
   "outputs": [
    {
     "name": "stdout",
     "output_type": "stream",
     "text": [
      "Loading 20 newsgroups dataset for categories:\n",
      "['alt.atheism', 'talk.religion.misc', 'comp.graphics', 'sci.space']\n",
      "3387 documents\n",
      "4 categories\n",
      "\n"
     ]
    }
   ],
   "source": [
    "print(\"Loading 20 newsgroups dataset for categories:\")\n",
    "print(categories)\n",
    "\n",
    "dataset = fetch_20newsgroups(subset='all', categories=categories, shuffle=True, random_state=42)\n",
    "\n",
    "print(\"%d documents\" % len(dataset.data))\n",
    "print(\"%d categories\" % len(dataset.target_names))\n",
    "print()\n"
   ]
  },
  {
   "cell_type": "code",
   "execution_count": 56,
   "metadata": {},
   "outputs": [],
   "source": [
    "labels = dataset.target\n",
    "true_k = np.unique(labels).shape[0]"
   ]
  },
  {
   "cell_type": "code",
   "execution_count": 57,
   "metadata": {},
   "outputs": [
    {
     "name": "stdout",
     "output_type": "stream",
     "text": [
      "Extracting features from the training dataset using a sparse vectorizer\n",
      "done in 1.875018s\n",
      "n_samples: 3387, n_features: 100\n",
      "\n"
     ]
    }
   ],
   "source": [
    "print(\"Extracting features from the training dataset using a sparse vectorizer\")\n",
    "\n",
    "n_features = 100\n",
    "\n",
    "# Convert a collection of raw documents to a matrix of TF-IDF features.\n",
    "vectorizer = TfidfVectorizer(max_df=0.5, max_features= n_features, min_df=2, stop_words='english', use_idf=True)\n",
    "t0 = time()\n",
    "X = vectorizer.fit_transform(dataset.data)\n",
    "\n",
    "print(\"done in %fs\" % (time() - t0))\n",
    "print(\"n_samples: %d, n_features: %d\" % X.shape)\n",
    "print()\n"
   ]
  },
  {
   "cell_type": "code",
   "execution_count": 58,
   "metadata": {},
   "outputs": [
    {
     "data": {
      "text/plain": [
       "<3387x100 sparse matrix of type '<class 'numpy.float64'>'\n",
       "\twith 48800 stored elements in Compressed Sparse Row format>"
      ]
     },
     "execution_count": 58,
     "metadata": {},
     "output_type": "execute_result"
    }
   ],
   "source": [
    "X"
   ]
  },
  {
   "cell_type": "code",
   "execution_count": 59,
   "metadata": {},
   "outputs": [
    {
     "name": "stdout",
     "output_type": "stream",
     "text": [
      "Performing Dimensionality Reduction using LSA\n",
      "done in 0.115999s\n",
      "Explained variance of the SVD step: 53%\n",
      "\n"
     ]
    }
   ],
   "source": [
    "print(\"Performing Dimensionality Reduction using LSA\")\n",
    "\n",
    "n_components = 30\n",
    "\n",
    "t0 = time()\n",
    "\n",
    "# Vectorizer results are normalized, which makes KMeans behave as spherical k-means for better results. \n",
    "# Since LSA/SVD results are not normalized, we have to redo the normalization.\n",
    "svd = TruncatedSVD(n_components)\n",
    "normalizer = Normalizer(copy=False)\n",
    "\n",
    "lsa = make_pipeline(svd, normalizer)\n",
    "\n",
    "X = lsa.fit_transform(X)\n",
    "\n",
    "print(\"done in %fs\" % (time() - t0))\n",
    "\n",
    "explained_variance = svd.explained_variance_ratio_.sum()\n",
    "print(\"Explained variance of the SVD step: {}%\".format(int(explained_variance * 100)))\n",
    "\n",
    "print()\n"
   ]
  },
  {
   "cell_type": "markdown",
   "metadata": {},
   "source": [
    "## Perform Clustering"
   ]
  },
  {
   "cell_type": "code",
   "execution_count": 60,
   "metadata": {},
   "outputs": [
    {
     "name": "stdout",
     "output_type": "stream",
     "text": [
      "Clustering sparse data with MiniBatchKMeans(batch_size=1000, compute_labels=True, init='k-means++',\n",
      "                init_size=1000, max_iter=100, max_no_improvement=10,\n",
      "                n_clusters=4, n_init=1, random_state=None,\n",
      "                reassignment_ratio=0.01, tol=0.0, verbose=1)\n",
      "Init 1/1 with method: k-means++\n",
      "Inertia for init 1/1: 713.872769\n",
      "Minibatch iteration 1/400: mean batch inertia: 0.708108, ewa inertia: 0.708108 \n",
      "Minibatch iteration 2/400: mean batch inertia: 0.697559, ewa inertia: 0.701880 \n",
      "Minibatch iteration 3/400: mean batch inertia: 0.695015, ewa inertia: 0.697827 \n",
      "Minibatch iteration 4/400: mean batch inertia: 0.689436, ewa inertia: 0.692874 \n",
      "Minibatch iteration 5/400: mean batch inertia: 0.693373, ewa inertia: 0.693168 \n",
      "Minibatch iteration 6/400: mean batch inertia: 0.691870, ewa inertia: 0.692402 \n",
      "Minibatch iteration 7/400: mean batch inertia: 0.691571, ewa inertia: 0.691912 \n",
      "Minibatch iteration 8/400: mean batch inertia: 0.687813, ewa inertia: 0.689492 \n",
      "Minibatch iteration 9/400: mean batch inertia: 0.679067, ewa inertia: 0.683338 \n",
      "Minibatch iteration 10/400: mean batch inertia: 0.684223, ewa inertia: 0.683861 \n",
      "Minibatch iteration 11/400: mean batch inertia: 0.684982, ewa inertia: 0.684523 \n",
      "Minibatch iteration 12/400: mean batch inertia: 0.682397, ewa inertia: 0.683268 \n",
      "Minibatch iteration 13/400: mean batch inertia: 0.683846, ewa inertia: 0.683609 \n",
      "Minibatch iteration 14/400: mean batch inertia: 0.676893, ewa inertia: 0.679645 \n",
      "Minibatch iteration 15/400: mean batch inertia: 0.676043, ewa inertia: 0.677519 \n",
      "Minibatch iteration 16/400: mean batch inertia: 0.686111, ewa inertia: 0.682591 \n",
      "Minibatch iteration 17/400: mean batch inertia: 0.679561, ewa inertia: 0.680802 \n",
      "Minibatch iteration 18/400: mean batch inertia: 0.672263, ewa inertia: 0.675761 \n",
      "Minibatch iteration 19/400: mean batch inertia: 0.678650, ewa inertia: 0.677466 \n",
      "Minibatch iteration 20/400: mean batch inertia: 0.678366, ewa inertia: 0.677998 \n",
      "Minibatch iteration 21/400: mean batch inertia: 0.677740, ewa inertia: 0.677846 \n",
      "Minibatch iteration 22/400: mean batch inertia: 0.678151, ewa inertia: 0.678026 \n",
      "Minibatch iteration 23/400: mean batch inertia: 0.678657, ewa inertia: 0.678398 \n",
      "Minibatch iteration 24/400: mean batch inertia: 0.682375, ewa inertia: 0.680746 \n",
      "Minibatch iteration 25/400: mean batch inertia: 0.681483, ewa inertia: 0.681181 \n",
      "Minibatch iteration 26/400: mean batch inertia: 0.679508, ewa inertia: 0.680193 \n",
      "Minibatch iteration 27/400: mean batch inertia: 0.687140, ewa inertia: 0.684294 \n",
      "Minibatch iteration 28/400: mean batch inertia: 0.685185, ewa inertia: 0.684820 \n",
      "Converged (lack of improvement in inertia) at iteration 28/400\n",
      "Computing label assignment and total inertia\n",
      "Done in 0.129s\n",
      "\n",
      "Homogeneity: 0.326\n",
      "Completeness: 0.328\n",
      "V-measure: 0.327\n",
      "Adjusted Rand-Index: 0.274\n",
      "Silhouette Coefficient: 0.077\n"
     ]
    }
   ],
   "source": [
    "# Whether to use Minibatch K-Means\n",
    "minibatch=True\n",
    "#minibatch=False\n",
    "\n",
    "if minibatch:\n",
    "    km = MiniBatchKMeans(n_clusters=true_k, init='k-means++', n_init=1, init_size=1000, batch_size=1000, verbose=1)\n",
    "else:\n",
    "    km = KMeans(n_clusters=true_k, init='k-means++', max_iter=100, n_init=1, verbose=1)\n",
    "\n",
    "print(\"Clustering sparse data with %s\" % km)\n",
    "t0 = time()\n",
    "km.fit(X)\n",
    "\n",
    "print(\"Done in %0.3fs\" % (time() - t0))\n",
    "print()\n",
    "\n",
    "print(\"Homogeneity: %0.3f\" % metrics.homogeneity_score(labels, km.labels_))\n",
    "print(\"Completeness: %0.3f\" % metrics.completeness_score(labels, km.labels_))\n",
    "print(\"V-measure: %0.3f\" % metrics.v_measure_score(labels, km.labels_))\n",
    "print(\"Adjusted Rand-Index: %.3f\" % metrics.adjusted_rand_score(labels, km.labels_))\n",
    "print(\"Silhouette Coefficient: %0.3f\" % metrics.silhouette_score(X, km.labels_, sample_size=1000))\n"
   ]
  },
  {
   "cell_type": "code",
   "execution_count": 61,
   "metadata": {},
   "outputs": [
    {
     "name": "stdout",
     "output_type": "stream",
     "text": [
      "Top terms per cluster:\n",
      "Cluster 0: university article posting uk just nntp host know think does don say like ac did\n",
      "Cluster 1: space nasa access gov net article just like com cs posting host nntp earth think\n",
      "Cluster 2: graphics university image file program files help posting host nntp need computer mail software format\n",
      "Cluster 3: com god article people don jesus think say just know christian like sgi does believe\n"
     ]
    }
   ],
   "source": [
    "print(\"Top terms per cluster:\")\n",
    "\n",
    "if n_components:\n",
    "    original_space_centroids = svd.inverse_transform(km.cluster_centers_)\n",
    "    order_centroids = original_space_centroids.argsort()[:, ::-1]\n",
    "else:\n",
    "    order_centroids = km.cluster_centers_.argsort()[:, ::-1]\n",
    "\n",
    "terms = vectorizer.get_feature_names()\n",
    "for i in range(true_k):\n",
    "    print(\"Cluster %d:\" % i, end='')\n",
    "    for ind in order_centroids[i, :15]:\n",
    "        print(' %s' % terms[ind], end='')\n",
    "    print()"
   ]
  },
  {
   "cell_type": "code",
   "execution_count": null,
   "metadata": {},
   "outputs": [],
   "source": []
  }
 ],
 "metadata": {
  "kernelspec": {
   "display_name": "Python 3",
   "language": "python",
   "name": "python3"
  },
  "language_info": {
   "codemirror_mode": {
    "name": "ipython",
    "version": 3
   },
   "file_extension": ".py",
   "mimetype": "text/x-python",
   "name": "python",
   "nbconvert_exporter": "python",
   "pygments_lexer": "ipython3",
   "version": "3.8.1"
  }
 },
 "nbformat": 4,
 "nbformat_minor": 1
}
