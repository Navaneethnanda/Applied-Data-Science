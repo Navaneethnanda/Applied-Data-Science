{
 "cells": [
  {
   "cell_type": "markdown",
   "metadata": {
    "colab_type": "text",
    "id": "s9KkNTZegWcr"
   },
   "source": [
    "# Part of Speech Tagging\n",
    "\n",
    "Part of Speech (POS) Tagging  a sentence in a broader sense refers to the addition of labels of the verb, noun,etc.by the context of the sentence. Generic tagging of POS is manually not possible as some words may have different (ambiguous) meanings according to the structure of the sentence. \n",
    "\n",
    "Conversion of text in the form of list of words is done first. Afterwords the list is traversed and a tag is assigned to individual word.\n",
    "\n"
   ]
  },
  {
   "cell_type": "code",
   "execution_count": 1,
   "metadata": {
    "colab": {},
    "colab_type": "code",
    "id": "5-poRRDleXrc"
   },
   "outputs": [],
   "source": [
    "# Install NLTK if not already installed...uncomment the next cell and run it.\n",
    "#! pip install nltk"
   ]
  },
  {
   "cell_type": "code",
   "execution_count": 2,
   "metadata": {
    "colab": {
     "base_uri": "https://localhost:8080/",
     "height": 68
    },
    "colab_type": "code",
    "id": "HMPz1FMrfFXA",
    "outputId": "8f53c01c-b304-42d9-c55b-638842adc91e"
   },
   "outputs": [
    {
     "name": "stderr",
     "output_type": "stream",
     "text": [
      "[nltk_data] Downloading package punkt to\n",
      "[nltk_data]     C:\\Users\\soharab.hossain\\AppData\\Roaming\\nltk_data...\n",
      "[nltk_data]   Package punkt is already up-to-date!\n"
     ]
    },
    {
     "data": {
      "text/plain": [
       "True"
      ]
     },
     "execution_count": 2,
     "metadata": {},
     "output_type": "execute_result"
    }
   ],
   "source": [
    "import nltk\n",
    "nltk.download('punkt')"
   ]
  },
  {
   "cell_type": "code",
   "execution_count": 3,
   "metadata": {
    "colab": {
     "base_uri": "https://localhost:8080/",
     "height": 102
    },
    "colab_type": "code",
    "id": "9f9TIJ39fk3K",
    "outputId": "2dcad511-f573-440a-cea7-a6ae564a89af"
   },
   "outputs": [
    {
     "name": "stderr",
     "output_type": "stream",
     "text": [
      "[nltk_data] Downloading package averaged_perceptron_tagger to\n",
      "[nltk_data]     C:\\Users\\soharab.hossain\\AppData\\Roaming\\nltk_data...\n",
      "[nltk_data]   Unzipping taggers\\averaged_perceptron_tagger.zip.\n"
     ]
    },
    {
     "data": {
      "text/plain": [
       "True"
      ]
     },
     "execution_count": 3,
     "metadata": {},
     "output_type": "execute_result"
    }
   ],
   "source": [
    "nltk.download('averaged_perceptron_tagger')"
   ]
  },
  {
   "cell_type": "code",
   "execution_count": 4,
   "metadata": {
    "colab": {
     "base_uri": "https://localhost:8080/",
     "height": 85
    },
    "colab_type": "code",
    "id": "cd8bUXqR1t2_",
    "outputId": "f8494faa-e0ec-45ca-c246-9c6d562fc1aa"
   },
   "outputs": [
    {
     "name": "stderr",
     "output_type": "stream",
     "text": [
      "[nltk_data] Downloading package maxent_ne_chunker to\n",
      "[nltk_data]     C:\\Users\\soharab.hossain\\AppData\\Roaming\\nltk_data...\n",
      "[nltk_data]   Unzipping chunkers\\maxent_ne_chunker.zip.\n"
     ]
    },
    {
     "data": {
      "text/plain": [
       "True"
      ]
     },
     "execution_count": 4,
     "metadata": {},
     "output_type": "execute_result"
    }
   ],
   "source": [
    "nltk.download('maxent_ne_chunker')"
   ]
  },
  {
   "cell_type": "code",
   "execution_count": 5,
   "metadata": {
    "colab": {
     "base_uri": "https://localhost:8080/",
     "height": 68
    },
    "colab_type": "code",
    "id": "cWJ7cS4D1-vc",
    "outputId": "11bdd613-7e8d-47e8-bf28-232f76edf799"
   },
   "outputs": [
    {
     "name": "stderr",
     "output_type": "stream",
     "text": [
      "[nltk_data] Downloading package words to\n",
      "[nltk_data]     C:\\Users\\soharab.hossain\\AppData\\Roaming\\nltk_data...\n",
      "[nltk_data]   Unzipping corpora\\words.zip.\n"
     ]
    },
    {
     "data": {
      "text/plain": [
       "True"
      ]
     },
     "execution_count": 5,
     "metadata": {},
     "output_type": "execute_result"
    }
   ],
   "source": [
    "nltk.download('words')"
   ]
  },
  {
   "cell_type": "markdown",
   "metadata": {
    "colab_type": "text",
    "id": "dXGKBmLPf7fL"
   },
   "source": [
    "## POS Tagging"
   ]
  },
  {
   "cell_type": "code",
   "execution_count": 6,
   "metadata": {
    "colab": {
     "base_uri": "https://localhost:8080/",
     "height": 54
    },
    "colab_type": "code",
    "id": "s5S3IGmQfp5p",
    "outputId": "d12d3846-e61c-4f4e-f182-4020d7b75cd0"
   },
   "outputs": [
    {
     "name": "stdout",
     "output_type": "stream",
     "text": [
      "After Token: [('A', 'DT'), ('quick', 'JJ'), ('brown', 'NN'), ('fox', 'NN'), ('jumps', 'VBZ'), ('over', 'IN'), ('the', 'DT'), ('lazy', 'JJ'), ('dogs', 'NNS'), ('.', '.')]\n"
     ]
    }
   ],
   "source": [
    "\n",
    "text=\"A quick brown fox jumps over the lazy dogs.\"\n",
    "\n",
    "tokens_tag = nltk.pos_tag(nltk.word_tokenize(text))\n",
    "\n",
    "print(\"After Token:\",tokens_tag)\n"
   ]
  },
  {
   "cell_type": "code",
   "execution_count": 7,
   "metadata": {
    "colab": {
     "base_uri": "https://localhost:8080/",
     "height": 34
    },
    "colab_type": "code",
    "id": "ZB9u8tf-hSLe",
    "outputId": "5714f847-d6f2-4a81-87bd-900b5f706ac5"
   },
   "outputs": [
    {
     "name": "stdout",
     "output_type": "stream",
     "text": [
      "['everybody', 'should', 'learn', 'machine', 'learning', 'with', 'python']\n"
     ]
    }
   ],
   "source": [
    "text = \"everybody should learn machine learning with python\"\n",
    "tokens = nltk.word_tokenize(text)\n",
    "print(tokens)\n"
   ]
  },
  {
   "cell_type": "code",
   "execution_count": 8,
   "metadata": {
    "colab": {
     "base_uri": "https://localhost:8080/",
     "height": 34
    },
    "colab_type": "code",
    "id": "vjZfP8gYIztJ",
    "outputId": "85859424-29a3-43bd-975b-6613863f4132"
   },
   "outputs": [
    {
     "name": "stdout",
     "output_type": "stream",
     "text": [
      "[('everybody', 'NN'), ('should', 'MD'), ('learn', 'VB'), ('machine', 'NN'), ('learning', 'VBG'), ('with', 'IN'), ('python', 'NN')]\n"
     ]
    }
   ],
   "source": [
    "tag = nltk.pos_tag(tokens)\n",
    "print(tag)\n"
   ]
  },
  {
   "cell_type": "markdown",
   "metadata": {
    "colab_type": "text",
    "id": "bbEKDV-cSzLS"
   },
   "source": [
    "# Named Entity Recognition (NER)\n",
    "\n",
    "Named entity recognition (NER) is probably the first step towards information extraction that seeks to locate and classify named entities in text into pre-defined categories such as the names of persons, organizations, locations, expressions of times, quantities, monetary values, percentages, etc. NER is used in many fields in Natural Language Processing (NLP).\n"
   ]
  },
  {
   "cell_type": "markdown",
   "metadata": {
    "colab_type": "text",
    "id": "CcB99OStSwug"
   },
   "source": [
    "## Chunking\n",
    "\n",
    "**We need to implement noun phrase chunking to identify named entities using a regular expression consisting of rules that indicate how sentences should be chunked.**\n",
    "\n",
    "In this case the chunk pattern consists of one rule - a noun phrase, NP, should be formed whenever the chunker finds an optional determiner, DT, followed by any number of adjectives, JJ, and then a noun, NN."
   ]
  },
  {
   "cell_type": "code",
   "execution_count": 9,
   "metadata": {
    "colab": {
     "base_uri": "https://localhost:8080/",
     "height": 309
    },
    "colab_type": "code",
    "id": "dwVoTB2wPaPY",
    "outputId": "6781fb86-e52b-4aea-82f5-3e4ddde0e456"
   },
   "outputs": [
    {
     "name": "stdout",
     "output_type": "stream",
     "text": [
      "['Jack', 'and', 'Jill', 'went', 'up', 'the', 'hill', ',', 'to', 'fetch', 'a', 'pale', 'of', 'water', '.']\n",
      "[('Jack', 'NNP'), ('and', 'CC'), ('Jill', 'NNP'), ('went', 'VBD'), ('up', 'RP'), ('the', 'DT'), ('hill', 'NN'), (',', ','), ('to', 'TO'), ('fetch', 'VB'), ('a', 'DT'), ('pale', 'NN'), ('of', 'IN'), ('water', 'NN'), ('.', '.')]\n",
      "(S\n",
      "  Jack/NNP\n",
      "  and/CC\n",
      "  Jill/NNP\n",
      "  went/VBD\n",
      "  up/RP\n",
      "  (NP the/DT hill/NN)\n",
      "  ,/,\n",
      "  to/TO\n",
      "  fetch/VB\n",
      "  (NP a/DT pale/NN)\n",
      "  of/IN\n",
      "  (NP water/NN)\n",
      "  ./.)\n"
     ]
    }
   ],
   "source": [
    "grammar = \"NP: {<DT>?<JJ>*<NN>}\"\n",
    "cp  =nltk.RegexpParser(grammar)\n",
    "\n",
    "\n",
    "\n",
    "text = \"Jack and Jill went up the hill, to fetch a pale of water.\"\n",
    "\n",
    "# Tokenize words\n",
    "tokens = nltk.word_tokenize(text)\n",
    "print(tokens)\n",
    "\n",
    "# POS tag the words\n",
    "tag = nltk.pos_tag(tokens)\n",
    "print(tag)\n",
    "\n",
    "# Chunking\n",
    "result = cp.parse(tag)\n",
    "print(result)\n"
   ]
  },
  {
   "cell_type": "markdown",
   "metadata": {
    "colab_type": "text",
    "id": "dhV_t23FLUAP"
   },
   "source": [
    "### Another Example"
   ]
  },
  {
   "cell_type": "code",
   "execution_count": 10,
   "metadata": {
    "colab": {},
    "colab_type": "code",
    "id": "EYcbgmVcS3V9"
   },
   "outputs": [],
   "source": [
    "sentence = \"\"\"Alice and Bob went to America to see the President at Washington D.C\"\"\"\n"
   ]
  },
  {
   "cell_type": "code",
   "execution_count": 11,
   "metadata": {
    "colab": {
     "base_uri": "https://localhost:8080/",
     "height": 34
    },
    "colab_type": "code",
    "id": "qtiZ65FvoASh",
    "outputId": "c828c156-0284-45c0-f830-cbeeaed65170"
   },
   "outputs": [
    {
     "name": "stdout",
     "output_type": "stream",
     "text": [
      "['Alice', 'and', 'Bob', 'went', 'to', 'America', 'to', 'see', 'the', 'President', 'at', 'Washington', 'D.C']\n"
     ]
    }
   ],
   "source": [
    "tokens = nltk.word_tokenize(sentence)\n",
    "print(tokens)"
   ]
  },
  {
   "cell_type": "code",
   "execution_count": 12,
   "metadata": {
    "colab": {
     "base_uri": "https://localhost:8080/",
     "height": 54
    },
    "colab_type": "code",
    "id": "tTo5uIEtoCvI",
    "outputId": "4db80977-12f6-481f-96ef-08d0e632b29d"
   },
   "outputs": [
    {
     "name": "stdout",
     "output_type": "stream",
     "text": [
      "[('Alice', 'NNP'), ('and', 'CC'), ('Bob', 'NNP'), ('went', 'VBD'), ('to', 'TO'), ('America', 'NNP'), ('to', 'TO'), ('see', 'VB'), ('the', 'DT'), ('President', 'NNP'), ('at', 'IN'), ('Washington', 'NNP'), ('D.C', 'NNP')]\n"
     ]
    }
   ],
   "source": [
    "tagged = nltk.pos_tag(tokens)\n",
    "print(tagged)"
   ]
  },
  {
   "cell_type": "code",
   "execution_count": 13,
   "metadata": {
    "colab": {
     "base_uri": "https://localhost:8080/",
     "height": 54
    },
    "colab_type": "code",
    "id": "1nw7JoM51RXF",
    "outputId": "da6bf378-763e-441d-d26f-982d4d943b1f"
   },
   "outputs": [
    {
     "name": "stdout",
     "output_type": "stream",
     "text": [
      "[('Alice', 'NNP'), ('and', 'CC'), ('Bob', 'NNP'), ('went', 'VBD'), ('to', 'TO'), ('America', 'NNP'), ('to', 'TO'), ('see', 'VB'), ('the', 'DT'), ('President', 'NNP'), ('at', 'IN'), ('Washington', 'NNP'), ('D.C', 'NNP')]\n"
     ]
    }
   ],
   "source": [
    "tagged = nltk.pos_tag(tokens)\n",
    "print(tagged)"
   ]
  },
  {
   "cell_type": "code",
   "execution_count": 14,
   "metadata": {
    "colab": {
     "base_uri": "https://localhost:8080/",
     "height": 255
    },
    "colab_type": "code",
    "id": "PIH744d_oElG",
    "outputId": "3b825a08-037c-459d-e772-29654f0ec128"
   },
   "outputs": [
    {
     "name": "stdout",
     "output_type": "stream",
     "text": [
      "(S\n",
      "  Alice/NNP\n",
      "  and/CC\n",
      "  (PERSON Bob/NNP)\n",
      "  went/VBD\n",
      "  to/TO\n",
      "  (GPE America/NNP)\n",
      "  to/TO\n",
      "  see/VB\n",
      "  the/DT\n",
      "  President/NNP\n",
      "  at/IN\n",
      "  (ORGANIZATION Washington/NNP)\n",
      "  D.C/NNP)\n"
     ]
    }
   ],
   "source": [
    "entities = nltk.chunk.ne_chunk(tagged)\n",
    "print(entities)"
   ]
  },
  {
   "cell_type": "markdown",
   "metadata": {
    "colab_type": "text",
    "id": "emAPB0ua1ZA_"
   },
   "source": [
    "### Another Example"
   ]
  },
  {
   "cell_type": "code",
   "execution_count": 15,
   "metadata": {
    "colab": {},
    "colab_type": "code",
    "id": "ty43rRHU1Cwd"
   },
   "outputs": [],
   "source": [
    "text = 'European authorities fined Google a record $5.1 billion on Wednesday for abusing its power in the mobile phone market and ordered the company to alter its practices'"
   ]
  },
  {
   "cell_type": "code",
   "execution_count": 16,
   "metadata": {
    "colab": {
     "base_uri": "https://localhost:8080/",
     "height": 54
    },
    "colab_type": "code",
    "id": "NIWi7v3h1M3a",
    "outputId": "82ff71f9-0598-4114-b66d-5e37376671ec"
   },
   "outputs": [
    {
     "name": "stdout",
     "output_type": "stream",
     "text": [
      "['European', 'authorities', 'fined', 'Google', 'a', 'record', '$', '5.1', 'billion', 'on', 'Wednesday', 'for', 'abusing', 'its', 'power', 'in', 'the', 'mobile', 'phone', 'market', 'and', 'ordered', 'the', 'company', 'to', 'alter', 'its', 'practices']\n"
     ]
    }
   ],
   "source": [
    "tokens = nltk.word_tokenize(text)\n",
    "print(tokens)"
   ]
  },
  {
   "cell_type": "code",
   "execution_count": 17,
   "metadata": {
    "colab": {
     "base_uri": "https://localhost:8080/",
     "height": 54
    },
    "colab_type": "code",
    "id": "mOp1km3z1SiV",
    "outputId": "6cb4aaa7-9768-417d-8f89-5f369968955a"
   },
   "outputs": [
    {
     "name": "stdout",
     "output_type": "stream",
     "text": [
      "[('European', 'JJ'), ('authorities', 'NNS'), ('fined', 'VBD'), ('Google', 'NNP'), ('a', 'DT'), ('record', 'NN'), ('$', '$'), ('5.1', 'CD'), ('billion', 'CD'), ('on', 'IN'), ('Wednesday', 'NNP'), ('for', 'IN'), ('abusing', 'VBG'), ('its', 'PRP$'), ('power', 'NN'), ('in', 'IN'), ('the', 'DT'), ('mobile', 'JJ'), ('phone', 'NN'), ('market', 'NN'), ('and', 'CC'), ('ordered', 'VBD'), ('the', 'DT'), ('company', 'NN'), ('to', 'TO'), ('alter', 'VB'), ('its', 'PRP$'), ('practices', 'NNS')]\n"
     ]
    }
   ],
   "source": [
    "tagged = nltk.pos_tag(tokens)\n",
    "print(tagged)"
   ]
  },
  {
   "cell_type": "code",
   "execution_count": 18,
   "metadata": {
    "colab": {
     "base_uri": "https://localhost:8080/",
     "height": 510
    },
    "colab_type": "code",
    "id": "xU_WTA_I1VlD",
    "outputId": "f938f3be-0b32-4d09-d019-742569cc9ca2"
   },
   "outputs": [
    {
     "name": "stdout",
     "output_type": "stream",
     "text": [
      "(S\n",
      "  (GPE European/JJ)\n",
      "  authorities/NNS\n",
      "  fined/VBD\n",
      "  (PERSON Google/NNP)\n",
      "  a/DT\n",
      "  record/NN\n",
      "  $/$\n",
      "  5.1/CD\n",
      "  billion/CD\n",
      "  on/IN\n",
      "  Wednesday/NNP\n",
      "  for/IN\n",
      "  abusing/VBG\n",
      "  its/PRP$\n",
      "  power/NN\n",
      "  in/IN\n",
      "  the/DT\n",
      "  mobile/JJ\n",
      "  phone/NN\n",
      "  market/NN\n",
      "  and/CC\n",
      "  ordered/VBD\n",
      "  the/DT\n",
      "  company/NN\n",
      "  to/TO\n",
      "  alter/VB\n",
      "  its/PRP$\n",
      "  practices/NNS)\n"
     ]
    }
   ],
   "source": [
    "entities = nltk.chunk.ne_chunk(tagged)\n",
    "print(entities)"
   ]
  }
 ],
 "metadata": {
  "accelerator": "GPU",
  "colab": {
   "collapsed_sections": [],
   "name": "POS-NER.ipynb",
   "provenance": []
  },
  "kernelspec": {
   "display_name": "Python 3",
   "language": "python",
   "name": "python3"
  },
  "language_info": {
   "codemirror_mode": {
    "name": "ipython",
    "version": 3
   },
   "file_extension": ".py",
   "mimetype": "text/x-python",
   "name": "python",
   "nbconvert_exporter": "python",
   "pygments_lexer": "ipython3",
   "version": "3.8.1"
  }
 },
 "nbformat": 4,
 "nbformat_minor": 1
}
