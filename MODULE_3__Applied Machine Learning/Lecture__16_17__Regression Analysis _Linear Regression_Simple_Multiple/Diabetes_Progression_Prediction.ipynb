{
  "nbformat": 4,
  "nbformat_minor": 0,
  "metadata": {
    "colab": {
      "name": "Diabetes_Progression_Prediction.ipynb",
      "provenance": [],
      "collapsed_sections": []
    },
    "kernelspec": {
      "name": "python3",
      "display_name": "Python 3"
    }
  },
  "cells": [
    {
      "cell_type": "markdown",
      "metadata": {
        "id": "olHIRH4vrM3g",
        "colab_type": "text"
      },
      "source": [
        "\n",
        "# Predict Diabetes Progression with Linear Regression\n",
        "\n",
        "### Diabetes dataset\n",
        "\n",
        "Ten baseline variables - **age, sex, body mass index, average blood\n",
        "pressure, and six blood serum measurements** were obtained for each of \n",
        "n = 442 diabetes patients, as well as the response of interest, a\n",
        "quantitative measure of disease progression one year after baseline.\n",
        "\n",
        "**Data Set Characteristics:**\n",
        "\n",
        "**Number of Instances: 442**\n",
        "\n",
        "**Number of Attributes: First 10 columns are numeric predictive values**\n",
        "\n",
        "**Target: Column 11 is a quantitative measure of disease progression one year after baseline**\n",
        "\n",
        "**Attribute Information:**\n",
        "      **- Age**\n",
        "      **- Sex**\n",
        "      **- Body mass index**\n",
        "      **- Average blood pressure**\n",
        "      **- S1**\n",
        "      **- S2**\n",
        "      **- S3**\n",
        "      **- S4**\n",
        "      **- S5**\n",
        "      **- S6**\n",
        "\n",
        "Note: Each of these 10 feature variables have been mean centered and scaled by the standard deviation times `n_samples` (i.e. the sum of squares of each column totals 1).\n",
        "\n",
        "Source URL:\n",
        "https://www4.stat.ncsu.edu/~boos/var.select/diabetes.html\n",
        "\n",
        "For more information see:\n",
        "Bradley Efron, Trevor Hastie, Iain Johnstone and Robert Tibshirani (2004) \"Least Angle Regression,\" Annals of Statistics (with discussion), 407-499.\n",
        "(https://web.stanford.edu/~hastie/Papers/LARS/LeastAngle_2002.pdf)\n"
      ]
    },
    {
      "cell_type": "code",
      "metadata": {
        "id": "HQdUd2hjra5M",
        "colab_type": "code",
        "colab": {}
      },
      "source": [
        "import numpy as np\n",
        "\n",
        "from sklearn import datasets\n",
        "from sklearn.linear_model import LinearRegression\n",
        "\n",
        "from sklearn.metrics import mean_squared_error, r2_score\n",
        "\n",
        "import matplotlib.pyplot as plt"
      ],
      "execution_count": 4,
      "outputs": []
    },
    {
      "cell_type": "markdown",
      "metadata": {
        "id": "PIQrZLucW9sM",
        "colab_type": "text"
      },
      "source": [
        "### Read Dataset"
      ]
    },
    {
      "cell_type": "code",
      "metadata": {
        "id": "pyzrfAGlrgS6",
        "colab_type": "code",
        "colab": {
          "base_uri": "https://localhost:8080/",
          "height": 90
        },
        "outputId": "c0d2cdc2-2960-473a-f898-27c5b5974ea8"
      },
      "source": [
        "#------------------------------------------------------\n",
        "# Import necessary library\n",
        "#--------------------------------------------------\n",
        "# Load the diabetes dataset\n",
        "data = datasets.load_diabetes()\n",
        "\n",
        "# Descrive the whole dataset\n",
        "#print(data.DESCR)\n",
        "\n",
        "# Get the features\n",
        "diabetes_X = data.data\n",
        "# Get the labels\n",
        "y = data.target\n",
        "\n",
        "print('\\n Total number of samples = ', diabetes_X.shape[0])\n",
        "print('\\n The number of features = ', diabetes_X.shape[1])\n",
        "#print('\\n y.shape = ', y.shape)"
      ],
      "execution_count": 5,
      "outputs": [
        {
          "output_type": "stream",
          "text": [
            "\n",
            " Total number of samples =  442\n",
            "\n",
            " The number of features =  10\n"
          ],
          "name": "stdout"
        }
      ]
    },
    {
      "cell_type": "code",
      "metadata": {
        "id": "MKkCe7bYrFz9",
        "colab_type": "code",
        "colab": {
          "base_uri": "https://localhost:8080/",
          "height": 54
        },
        "outputId": "6f703238-c999-4fe5-d822-aa15319dfdec"
      },
      "source": [
        "# Use only one feature\n",
        "# We will build a Simple Linear Regression Model\n",
        "\n",
        "# Feature 3 - Average Blood Pressure\n",
        "# Feature 4 - Blood Serum Measurement \n",
        "\n",
        "# Feature 2 - BMI\n",
        "X = diabetes_X[:, np.newaxis, 2]\n",
        "\n",
        "print('\\n X_shape = ', X.shape)\n",
        "\n",
        "# Split the data into training/testing sets\n",
        "# last 20 samples are kept as Test data, rest are in Trainineg dataset\n",
        "X_train = X[:-20]\n",
        "X_test = X[-20:]\n",
        "\n",
        "# Split the targets into training/testing sets\n",
        "y_train = y[:-20]\n",
        "y_test = y[-20:]"
      ],
      "execution_count": 6,
      "outputs": [
        {
          "output_type": "stream",
          "text": [
            "\n",
            " X_shape =  (442, 1)\n"
          ],
          "name": "stdout"
        }
      ]
    },
    {
      "cell_type": "markdown",
      "metadata": {
        "id": "xwCuocJWr5Im",
        "colab_type": "text"
      },
      "source": [
        "### Build and Train a Siimple Linear Regression Model"
      ]
    },
    {
      "cell_type": "code",
      "metadata": {
        "id": "z_xo5kwDroRj",
        "colab_type": "code",
        "colab": {
          "base_uri": "https://localhost:8080/",
          "height": 35
        },
        "outputId": "9f9fe5d5-1224-4398-cdd7-c64ddcf69e77"
      },
      "source": [
        "#-------------------------------------------------\n",
        "# Create Linear Regression object\n",
        "regr = LinearRegression()\n",
        "\n",
        "# Train the model on the training set\n",
        "regr.fit(X_train, y_train)"
      ],
      "execution_count": 7,
      "outputs": [
        {
          "output_type": "execute_result",
          "data": {
            "text/plain": [
              "LinearRegression(copy_X=True, fit_intercept=True, n_jobs=None, normalize=False)"
            ]
          },
          "metadata": {
            "tags": []
          },
          "execution_count": 7
        }
      ]
    },
    {
      "cell_type": "code",
      "metadata": {
        "id": "WabUWJNOr2ww",
        "colab_type": "code",
        "colab": {
          "base_uri": "https://localhost:8080/",
          "height": 127
        },
        "outputId": "9f3ecba7-fc0d-48d7-d4f2-3cf380fa3c8c"
      },
      "source": [
        "# Check the trained model parameters\n",
        "# The intercept\n",
        "print('\\n Intercept (beta_0): \\n', regr.intercept_)\n",
        "# The coefficients\n",
        "print('\\n Coefficients (beta_1): \\n', regr.coef_)"
      ],
      "execution_count": 8,
      "outputs": [
        {
          "output_type": "stream",
          "text": [
            "\n",
            " Intercept (beta_0): \n",
            " 152.91886182616167\n",
            "\n",
            " Coefficients (beta_1): \n",
            " [938.23786125]\n"
          ],
          "name": "stdout"
        }
      ]
    },
    {
      "cell_type": "markdown",
      "metadata": {
        "id": "EmbBG5Xdr9BO",
        "colab_type": "text"
      },
      "source": [
        "### Evaluate on Test Set"
      ]
    },
    {
      "cell_type": "code",
      "metadata": {
        "id": "KV_TUukqr0Yc",
        "colab_type": "code",
        "colab": {
          "base_uri": "https://localhost:8080/",
          "height": 127
        },
        "outputId": "ee0c0422-abce-4301-e1b5-c77618f97d64"
      },
      "source": [
        "# Evaluate the trained model on the test set\n",
        "#--------------------------------------------------\n",
        "y_pred = regr.predict(X_test)\n",
        "\n",
        "# The mean squared error\n",
        "print('\\n Mean Squared Error: %.2f' % mean_squared_error(y_test, y_pred))\n",
        "\n",
        "# The Coefficient of Determination: 1 is perfect prediction\n",
        "print('\\n Coefficient of Determination: %.2f \\n\\n' % r2_score(y_test, y_pred))"
      ],
      "execution_count": 9,
      "outputs": [
        {
          "output_type": "stream",
          "text": [
            "\n",
            " Mean Squared Error: 2548.07\n",
            "\n",
            " Coefficient of Determination: 0.47 \n",
            "\n",
            "\n"
          ],
          "name": "stdout"
        }
      ]
    },
    {
      "cell_type": "markdown",
      "metadata": {
        "id": "lr1UxsOrsCX4",
        "colab_type": "text"
      },
      "source": [
        "### Plot the Decision Plane"
      ]
    },
    {
      "cell_type": "code",
      "metadata": {
        "id": "KmbnCAZXrp4o",
        "colab_type": "code",
        "colab": {
          "base_uri": "https://localhost:8080/",
          "height": 252
        },
        "outputId": "c48fd49f-7c1f-4466-d532-e44b152da7ed"
      },
      "source": [
        "#-----------------------------------------------------\n",
        "# Plot outputs\n",
        "#-----------------------------------------------------\n",
        "plt.scatter(X_test, y_test,  color='black')\n",
        "plt.plot(X_test, y_pred, color='blue', linewidth=3)\n",
        "plt.xticks(())\n",
        "plt.yticks(())\n",
        "plt.show()"
      ],
      "execution_count": 10,
      "outputs": [
        {
          "output_type": "display_data",
          "data": {
            "image/png": "[encoded data removed]",
            "text/plain": [
              "<Figure size 432x288 with 1 Axes>"
            ]
          },
          "metadata": {
            "tags": []
          }
        }
      ]
    },
    {
      "cell_type": "markdown",
      "metadata": {
        "id": "XnzbKuSAtLHP",
        "colab_type": "text"
      },
      "source": [
        "### Build a Multiple Linear Regression Model"
      ]
    },
    {
      "cell_type": "code",
      "metadata": {
        "id": "zTjCkzHItj2E",
        "colab_type": "code",
        "colab": {}
      },
      "source": [
        "# Use only one feature\n",
        "# We will build a Multiple Linear Regression Model\n",
        "\n",
        "# Feature 0 - Age\n",
        "# Feature 1 - Sex\n",
        "# Feature 2 - BMI\n",
        "# Feature 3 - Average Blood Pressure\n",
        "# Feature 4 - Blood Serum Measurement \n",
        "#X = diabetes_X[:, [0, 1, 2, 3, 4]]\n",
        "\n",
        "X = diabetes_X[:, [0, 1, 2]]\n",
        "\n",
        "#X = diabetes_X[:, [0, 1, 2, 4]]\n",
        "\n",
        "# Split the data into training/testing sets\n",
        "# last 20 samples are kept as Test data, rest are in Trainineg dataset\n",
        "X_train = X[:-20]\n",
        "X_test = X[-20:]\n",
        "\n",
        "# Split the targets into training/testing sets\n",
        "y_train = y[:-20]\n",
        "y_test = y[-20:]"
      ],
      "execution_count": 11,
      "outputs": []
    },
    {
      "cell_type": "code",
      "metadata": {
        "id": "S4t5ouiFttbR",
        "colab_type": "code",
        "colab": {
          "base_uri": "https://localhost:8080/",
          "height": 35
        },
        "outputId": "7040aea5-4cff-4e5a-d037-c4525ab45f56"
      },
      "source": [
        "X_train.shape"
      ],
      "execution_count": 12,
      "outputs": [
        {
          "output_type": "execute_result",
          "data": {
            "text/plain": [
              "(422, 3)"
            ]
          },
          "metadata": {
            "tags": []
          },
          "execution_count": 12
        }
      ]
    },
    {
      "cell_type": "markdown",
      "metadata": {
        "id": "CnIGMPoguL_M",
        "colab_type": "text"
      },
      "source": [
        "### Build and Train the Model"
      ]
    },
    {
      "cell_type": "code",
      "metadata": {
        "id": "FyjVTV9CtLbE",
        "colab_type": "code",
        "colab": {
          "base_uri": "https://localhost:8080/",
          "height": 35
        },
        "outputId": "5dee5440-62a9-4a63-b6f0-8a41165bd83e"
      },
      "source": [
        "#-------------------------------------------------\n",
        "# Create Linear Regression object\n",
        "regr = LinearRegression()\n",
        "\n",
        "# Train the model on the training set\n",
        "regr.fit(X_train, y_train)"
      ],
      "execution_count": 13,
      "outputs": [
        {
          "output_type": "execute_result",
          "data": {
            "text/plain": [
              "LinearRegression(copy_X=True, fit_intercept=True, n_jobs=None, normalize=False)"
            ]
          },
          "metadata": {
            "tags": []
          },
          "execution_count": 13
        }
      ]
    },
    {
      "cell_type": "code",
      "metadata": {
        "id": "5TOF3DCytWRx",
        "colab_type": "code",
        "colab": {
          "base_uri": "https://localhost:8080/",
          "height": 127
        },
        "outputId": "5e821087-09cb-44b5-e3e6-aa8a540b4ed7"
      },
      "source": [
        "# Check the trained model parameters\n",
        "# The intercept\n",
        "print('\\n Intercept (beta_0): \\n', regr.intercept_)\n",
        "# The coefficients\n",
        "print('\\n Coefficients (beta_1): \\n', regr.coef_)"
      ],
      "execution_count": 14,
      "outputs": [
        {
          "output_type": "stream",
          "text": [
            "\n",
            " Intercept (beta_0): \n",
            " 152.869177291775\n",
            "\n",
            " Coefficients (beta_1): \n",
            " [144.25978848 -33.43463042 914.07000914]\n"
          ],
          "name": "stdout"
        }
      ]
    },
    {
      "cell_type": "markdown",
      "metadata": {
        "id": "yUcJ5AK_uKGV",
        "colab_type": "text"
      },
      "source": [
        "### Evaluate"
      ]
    },
    {
      "cell_type": "code",
      "metadata": {
        "id": "N7IkjBq1uJLH",
        "colab_type": "code",
        "colab": {
          "base_uri": "https://localhost:8080/",
          "height": 127
        },
        "outputId": "df43ab51-f002-4a78-def3-470b8d656618"
      },
      "source": [
        "# Evaluate the trained model on the test set\n",
        "#--------------------------------------------------\n",
        "y_pred = regr.predict(X_test)\n",
        "\n",
        "# The mean squared error\n",
        "print('\\n Mean Squared Error: %.2f' % mean_squared_error(y_test, y_pred))\n",
        "\n",
        "# The Coefficient of Determination: 1 is perfect prediction\n",
        "print('\\n Coefficient of Determination: %.2f \\n\\n' % r2_score(y_test, y_pred))"
      ],
      "execution_count": 15,
      "outputs": [
        {
          "output_type": "stream",
          "text": [
            "\n",
            " Mean Squared Error: 2585.66\n",
            "\n",
            " Coefficient of Determination: 0.46 \n",
            "\n",
            "\n"
          ],
          "name": "stdout"
        }
      ]
    },
    {
      "cell_type": "markdown",
      "metadata": {
        "id": "g6p3T8tmHBrm",
        "colab_type": "text"
      },
      "source": [
        "# OLS from statsmodels"
      ]
    },
    {
      "cell_type": "code",
      "metadata": {
        "id": "QSfvAsJCIDaP",
        "colab_type": "code",
        "colab": {}
      },
      "source": [
        "# Feature 0 - Age\n",
        "# Feature 1 - Sex\n",
        "# Feature 2 - BMI\n",
        "# Feature 3 - Average Blood Pressure\n",
        "# Feature 4 - Blood Serum Measurement - S1\n",
        "# Feature 5 - Blood Serum Measurement - S2\n",
        "# Feature 6 - Blood Serum Measurement - S3\n",
        "# Feature 7 - Blood Serum Measurement - S4\n",
        "# Feature 8 - Blood Serum Measurement - S5\n",
        "# Feature 9 - Blood Serum Measurement - S6\n",
        "\n",
        "\n",
        "X = diabetes_X[:, [1,2,3,4]]\n",
        "\n",
        "#X = diabetes_X[:, [2, 3, 4, 5]]\n",
        "\n",
        "\n",
        "# Split the data into training/testing sets\n",
        "# last 20 samples are kept as Test data, rest are in Trainineg dataset\n",
        "X_train = X[:-20]\n",
        "X_test = X[-20:]\n",
        "\n",
        "# Split the targets into training/testing sets\n",
        "y_train = y[:-20]\n",
        "y_test = y[-20:]"
      ],
      "execution_count": 50,
      "outputs": []
    },
    {
      "cell_type": "code",
      "metadata": {
        "id": "oERF6QrAHEt8",
        "colab_type": "code",
        "colab": {
          "base_uri": "https://localhost:8080/",
          "height": 513
        },
        "outputId": "460f1043-06d6-4f3d-f055-0fbb5cc589b4"
      },
      "source": [
        "import numpy as np\n",
        "import statsmodels.api as sm\n",
        "\n",
        "sm.add_constant(X_train)\n",
        "# Fit and summarize OLS model\n",
        "mod = sm.OLS(y_train, X_train)\n",
        "res = mod.fit()\n",
        "print(res.summary())"
      ],
      "execution_count": 53,
      "outputs": [
        {
          "output_type": "stream",
          "text": [
            "                                 OLS Regression Results                                \n",
            "=======================================================================================\n",
            "Dep. Variable:                      y   R-squared (uncentered):                   0.085\n",
            "Model:                            OLS   Adj. R-squared (uncentered):              0.076\n",
            "Method:                 Least Squares   F-statistic:                              9.692\n",
            "Date:                Tue, 22 Sep 2020   Prob (F-statistic):                    1.67e-07\n",
            "Time:                        14:44:37   Log-Likelihood:                         -2751.5\n",
            "No. Observations:                 422   AIC:                                      5511.\n",
            "Df Residuals:                     418   BIC:                                      5527.\n",
            "Df Model:                           4                                                  \n",
            "Covariance Type:            nonrobust                                                  \n",
            "==============================================================================\n",
            "                 coef    std err          t      P>|t|      [0.025      0.975]\n",
            "------------------------------------------------------------------------------\n",
            "x1          -111.8239    173.344     -0.645      0.519    -452.558     228.911\n",
            "x2           807.4330    185.790      4.346      0.000     442.235    1172.631\n",
            "x3           446.2163    189.578      2.354      0.019      73.570     818.862\n",
            "x4             1.4577    177.681      0.008      0.993    -347.802     350.718\n",
            "==============================================================================\n",
            "Omnibus:                        8.840   Durbin-Watson:                   0.259\n",
            "Prob(Omnibus):                  0.012   Jarque-Bera (JB):                5.618\n",
            "Skew:                           0.115   Prob(JB):                       0.0603\n",
            "Kurtosis:                       2.484   Cond. No.                         1.68\n",
            "==============================================================================\n",
            "\n",
            "Warnings:\n",
            "[1] Standard Errors assume that the covariance matrix of the errors is correctly specified.\n"
          ],
          "name": "stdout"
        }
      ]
    }
  ]
}