{
 "cells": [
  {
   "cell_type": "markdown",
   "metadata": {
    "id": "J0U6VNztN63l"
   },
   "source": [
    "# [Abalone](http://archive.ics.uci.edu/ml/datasets/Abalone)\n",
    "\n",
    "## Description of the Dataset\n",
    "\n",
    "1. Title of Database: Abalone data\n",
    "\n",
    "2. Sources:\n",
    "\n",
    "   (a) Original owners of database:\n",
    "\tMarine Resources Division\n",
    "\tMarine Research Laboratories - Taroona\n",
    "\tDepartment of Primary Industry and Fisheries, Tasmania\n",
    "\tGPO Box 619F, Hobart, Tasmania 7001, Australia\n",
    "\t(contact: Warwick Nash +61 02 277277, wnash@dpi.tas.gov.au)\n",
    "\n",
    "   (b) Donor of database:\n",
    "\tSam Waugh (Sam.Waugh@cs.utas.edu.au)\n",
    "\tDepartment of Computer Science, University of Tasmania\n",
    "\tGPO Box 252C, Hobart, Tasmania 7001, Australia\n",
    "\n",
    "   (c) Date received: December 1995\n",
    "\n",
    "\n",
    "3. Past Usage:\n",
    "\n",
    "   Sam Waugh (1995) \"Extending and benchmarking Cascade-Correlation\", PhD\n",
    "   thesis, Computer Science Department, University of Tasmania.\n",
    "\n",
    "   -- Test set performance (final 1044 examples, first 3133 used for training):\n",
    "\t24.86% Cascade-Correlation (no hidden nodes)\n",
    "\t26.25% Cascade-Correlation (5 hidden nodes)\n",
    "\t21.5%  C4.5\n",
    "\t 0.0%  Linear Discriminate Analysis\n",
    "\t 3.57% k=5 Nearest Neighbour\n",
    "      (Problem encoded as a classification task)\n",
    "\n",
    "   -- Data set samples are highly overlapped.  Further information is required\n",
    "\tto separate completely using affine combinations.  Other restrictions\n",
    "\tto data set examined.\n",
    "\n",
    "   David Clark, Zoltan Schreter, Anthony Adams \"A Quantitative Comparison of\n",
    "   Dystal and Backpropagation\", submitted to the Australian Conference on\n",
    "   Neural Networks (ACNN'96). Data set treated as a 3-category classification\n",
    "   problem (grouping ring classes 1-8, 9 and 10, and 11 on).\n",
    "\n",
    "   -- Test set performance (3133 training, 1044 testing as above):\n",
    "\t64%    Backprop\n",
    "\t55%    Dystal\n",
    "   -- Previous work (Waugh, 1995) on same data set:\n",
    "\t61.40% Cascade-Correlation (no hidden nodes)\n",
    "\t65.61% Cascade-Correlation (5 hidden nodes)\n",
    "\t59.2%  C4.5\n",
    "\t32.57% Linear Discriminate Analysis\n",
    "\t62.46% k=5 Nearest Neighbour\n",
    "\n",
    "\n",
    "4. Relevant Information Paragraph:\n",
    "\n",
    "   Predicting the age of abalone from physical measurements.  The age of\n",
    "   abalone is determined by cutting the shell through the cone, staining it,\n",
    "   and counting the number of rings through a microscope -- a boring and\n",
    "   time-consuming task.  Other measurements, which are easier to obtain, are\n",
    "   used to predict the age.  Further information, such as weather patterns\n",
    "   and location (hence food availability) may be required to solve the problem.\n",
    "\n",
    "   From the original data examples with missing values were removed (the\n",
    "   majority having the predicted value missing), and the ranges of the\n",
    "   continuous values have been scaled for use with an ANN (by dividing by 200).\n",
    "\n",
    "   Data comes from an original (non-machine-learning) study:\n",
    "\n",
    "\tWarwick J Nash, Tracy L Sellers, Simon R Talbot, Andrew J Cawthorn and\n",
    "\tWes B Ford (1994) \"The Population Biology of Abalone (_Haliotis_\n",
    "\tspecies) in Tasmania. I. Blacklip Abalone (_H. rubra_) from the North\n",
    "\tCoast and Islands of Bass Strait\", Sea Fisheries Division, Technical\n",
    "\tReport No. 48 (ISSN 1034-3288)\n",
    "\n",
    "\n",
    "5. Number of Instances: 4177\n",
    "\n",
    "\n",
    "6. Number of Attributes: 8\n",
    "\n",
    "\n",
    "7. Attribute information:\n",
    "\n",
    "   Given is the attribute name, attribute type, the measurement unit and a\n",
    "   brief description.  The number of rings is the value to predict: either\n",
    "   as a continuous value or as a classification problem.\n",
    "\n",
    "\tName\t\tData Type\tMeas.\tDescription\n",
    "\t----\t\t---------\t-----\t-----------\n",
    "\tSex\t\tnominal\t\t\tM, F, and I (infant)\n",
    "\tLength\t\tcontinuous\tmm\tLongest shell measurement\n",
    "\tDiameter\tcontinuous\tmm\tperpendicular to length\n",
    "\tHeight\t\tcontinuous\tmm\twith meat in shell\n",
    "\tWhole weight\tcontinuous\tgrams\twhole abalone\n",
    "\tShucked weight\tcontinuous\tgrams\tweight of meat\n",
    "\tViscera weight\tcontinuous\tgrams\tgut weight (after bleeding)\n",
    "\tShell weight\tcontinuous\tgrams\tafter being dried\n",
    "\tRings\t\tinteger\t\t\t+1.5 gives the age in years\n",
    "\n",
    "   Statistics for numeric domains:\n",
    "\n",
    "\t\tLength\tDiam\tHeight\tWhole\tShucked\tViscera\tShell\tRings\n",
    "\tMin\t0.075\t0.055\t0.000\t0.002\t0.001\t0.001\t0.002\t    1\n",
    "\tMax\t0.815\t0.650\t1.130\t2.826\t1.488\t0.760\t1.005\t   29\n",
    "\tMean\t0.524\t0.408\t0.140\t0.829\t0.359\t0.181\t0.239\t9.934\n",
    "\tSD\t0.120\t0.099\t0.042\t0.490\t0.222\t0.110\t0.139\t3.224\n",
    "\tCorrel\t0.557\t0.575\t0.557\t0.540\t0.421\t0.504\t0.628\t  1.0\n",
    "\n",
    "\n",
    "8. Missing Attribute Values: None\n",
    "\n",
    "\n",
    "9. Class Distribution:\n",
    "\n",
    "\tClass\tExamples\n",
    "\t-----\t--------\n",
    "\t1\t1\n",
    "\t2\t1\n",
    "\t3\t15\n",
    "\t4\t57\n",
    "\t5\t115\n",
    "\t6\t259\n",
    "\t7\t391\n",
    "\t8\t568\n",
    "\t9\t689\n",
    "\t10\t634\n",
    "\t11\t487\n",
    "\t12\t267\n",
    "\t13\t203\n",
    "\t14\t126\n",
    "\t15\t103\n",
    "\t16\t67\n",
    "\t17\t58\n",
    "\t18\t42\n",
    "\t19\t32\n",
    "\t20\t26\n",
    "\t21\t14\n",
    "\t22\t6\n",
    "\t23\t9\n",
    "\t24\t2\n",
    "\t25\t1\n",
    "\t26\t1\n",
    "\t27\t2\n",
    "\t29\t1\n",
    "\t-----\t----\n",
    "\tTotal\t4177\n"
   ]
  },
  {
   "cell_type": "markdown",
   "metadata": {
    "id": "_TGa00pGN63m"
   },
   "source": [
    "***"
   ]
  },
  {
   "cell_type": "markdown",
   "metadata": {},
   "source": [
    "## Import Libraries"
   ]
  },
  {
   "cell_type": "code",
   "execution_count": 81,
   "metadata": {
    "id": "5A4ICqJRN63m"
   },
   "outputs": [],
   "source": [
    "import numpy as np\n",
    "import matplotlib.pyplot as plt\n",
    "%matplotlib inline\n",
    "import pandas as pd\n",
    "import seaborn as sns\n",
    "sns.set()"
   ]
  },
  {
   "cell_type": "markdown",
   "metadata": {},
   "source": [
    "## Read Data"
   ]
  },
  {
   "cell_type": "code",
   "execution_count": 82,
   "metadata": {
    "colab": {
     "base_uri": "https://localhost:8080/",
     "height": 391
    },
    "id": "shwfbliQN63q",
    "outputId": "1d878a9a-590e-4835-fc55-381dcdc28c15"
   },
   "outputs": [
    {
     "data": {
      "text/html": [
       "<div>\n",
       "<style scoped>\n",
       "    .dataframe tbody tr th:only-of-type {\n",
       "        vertical-align: middle;\n",
       "    }\n",
       "\n",
       "    .dataframe tbody tr th {\n",
       "        vertical-align: top;\n",
       "    }\n",
       "\n",
       "    .dataframe thead th {\n",
       "        text-align: right;\n",
       "    }\n",
       "</style>\n",
       "<table border=\"1\" class=\"dataframe\">\n",
       "  <thead>\n",
       "    <tr style=\"text-align: right;\">\n",
       "      <th></th>\n",
       "      <th>Class</th>\n",
       "      <th>Length</th>\n",
       "      <th>Diam</th>\n",
       "      <th>Height</th>\n",
       "      <th>Whole</th>\n",
       "      <th>Shucked</th>\n",
       "      <th>Viscera</th>\n",
       "      <th>Shell</th>\n",
       "      <th>Rings</th>\n",
       "    </tr>\n",
       "  </thead>\n",
       "  <tbody>\n",
       "    <tr>\n",
       "      <th>0</th>\n",
       "      <td>M</td>\n",
       "      <td>0.455</td>\n",
       "      <td>0.365</td>\n",
       "      <td>0.095</td>\n",
       "      <td>0.5140</td>\n",
       "      <td>0.2245</td>\n",
       "      <td>0.1010</td>\n",
       "      <td>0.150</td>\n",
       "      <td>15</td>\n",
       "    </tr>\n",
       "    <tr>\n",
       "      <th>1</th>\n",
       "      <td>M</td>\n",
       "      <td>0.350</td>\n",
       "      <td>0.265</td>\n",
       "      <td>0.090</td>\n",
       "      <td>0.2255</td>\n",
       "      <td>0.0995</td>\n",
       "      <td>0.0485</td>\n",
       "      <td>0.070</td>\n",
       "      <td>7</td>\n",
       "    </tr>\n",
       "    <tr>\n",
       "      <th>2</th>\n",
       "      <td>F</td>\n",
       "      <td>0.530</td>\n",
       "      <td>0.420</td>\n",
       "      <td>0.135</td>\n",
       "      <td>0.6770</td>\n",
       "      <td>0.2565</td>\n",
       "      <td>0.1415</td>\n",
       "      <td>0.210</td>\n",
       "      <td>9</td>\n",
       "    </tr>\n",
       "    <tr>\n",
       "      <th>3</th>\n",
       "      <td>M</td>\n",
       "      <td>0.440</td>\n",
       "      <td>0.365</td>\n",
       "      <td>0.125</td>\n",
       "      <td>0.5160</td>\n",
       "      <td>0.2155</td>\n",
       "      <td>0.1140</td>\n",
       "      <td>0.155</td>\n",
       "      <td>10</td>\n",
       "    </tr>\n",
       "    <tr>\n",
       "      <th>4</th>\n",
       "      <td>I</td>\n",
       "      <td>0.330</td>\n",
       "      <td>0.255</td>\n",
       "      <td>0.080</td>\n",
       "      <td>0.2050</td>\n",
       "      <td>0.0895</td>\n",
       "      <td>0.0395</td>\n",
       "      <td>0.055</td>\n",
       "      <td>7</td>\n",
       "    </tr>\n",
       "  </tbody>\n",
       "</table>\n",
       "</div>"
      ],
      "text/plain": [
       "  Class  Length   Diam  Height   Whole  Shucked  Viscera  Shell  Rings\n",
       "0     M   0.455  0.365   0.095  0.5140   0.2245   0.1010  0.150     15\n",
       "1     M   0.350  0.265   0.090  0.2255   0.0995   0.0485  0.070      7\n",
       "2     F   0.530  0.420   0.135  0.6770   0.2565   0.1415  0.210      9\n",
       "3     M   0.440  0.365   0.125  0.5160   0.2155   0.1140  0.155     10\n",
       "4     I   0.330  0.255   0.080  0.2050   0.0895   0.0395  0.055      7"
      ]
     },
     "execution_count": 82,
     "metadata": {},
     "output_type": "execute_result"
    }
   ],
   "source": [
    "#!wget http://archive.ics.uci.edu/ml/machine-learning-databases/abalone/abalone.data\n",
    "df1 = pd.read_csv('abalone.data', header=None, names=['Class', 'Length', 'Diam', 'Height', 'Whole', 'Shucked', 'Viscera', 'Shell','Rings'])\n",
    "df1.head()"
   ]
  },
  {
   "cell_type": "markdown",
   "metadata": {},
   "source": [
    "## Split Features and Target Labels"
   ]
  },
  {
   "cell_type": "code",
   "execution_count": 83,
   "metadata": {
    "id": "4NjQDzgGN63s"
   },
   "outputs": [],
   "source": [
    "X = df1.iloc[:, 1:]"
   ]
  },
  {
   "cell_type": "code",
   "execution_count": 84,
   "metadata": {},
   "outputs": [
    {
     "data": {
      "text/plain": [
       "(4177, 8)"
      ]
     },
     "execution_count": 84,
     "metadata": {},
     "output_type": "execute_result"
    }
   ],
   "source": [
    "X.shape"
   ]
  },
  {
   "cell_type": "code",
   "execution_count": 85,
   "metadata": {},
   "outputs": [
    {
     "data": {
      "text/plain": [
       "array(['F', 'I', 'M'], dtype=object)"
      ]
     },
     "execution_count": 85,
     "metadata": {},
     "output_type": "execute_result"
    }
   ],
   "source": [
    "y = df1['Class']\n",
    "np.unique(y)"
   ]
  },
  {
   "cell_type": "code",
   "execution_count": 86,
   "metadata": {},
   "outputs": [],
   "source": [
    "# Transform categorical to numeric\n",
    "def transform(X):\n",
    "    if X=='F':\n",
    "        return 0\n",
    "    if X=='M':\n",
    "        return 1\n",
    "    if X=='I':\n",
    "        return 2    "
   ]
  },
  {
   "cell_type": "code",
   "execution_count": 87,
   "metadata": {},
   "outputs": [
    {
     "data": {
      "text/plain": [
       "array([0, 1, 2], dtype=int64)"
      ]
     },
     "execution_count": 87,
     "metadata": {},
     "output_type": "execute_result"
    }
   ],
   "source": [
    "y = df1['Class'].apply(transform)\n",
    "np.unique(y)"
   ]
  },
  {
   "cell_type": "markdown",
   "metadata": {},
   "source": [
    "## Standardize Data"
   ]
  },
  {
   "cell_type": "code",
   "execution_count": 88,
   "metadata": {
    "id": "DD4_wk5PN63x"
   },
   "outputs": [],
   "source": [
    "from sklearn.preprocessing import StandardScaler\n",
    "sc = StandardScaler()\n",
    "X_sc = sc.fit_transform(X)"
   ]
  },
  {
   "cell_type": "code",
   "execution_count": 89,
   "metadata": {},
   "outputs": [
    {
     "data": {
      "text/plain": [
       "(4177, 8)"
      ]
     },
     "execution_count": 89,
     "metadata": {},
     "output_type": "execute_result"
    }
   ],
   "source": [
    "# Data in original dimension\n",
    "X_sc.shape"
   ]
  },
  {
   "cell_type": "markdown",
   "metadata": {},
   "source": [
    "## Apply PCA"
   ]
  },
  {
   "cell_type": "code",
   "execution_count": 90,
   "metadata": {
    "colab": {
     "base_uri": "https://localhost:8080/",
     "height": 51
    },
    "id": "0TXMa84aN631",
    "outputId": "3d9e67ed-69b1-4f48-90b8-a63b79b8f9b6"
   },
   "outputs": [
    {
     "data": {
      "text/plain": [
       "array([0.83905489, 0.92600651, 0.9583119 , 0.97906064, 0.98967934,\n",
       "       0.99761344, 0.99920021, 1.        ])"
      ]
     },
     "execution_count": 90,
     "metadata": {},
     "output_type": "execute_result"
    }
   ],
   "source": [
    "from sklearn.decomposition import PCA\n",
    "\n",
    "# Number of components is None - we are not reducing the dimension - find all the Principal Components\n",
    "pca = PCA(n_components=None)\n",
    "pca.fit(X_sc)\n",
    "\n",
    "np.cumsum(pca.explained_variance_ratio_)"
   ]
  },
  {
   "cell_type": "markdown",
   "metadata": {},
   "source": [
    "#### Only first  4 Principal Components is able to explain 97.9% variance in the dataset.\n",
    "\n",
    "#### Only first 5 Principal Components is able to explain 98.9% variance in the dataset.\n",
    "\n",
    "#### Only first 6 Principal Components is able to explain 99.7% variance in the dataset.\n"
   ]
  },
  {
   "cell_type": "code",
   "execution_count": 91,
   "metadata": {
    "colab": {
     "base_uri": "https://localhost:8080/",
     "height": 291
    },
    "id": "gYQxpkAHN634",
    "outputId": "e2d1b9aa-cffb-4852-d8cf-201e4dca6f30"
   },
   "outputs": [
    {
     "data": {
      "image/png": "[encoded data removed]",
      "text/plain": [
       "<Figure size 432x288 with 1 Axes>"
      ]
     },
     "metadata": {},
     "output_type": "display_data"
    }
   ],
   "source": [
    "plt.plot(np.cumsum(pca.explained_variance_ratio_)*100.)\n",
    "plt.xlabel('Number of Components')\n",
    "plt.ylabel('Cummulative Explained Variance');"
   ]
  },
  {
   "cell_type": "markdown",
   "metadata": {},
   "source": [
    "## Dimension Reduction with PCA - Take First 4 Principal Components"
   ]
  },
  {
   "cell_type": "code",
   "execution_count": 92,
   "metadata": {},
   "outputs": [
    {
     "data": {
      "text/plain": [
       "(4177, 4)"
      ]
     },
     "execution_count": 92,
     "metadata": {},
     "output_type": "execute_result"
    }
   ],
   "source": [
    "pca = PCA(n_components=4)\n",
    "pca.fit(X_sc)\n",
    "X_tr = pca.transform(X_sc)\n",
    "X_tr.shape"
   ]
  },
  {
   "cell_type": "code",
   "execution_count": 93,
   "metadata": {},
   "outputs": [
    {
     "data": {
      "text/plain": [
       "array([[-1.32291442,  1.79565502, -0.78981594, -0.21931559],\n",
       "       [-3.48365134, -0.09283156, -0.06301054,  0.24997171],\n",
       "       [-0.53616125, -0.04940728,  0.22927472, -0.44722137],\n",
       "       ...,\n",
       "       [ 2.03301641, -0.69391768,  0.9370173 ,  0.29820072],\n",
       "       [ 1.60123963, -0.46575061, -0.20441808, -0.33186727],\n",
       "       [ 4.89861662, -0.80973552, -0.49177154,  0.52127292]])"
      ]
     },
     "execution_count": 93,
     "metadata": {},
     "output_type": "execute_result"
    }
   ],
   "source": [
    "X_tr"
   ]
  },
  {
   "cell_type": "markdown",
   "metadata": {},
   "source": [
    "## Make Predictions with Original Dimensions and Reduced Dimension"
   ]
  },
  {
   "cell_type": "code",
   "execution_count": 94,
   "metadata": {},
   "outputs": [
    {
     "name": "stdout",
     "output_type": "stream",
     "text": [
      "Before PCA - Original Dimension - score 0.5614077088819727\n",
      "After PCA  - Dimension Reduced - score 0.5525496768015322\n"
     ]
    }
   ],
   "source": [
    "from sklearn.linear_model import LogisticRegression\n",
    "\n",
    "model = LogisticRegression(max_iter=2000)\n",
    "model.fit(X_sc, y)\n",
    "\n",
    "print ('Before PCA - Original Dimension - score', model.score(X_sc, y))\n",
    "\n",
    "model.fit(X_tr, y)\n",
    "print ('After PCA  - Dimension Reduced - score', model.score(X_tr, y))"
   ]
  },
  {
   "cell_type": "markdown",
   "metadata": {},
   "source": [
    "#### Check the performance. How only first 4 Principal Components are able to achieve comparable scores.\n",
    "#### Only first 4 Principal Components is able to explain 97.9% variance in the dataset."
   ]
  },
  {
   "cell_type": "markdown",
   "metadata": {
    "id": "gS1BFLSeN636"
   },
   "source": [
    "***"
   ]
  }
 ],
 "metadata": {
  "colab": {
   "collapsed_sections": [],
   "name": "Copy of 09-06-Project Abalone.ipynb",
   "provenance": []
  },
  "kernelspec": {
   "display_name": "Python 3",
   "language": "python",
   "name": "python3"
  },
  "language_info": {
   "codemirror_mode": {
    "name": "ipython",
    "version": 3
   },
   "file_extension": ".py",
   "mimetype": "text/x-python",
   "name": "python",
   "nbconvert_exporter": "python",
   "pygments_lexer": "ipython3",
   "version": "3.8.1"
  }
 },
 "nbformat": 4,
 "nbformat_minor": 1
}
