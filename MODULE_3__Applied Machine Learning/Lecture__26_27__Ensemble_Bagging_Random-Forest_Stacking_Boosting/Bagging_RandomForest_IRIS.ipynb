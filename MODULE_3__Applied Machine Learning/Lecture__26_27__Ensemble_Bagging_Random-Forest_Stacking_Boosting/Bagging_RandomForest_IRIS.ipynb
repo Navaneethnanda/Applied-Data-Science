{
 "cells": [
  {
   "cell_type": "markdown",
   "metadata": {
    "colab_type": "text",
    "id": "uh_LLMBGnFFW"
   },
   "source": [
    "# Ensemble Learning: \n",
    "## Classification using Bagging and Random Forest\n",
    "\n",
    "\n",
    "### Import Dependencies"
   ]
  },
  {
   "cell_type": "code",
   "execution_count": 0,
   "metadata": {
    "colab": {},
    "colab_type": "code",
    "id": "4EZQLhG_km4I"
   },
   "outputs": [],
   "source": [
    "import pandas as pd\n",
    "import numpy as np\n",
    "\n",
    "from sklearn import datasets\n",
    "\n",
    "from sklearn.tree import DecisionTreeClassifier\n",
    "\n",
    "from sklearn.ensemble import RandomForestClassifier, BaggingClassifier\n",
    "\n",
    "from sklearn.model_selection import train_test_split\n",
    "from sklearn import metrics\n",
    "from sklearn.metrics import accuracy_score\n"
   ]
  },
  {
   "cell_type": "markdown",
   "metadata": {
    "colab_type": "text",
    "id": "ObH8M5eEnDD9"
   },
   "source": [
    "### Load IRIS Data"
   ]
  },
  {
   "cell_type": "code",
   "execution_count": 0,
   "metadata": {
    "colab": {},
    "colab_type": "code",
    "id": "1Z5lxgjbkgZc"
   },
   "outputs": [],
   "source": [
    "# Load the iris datasets\n",
    "dataset = datasets.load_iris ()\n",
    "\n",
    "X=dataset.data\n",
    "y=dataset.target\n",
    "\n",
    "# Split dataset into training set and test set\n",
    "# Split also shuffles data before splitting\n",
    "X_train, X_test, y_train, y_test = train_test_split(X, y, test_size=0.3) # 70% training and 30% test\n",
    "\n"
   ]
  },
  {
   "cell_type": "markdown",
   "metadata": {
    "colab_type": "text",
    "id": "L-NIfdgLmhdX"
   },
   "source": [
    "### Create a Random Forest Classifier\n",
    "\n",
    "A random forest is a meta estimator that fits a number of decision tree classifiers on various sub-samples of the dataset and uses averaging to improve the predictive accuracy and control over-fitting. \n",
    "\n",
    "The sub-sample size is always the same as the original input sample size but the samples are drawn with replacement if bootstrap=True (default)."
   ]
  },
  {
   "cell_type": "code",
   "execution_count": 0,
   "metadata": {
    "colab": {
     "base_uri": "https://localhost:8080/",
     "height": 286
    },
    "colab_type": "code",
    "id": "dxPcTlR9ldlZ",
    "outputId": "26cd6217-1372-4601-eb8b-26b9573a9198"
   },
   "outputs": [
    {
     "name": "stdout",
     "output_type": "stream",
     "text": [
      "\n",
      " All predicted labels in the test set : \n",
      "[1 1 1 1 1 0 0 0 1 2 1 2 1 2 0 2 1 0 1 0 2 2 0 0 2 1 1 2 2 2 1 2 2 1 0 1 1\n",
      " 2 1 0 1 2 2 2 2]\n",
      "\n",
      " Accuracy = \n",
      "93.33333333333333\n",
      "\n",
      " Individual prediction :\n",
      "[2]\n",
      "\n",
      " Feature Names: \n",
      "['sepal length (cm)', 'sepal width (cm)', 'petal length (cm)', 'petal width (cm)']\n",
      "\n",
      " Feature Importances (by score) : \n",
      "[0.13443032 0.02422453 0.36415611 0.47718904]\n"
     ]
    }
   ],
   "source": [
    "\n",
    "# Create the Classifier...for a Random Forest Classifier a decision tree/stump is always the base estimator\n",
    "rf_clf = RandomForestClassifier(n_estimators=100, bootstrap=True)\n",
    "\n",
    "# Train the model using the training sets y_pred=clf.predict(X_test)\n",
    "rf_clf.fit(X_train, y_train)\n",
    "\n",
    "# This section to be uncommented if we want to use the random forest for classification\n",
    "# Test\n",
    "y_pred = rf_clf.predict(X_test)\n",
    "print('\\n All predicted labels in the test set : ')\n",
    "print(y_pred)\n",
    "\n",
    "# Model Accuracy, how often is the classifier correct\n",
    "print('\\n Accuracy on Test set = ')\n",
    "print(accuracy_score(y_test, y_pred)*100)\n",
    "\n",
    "print('\\n  Confusion Matrix = ')\n",
    "print(metrics.confusion_matrix(y_test, y_pred))\n",
    "\n",
    "\n",
    "# Individual prediction\n",
    "pred = rf_clf.predict([[1.5, 0.2, 4.6, 3.1]])\n",
    "print('\\n Individual prediction :')\n",
    "print(pred)\n",
    "\n",
    "# Feature Importance\n",
    "print('\\n Feature Names: ')\n",
    "print(dataset.feature_names)\n",
    "\n",
    "print('\\n Feature Importances (by score) : ')\n",
    "print(rf_clf.feature_importances_)"
   ]
  },
  {
   "cell_type": "markdown",
   "metadata": {
    "colab_type": "text",
    "id": "UVMWbl3PmxSK"
   },
   "source": [
    "### Bagging Classifier\n",
    "\n",
    "A Bagging classifier is an ensemble meta-estimator that fits base classifiers each on random subsets of the original dataset and then aggregate their individual predictions (either by voting or by averaging) to form a final prediction. \n",
    "\n",
    "Such a meta-estimator can typically be used as a way to reduce the variance of a black-box estimator (e.g., a decision tree), by introducing randomization into its construction procedure and then making an ensemble out of it."
   ]
  },
  {
   "cell_type": "code",
   "execution_count": 0,
   "metadata": {
    "colab": {
     "base_uri": "https://localhost:8080/",
     "height": 490
    },
    "colab_type": "code",
    "id": "P757_GxeljTc",
    "outputId": "5a35d051-b7f1-4c85-f931-7119c14fcdbb"
   },
   "outputs": [
    {
     "name": "stdout",
     "output_type": "stream",
     "text": [
      "\n",
      " All predicted labels in the test set : \n",
      "[1 1 1 1 1 0 0 0 1 2 1 2 1 2 0 2 1 0 1 0 2 2 0 0 2 1 1 2 2 2 1 2 2 1 0 1 1\n",
      " 2 1 0 1 2 2 2 2]\n",
      "\n",
      " Accuracy = \n",
      "93.33333333333333\n",
      "\n",
      " Individual prediction :\n",
      "[2]\n",
      "\n",
      " Feature Names: \n",
      "['sepal length (cm)', 'sepal width (cm)', 'petal length (cm)', 'petal width (cm)']\n",
      "\n",
      " Features used by the base estimators : \n",
      "[array([1, 3, 0]), array([0, 2, 3]), array([1, 2, 3]), array([3, 2, 1]), array([3, 1, 2]), array([0, 1, 3]), array([2, 3, 0]), array([0, 1, 2]), array([0, 1, 2]), array([2, 1, 3]), array([0, 1, 2]), array([1, 3, 2]), array([0, 3, 2]), array([2, 1, 0]), array([2, 1, 3]), array([2, 0, 1]), array([2, 1, 0]), array([1, 2, 3]), array([3, 0, 1]), array([3, 0, 1]), array([3, 1, 2]), array([0, 1, 2]), array([2, 1, 3]), array([1, 3, 0]), array([3, 2, 0]), array([1, 2, 0]), array([3, 1, 2]), array([3, 1, 0]), array([2, 3, 0]), array([3, 1, 0]), array([1, 3, 0]), array([3, 2, 0]), array([3, 0, 1]), array([3, 0, 2]), array([2, 1, 3]), array([1, 0, 3]), array([1, 0, 2]), array([0, 3, 1]), array([0, 2, 1]), array([3, 1, 2]), array([2, 3, 1]), array([2, 0, 3]), array([0, 3, 1]), array([0, 3, 1]), array([2, 1, 0]), array([3, 0, 1]), array([1, 2, 3]), array([0, 1, 3]), array([2, 0, 3]), array([0, 1, 3]), array([0, 1, 2]), array([1, 0, 2]), array([2, 0, 3]), array([2, 1, 0]), array([3, 0, 2]), array([1, 0, 3]), array([2, 3, 1]), array([1, 2, 0]), array([1, 0, 2]), array([1, 0, 2]), array([1, 2, 0]), array([2, 0, 1]), array([1, 0, 2]), array([1, 2, 0]), array([2, 1, 3]), array([2, 1, 3]), array([2, 1, 3]), array([2, 3, 1]), array([1, 2, 0]), array([3, 0, 2]), array([1, 2, 3]), array([2, 1, 3]), array([1, 2, 3]), array([3, 2, 1]), array([0, 1, 3]), array([2, 0, 3]), array([0, 1, 3]), array([2, 1, 3]), array([3, 2, 1]), array([2, 1, 0]), array([0, 3, 1]), array([1, 0, 3]), array([2, 1, 3]), array([1, 2, 3]), array([3, 2, 1]), array([0, 1, 3]), array([2, 0, 3]), array([3, 2, 1]), array([0, 1, 3]), array([3, 2, 1]), array([0, 1, 2]), array([0, 3, 1]), array([1, 0, 3]), array([2, 1, 0]), array([1, 3, 2]), array([2, 3, 0]), array([0, 1, 2]), array([1, 2, 3]), array([2, 1, 3]), array([1, 3, 2])]\n",
      "\n",
      " Out-of-bag score of the base estimators : \n",
      "0.9714285714285714\n",
      "\n",
      " Base estimator : \n",
      "DecisionTreeClassifier(class_weight=None, criterion='gini', max_depth=None,\n",
      "            max_features=None, max_leaf_nodes=None,\n",
      "            min_impurity_decrease=0.0, min_impurity_split=None,\n",
      "            min_samples_leaf=1, min_samples_split=2,\n",
      "            min_weight_fraction_leaf=0.0, presort=False, random_state=None,\n",
      "            splitter='best')\n"
     ]
    }
   ],
   "source": [
    "\n",
    "# First crea a base estimator - Decision Tree Classifier\n",
    "dt_clf = DecisionTreeClassifier()\n",
    "\n",
    "# Create the Bagging Classifier\n",
    "bg_clf = BaggingClassifier(base_estimator=dt_clf, n_estimators=100, bootstrap=True, max_features=3, oob_score=True)\n",
    "\n",
    "# Train the model using the training sets y_pred=clf.predict(X_test)\n",
    "bg_clf.fit(X_train, y_train)\n",
    "\n",
    "# Test\n",
    "y_pred = bg_clf.predict(X_test)\n",
    "\n",
    "print('\\n Actual labels in the Test set : ')\n",
    "print(y_test)\n",
    "\n",
    "print('\\n All predicted labels on the Test set : ')\n",
    "print(y_pred)\n",
    "\n",
    "# Model Accuracy, how often is the classifier correct\n",
    "print('\\n Accuracy on the Test set = ')\n",
    "print(accuracy_score(y_test, y_pred)*100)\n",
    "\n",
    "print('\\n  Confusion Matrix = ')\n",
    "print(metrics.confusion_matrix(y_test, y_pred))\n",
    "\n",
    "\n",
    "#-----------------------------------------------\n",
    "# Prediction on individual test data\n",
    "pred = bg_clf.predict([[1.5, 0.2, 4.6, 3.1]])\n",
    "print('\\n Individual prediction :')\n",
    "print(pred)\n",
    "\n",
    "#-----------------------------------------------\n",
    "\n",
    "# Feature Names\n",
    "print('\\n Feature Names: ')\n",
    "print(dataset.feature_names)\n",
    "\n",
    "\n",
    "### --------------- Model Parameters ---------------\n",
    "\n",
    "print('\\n Features used by the base estimators : ')\n",
    "print(bg_clf.estimators_features_)\n",
    "\n",
    "print('\\n Out-of-bag score of the base estimators : ')\n",
    "print(bg_clf.oob_score_)\n",
    "\n",
    "print('\\n Base estimator : ')\n",
    "print(bg_clf.base_estimator_)\n",
    "\n"
   ]
  }
 ],
 "metadata": {
  "colab": {
   "name": "Bagging_RandomForest.ipynb",
   "provenance": [],
   "version": "0.3.2"
  },
  "kernelspec": {
   "display_name": "Python 3",
   "language": "python",
   "name": "python3"
  },
  "language_info": {
   "codemirror_mode": {
    "name": "ipython",
    "version": 3
   },
   "file_extension": ".py",
   "mimetype": "text/x-python",
   "name": "python",
   "nbconvert_exporter": "python",
   "pygments_lexer": "ipython3",
   "version": "3.8.1"
  }
 },
 "nbformat": 4,
 "nbformat_minor": 1
}
