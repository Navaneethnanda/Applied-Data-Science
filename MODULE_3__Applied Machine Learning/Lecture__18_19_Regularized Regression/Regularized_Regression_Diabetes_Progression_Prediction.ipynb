{
  "nbformat": 4,
  "nbformat_minor": 0,
  "metadata": {
    "colab": {
      "name": "Regularized_Regression_Diabetes_Progression_Prediction.ipynb",
      "provenance": [],
      "collapsed_sections": []
    },
    "kernelspec": {
      "name": "python3",
      "display_name": "Python 3"
    }
  },
  "cells": [
    {
      "cell_type": "markdown",
      "metadata": {
        "id": "olHIRH4vrM3g",
        "colab_type": "text"
      },
      "source": [
        "\n",
        "# Predict Diabetes Progression with Linear Regression\n",
        "\n",
        "### Diabetes dataset\n",
        "\n",
        "Ten baseline variables - **age, sex, body mass index, average blood\n",
        "pressure, and six blood serum measurements** were obtained for each of \n",
        "n = 442 diabetes patients, as well as the response of interest, a\n",
        "quantitative measure of disease progression one year after baseline.\n",
        "\n",
        "**Data Set Characteristics:**\n",
        "\n",
        "**Number of Instances: 442**\n",
        "\n",
        "**Number of Attributes: First 10 columns are numeric predictive values**\n",
        "\n",
        "**Target: Column 11 is a quantitative measure of disease progression one year after baseline**\n",
        "\n",
        "**Attribute Information:**\n",
        "      **- Age**\n",
        "      **- Sex**\n",
        "      **- Body mass index**\n",
        "      **- Average blood pressure**\n",
        "      **- S1**\n",
        "      **- S2**\n",
        "      **- S3**\n",
        "      **- S4**\n",
        "      **- S5**\n",
        "      **- S6**\n",
        "\n",
        "Note: Each of these 10 feature variables have been mean centered and scaled by the standard deviation times `n_samples` (i.e. the sum of squares of each column totals 1).\n",
        "\n",
        "Source URL:\n",
        "https://www4.stat.ncsu.edu/~boos/var.select/diabetes.html\n",
        "\n",
        "For more information see:\n",
        "Bradley Efron, Trevor Hastie, Iain Johnstone and Robert Tibshirani (2004) \"Least Angle Regression,\" Annals of Statistics (with discussion), 407-499.\n",
        "(https://web.stanford.edu/~hastie/Papers/LARS/LeastAngle_2002.pdf)\n"
      ]
    },
    {
      "cell_type": "code",
      "metadata": {
        "id": "HQdUd2hjra5M",
        "colab_type": "code",
        "colab": {}
      },
      "source": [
        "import numpy as np\n",
        "import pandas as pd\n",
        "\n",
        "from sklearn import datasets\n",
        "from sklearn.linear_model import LinearRegression\n",
        "\n",
        "from sklearn.metrics import mean_squared_error, r2_score\n",
        "\n",
        "import matplotlib.pyplot as plt"
      ],
      "execution_count": 38,
      "outputs": []
    },
    {
      "cell_type": "markdown",
      "metadata": {
        "id": "PIQrZLucW9sM",
        "colab_type": "text"
      },
      "source": [
        "### Read Dataset"
      ]
    },
    {
      "cell_type": "code",
      "metadata": {
        "id": "pyzrfAGlrgS6",
        "colab_type": "code",
        "colab": {
          "base_uri": "https://localhost:8080/",
          "height": 90
        },
        "outputId": "689d6bc6-4596-439a-bafb-585e8bd6a47a"
      },
      "source": [
        "#------------------------------------------------------\n",
        "# Import necessary library\n",
        "#--------------------------------------------------\n",
        "# Load the diabetes dataset\n",
        "data = datasets.load_diabetes()\n",
        "\n",
        "# Descrive the whole dataset\n",
        "#print(data.DESCR)\n",
        "\n",
        "# Get the features\n",
        "diabetes_X = data.data\n",
        "# Get the labels\n",
        "y = data.target\n",
        "\n",
        "print('\\n Total number of samples = ', diabetes_X.shape[0])\n",
        "print('\\n The number of features = ', diabetes_X.shape[1])\n",
        "#print('\\n y.shape = ', y.shape)"
      ],
      "execution_count": 39,
      "outputs": [
        {
          "output_type": "stream",
          "text": [
            "\n",
            " Total number of samples =  442\n",
            "\n",
            " The number of features =  10\n"
          ],
          "name": "stdout"
        }
      ]
    },
    {
      "cell_type": "code",
      "metadata": {
        "id": "xcfB_IB4vZEW",
        "colab_type": "code",
        "colab": {
          "base_uri": "https://localhost:8080/",
          "height": 206
        },
        "outputId": "aaac2e74-b7e1-4411-aaea-4d35f5b90438"
      },
      "source": [
        "df=pd.DataFrame(data.data)\n",
        "df.columns= data.feature_names\n",
        "# Creating a new column containing response variable 'y' (a quantitative measure of disease progressionone year after baseline)\n",
        "df['diabetes_measure']=data.target\n",
        "df.head()"
      ],
      "execution_count": 40,
      "outputs": [
        {
          "output_type": "execute_result",
          "data": {
            "text/html": [
              "<div>\n",
              "<style scoped>\n",
              "    .dataframe tbody tr th:only-of-type {\n",
              "        vertical-align: middle;\n",
              "    }\n",
              "\n",
              "    .dataframe tbody tr th {\n",
              "        vertical-align: top;\n",
              "    }\n",
              "\n",
              "    .dataframe thead th {\n",
              "        text-align: right;\n",
              "    }\n",
              "</style>\n",
              "<table border=\"1\" class=\"dataframe\">\n",
              "  <thead>\n",
              "    <tr style=\"text-align: right;\">\n",
              "      <th></th>\n",
              "      <th>age</th>\n",
              "      <th>sex</th>\n",
              "      <th>bmi</th>\n",
              "      <th>bp</th>\n",
              "      <th>s1</th>\n",
              "      <th>s2</th>\n",
              "      <th>s3</th>\n",
              "      <th>s4</th>\n",
              "      <th>s5</th>\n",
              "      <th>s6</th>\n",
              "      <th>diabetes_measure</th>\n",
              "    </tr>\n",
              "  </thead>\n",
              "  <tbody>\n",
              "    <tr>\n",
              "      <th>0</th>\n",
              "      <td>0.038076</td>\n",
              "      <td>0.050680</td>\n",
              "      <td>0.061696</td>\n",
              "      <td>0.021872</td>\n",
              "      <td>-0.044223</td>\n",
              "      <td>-0.034821</td>\n",
              "      <td>-0.043401</td>\n",
              "      <td>-0.002592</td>\n",
              "      <td>0.019908</td>\n",
              "      <td>-0.017646</td>\n",
              "      <td>151.0</td>\n",
              "    </tr>\n",
              "    <tr>\n",
              "      <th>1</th>\n",
              "      <td>-0.001882</td>\n",
              "      <td>-0.044642</td>\n",
              "      <td>-0.051474</td>\n",
              "      <td>-0.026328</td>\n",
              "      <td>-0.008449</td>\n",
              "      <td>-0.019163</td>\n",
              "      <td>0.074412</td>\n",
              "      <td>-0.039493</td>\n",
              "      <td>-0.068330</td>\n",
              "      <td>-0.092204</td>\n",
              "      <td>75.0</td>\n",
              "    </tr>\n",
              "    <tr>\n",
              "      <th>2</th>\n",
              "      <td>0.085299</td>\n",
              "      <td>0.050680</td>\n",
              "      <td>0.044451</td>\n",
              "      <td>-0.005671</td>\n",
              "      <td>-0.045599</td>\n",
              "      <td>-0.034194</td>\n",
              "      <td>-0.032356</td>\n",
              "      <td>-0.002592</td>\n",
              "      <td>0.002864</td>\n",
              "      <td>-0.025930</td>\n",
              "      <td>141.0</td>\n",
              "    </tr>\n",
              "    <tr>\n",
              "      <th>3</th>\n",
              "      <td>-0.089063</td>\n",
              "      <td>-0.044642</td>\n",
              "      <td>-0.011595</td>\n",
              "      <td>-0.036656</td>\n",
              "      <td>0.012191</td>\n",
              "      <td>0.024991</td>\n",
              "      <td>-0.036038</td>\n",
              "      <td>0.034309</td>\n",
              "      <td>0.022692</td>\n",
              "      <td>-0.009362</td>\n",
              "      <td>206.0</td>\n",
              "    </tr>\n",
              "    <tr>\n",
              "      <th>4</th>\n",
              "      <td>0.005383</td>\n",
              "      <td>-0.044642</td>\n",
              "      <td>-0.036385</td>\n",
              "      <td>0.021872</td>\n",
              "      <td>0.003935</td>\n",
              "      <td>0.015596</td>\n",
              "      <td>0.008142</td>\n",
              "      <td>-0.002592</td>\n",
              "      <td>-0.031991</td>\n",
              "      <td>-0.046641</td>\n",
              "      <td>135.0</td>\n",
              "    </tr>\n",
              "  </tbody>\n",
              "</table>\n",
              "</div>"
            ],
            "text/plain": [
              "        age       sex       bmi  ...        s5        s6  diabetes_measure\n",
              "0  0.038076  0.050680  0.061696  ...  0.019908 -0.017646             151.0\n",
              "1 -0.001882 -0.044642 -0.051474  ... -0.068330 -0.092204              75.0\n",
              "2  0.085299  0.050680  0.044451  ...  0.002864 -0.025930             141.0\n",
              "3 -0.089063 -0.044642 -0.011595  ...  0.022692 -0.009362             206.0\n",
              "4  0.005383 -0.044642 -0.036385  ... -0.031991 -0.046641             135.0\n",
              "\n",
              "[5 rows x 11 columns]"
            ]
          },
          "metadata": {
            "tags": []
          },
          "execution_count": 40
        }
      ]
    },
    {
      "cell_type": "code",
      "metadata": {
        "id": "nVXp1wB8ve1E",
        "colab_type": "code",
        "colab": {}
      },
      "source": [
        "# Creating the feature matrix X\n",
        "X=df.iloc[:,:-1]\n",
        "# Creating the response vector y\n",
        "y=df.iloc[:,-1]"
      ],
      "execution_count": 41,
      "outputs": []
    },
    {
      "cell_type": "code",
      "metadata": {
        "id": "CdXv1uvmxEzH",
        "colab_type": "code",
        "colab": {
          "base_uri": "https://localhost:8080/",
          "height": 35
        },
        "outputId": "8188fc24-24ae-4048-82f8-c5e9577ddac7"
      },
      "source": [
        "X.shape"
      ],
      "execution_count": 42,
      "outputs": [
        {
          "output_type": "execute_result",
          "data": {
            "text/plain": [
              "(442, 10)"
            ]
          },
          "metadata": {
            "tags": []
          },
          "execution_count": 42
        }
      ]
    },
    {
      "cell_type": "code",
      "metadata": {
        "id": "oAYmcDrXxGf5",
        "colab_type": "code",
        "colab": {
          "base_uri": "https://localhost:8080/",
          "height": 35
        },
        "outputId": "5b6f043f-8361-4188-eea1-f2f5a034726a"
      },
      "source": [
        "y.shape"
      ],
      "execution_count": 43,
      "outputs": [
        {
          "output_type": "execute_result",
          "data": {
            "text/plain": [
              "(442,)"
            ]
          },
          "metadata": {
            "tags": []
          },
          "execution_count": 43
        }
      ]
    },
    {
      "cell_type": "code",
      "metadata": {
        "id": "JQBUOlFovsxV",
        "colab_type": "code",
        "colab": {}
      },
      "source": [
        "# Choosing 'bmi' as the only feature from the feature matrix X and reshaping the array to 2 dimensions\n",
        "bmi = X.iloc[:,2]\n",
        "bmi = bmi[:,np.newaxis]\n",
        "# Choosing 'diabetes_measure' as the response variable and reshaping the array to 2 dimensions\n",
        "y = df.iloc[:,-1]\n",
        "y = y[:,np.newaxis]"
      ],
      "execution_count": 44,
      "outputs": []
    },
    {
      "cell_type": "markdown",
      "metadata": {
        "id": "xwCuocJWr5Im",
        "colab_type": "text"
      },
      "source": [
        "### Build and Train a Simple Linear Regression Model"
      ]
    },
    {
      "cell_type": "code",
      "metadata": {
        "id": "z_xo5kwDroRj",
        "colab_type": "code",
        "colab": {}
      },
      "source": [
        "# importing the LinearRegression class from linear_model submodule of scikit learn\n",
        "from sklearn.linear_model import LinearRegression\n",
        "# instantiating\n",
        "simple_lr = LinearRegression()\n",
        "# Fitting the simple_lr object to the data\n",
        "simple_lr = LinearRegression().fit(bmi,y)\n",
        "# predicting the response values and saving them in an object called predicted_y\n",
        "predicted_y = simple_lr.predict(bmi)"
      ],
      "execution_count": 45,
      "outputs": []
    },
    {
      "cell_type": "code",
      "metadata": {
        "id": "WabUWJNOr2ww",
        "colab_type": "code",
        "colab": {
          "base_uri": "https://localhost:8080/",
          "height": 127
        },
        "outputId": "80cc2ee7-8c2b-41bf-e70a-e817e84400a1"
      },
      "source": [
        "# Check the trained model parameters\n",
        "# The intercept\n",
        "print('\\n Intercept (beta_0): \\n', simple_lr.intercept_)\n",
        "# The coefficients\n",
        "print('\\n Coefficients (beta_1): \\n', simple_lr.coef_)"
      ],
      "execution_count": 46,
      "outputs": [
        {
          "output_type": "stream",
          "text": [
            "\n",
            " Intercept (beta_0): \n",
            " [152.13348416]\n",
            "\n",
            " Coefficients (beta_1): \n",
            " [[949.43526038]]\n"
          ],
          "name": "stdout"
        }
      ]
    },
    {
      "cell_type": "markdown",
      "metadata": {
        "id": "lr1UxsOrsCX4",
        "colab_type": "text"
      },
      "source": [
        "### Plot the Decision Plane"
      ]
    },
    {
      "cell_type": "code",
      "metadata": {
        "id": "KmbnCAZXrp4o",
        "colab_type": "code",
        "colab": {
          "base_uri": "https://localhost:8080/",
          "height": 404
        },
        "outputId": "e19cb36e-8df9-4673-cf28-f005995c78e7"
      },
      "source": [
        "#-----------------------------------------------------\n",
        "# Plot outputs\n",
        "#-----------------------------------------------------\n",
        "# plotting the regression line on the scatter plot\n",
        "plt.figure(figsize=(10,6))\n",
        "plt.scatter(bmi, y)\n",
        "plt.plot(bmi, predicted_y, c='r')\n",
        "plt.title('Scatter plot and a Simple Linear Regression Model')\n",
        "plt.ylabel(\"y\")\n",
        "plt.xlabel(\"BMI\")\n",
        "plt.show()"
      ],
      "execution_count": 47,
      "outputs": [
        {
          "output_type": "display_data",
          "data": {
            "image/png": "[encoded data removed]",
            "text/plain": [
              "<Figure size 720x432 with 1 Axes>"
            ]
          },
          "metadata": {
            "tags": [],
            "needs_background": "light"
          }
        }
      ]
    },
    {
      "cell_type": "markdown",
      "metadata": {
        "id": "XnzbKuSAtLHP",
        "colab_type": "text"
      },
      "source": [
        "### Build a Multiple Linear Regression Model"
      ]
    },
    {
      "cell_type": "markdown",
      "metadata": {
        "id": "CnIGMPoguL_M",
        "colab_type": "text"
      },
      "source": [
        "### Build and Train the Model"
      ]
    },
    {
      "cell_type": "code",
      "metadata": {
        "id": "Jsu9vYJXw0lM",
        "colab_type": "code",
        "colab": {}
      },
      "source": [
        "# importing the LinearRegression class from linear_model submodule of scikit learn\n",
        "from sklearn.linear_model import LinearRegression\n",
        "\n",
        "# instantiating\n",
        "multiple_lr = LinearRegression()"
      ],
      "execution_count": 48,
      "outputs": []
    },
    {
      "cell_type": "code",
      "metadata": {
        "id": "FyjVTV9CtLbE",
        "colab_type": "code",
        "colab": {}
      },
      "source": [
        "# Fitting the multiple_lr object to the data , this time using the whole feature matrix X\n",
        "multiple_lr = LinearRegression().fit(X,y)"
      ],
      "execution_count": 49,
      "outputs": []
    },
    {
      "cell_type": "code",
      "metadata": {
        "id": "Dm0ZEbSow7R1",
        "colab_type": "code",
        "colab": {
          "base_uri": "https://localhost:8080/",
          "height": 35
        },
        "outputId": "98694c8f-3be3-4520-e7a1-e37f3aafd532"
      },
      "source": [
        "# Importing cross_val_score function from the model_selection submodule of scikit learn\n",
        "from sklearn.model_selection import cross_val_score\n",
        "# storing the ten scores in an object called mse\n",
        "mse= cross_val_score(multiple_lr,X,y,scoring='neg_mean_squared_error',cv=10)\n",
        "# taking the mean of mse for using as an indicator of how good the model is\n",
        "mse.mean()"
      ],
      "execution_count": 50,
      "outputs": [
        {
          "output_type": "execute_result",
          "data": {
            "text/plain": [
              "-3000.3810328390514"
            ]
          },
          "metadata": {
            "tags": []
          },
          "execution_count": 50
        }
      ]
    },
    {
      "cell_type": "code",
      "metadata": {
        "id": "5TOF3DCytWRx",
        "colab_type": "code",
        "colab": {
          "base_uri": "https://localhost:8080/",
          "height": 146
        },
        "outputId": "b793b7f5-3d9b-42a0-fa99-0d787ed4d513"
      },
      "source": [
        "# Check the trained model parameters\n",
        "# The intercept\n",
        "print('\\n Intercept (beta_0): \\n', multiple_lr.intercept_)\n",
        "# The coefficients\n",
        "print('\\n Coefficients (beta_1): \\n', multiple_lr.coef_)"
      ],
      "execution_count": 51,
      "outputs": [
        {
          "output_type": "stream",
          "text": [
            "\n",
            " Intercept (beta_0): \n",
            " [152.13348416]\n",
            "\n",
            " Coefficients (beta_1): \n",
            " [[ -10.01219782 -239.81908937  519.83978679  324.39042769 -792.18416163\n",
            "   476.74583782  101.04457032  177.06417623  751.27932109   67.62538639]]\n"
          ],
          "name": "stdout"
        }
      ]
    },
    {
      "cell_type": "code",
      "metadata": {
        "id": "NmcLwnGQqe-3",
        "colab_type": "code",
        "colab": {
          "base_uri": "https://localhost:8080/",
          "height": 72
        },
        "outputId": "9d225ca6-7b22-4cab-fe2a-d706bc863259"
      },
      "source": [
        "# Saving an array containing all the ten coefficients\n",
        "multiple_lr_coeffs = multiple_lr.coef_[0]\n",
        "multiple_lr_coeffs"
      ],
      "execution_count": 52,
      "outputs": [
        {
          "output_type": "execute_result",
          "data": {
            "text/plain": [
              "array([ -10.01219782, -239.81908937,  519.83978679,  324.39042769,\n",
              "       -792.18416163,  476.74583782,  101.04457032,  177.06417623,\n",
              "        751.27932109,   67.62538639])"
            ]
          },
          "metadata": {
            "tags": []
          },
          "execution_count": 52
        }
      ]
    },
    {
      "cell_type": "code",
      "metadata": {
        "id": "ohwDkbQgqRYu",
        "colab_type": "code",
        "colab": {
          "base_uri": "https://localhost:8080/",
          "height": 35
        },
        "outputId": "0b03c459-af0a-43c0-dcd9-286971d29a00"
      },
      "source": [
        "# fetching feature names from the dataframe df\n",
        "feature_names = data.feature_names\n",
        "feature_names"
      ],
      "execution_count": 53,
      "outputs": [
        {
          "output_type": "execute_result",
          "data": {
            "text/plain": [
              "['age', 'sex', 'bmi', 'bp', 's1', 's2', 's3', 's4', 's5', 's6']"
            ]
          },
          "metadata": {
            "tags": []
          },
          "execution_count": 53
        }
      ]
    },
    {
      "cell_type": "code",
      "metadata": {
        "id": "oDl61HYYqTxr",
        "colab_type": "code",
        "colab": {
          "base_uri": "https://localhost:8080/",
          "height": 415
        },
        "outputId": "0aacf844-8915-4cb9-af39-58eb58d348f7"
      },
      "source": [
        "# Using matplotlib commands to plot\n",
        "plt.figure(figsize=(10,6))\n",
        "plt.plot(range(len(multiple_lr_coeffs)),multiple_lr_coeffs)\n",
        "plt.axhline(0, color='r', linestyle='solid')\n",
        "plt.xticks(range(len(feature_names)),feature_names,rotation=50)\n",
        "plt.title(\"Coefficients for Multiple Linear Regression\")\n",
        "plt.ylabel(\"Coefficients\")\n",
        "plt.xlabel(\"Features\")\n",
        "plt.show()"
      ],
      "execution_count": 54,
      "outputs": [
        {
          "output_type": "display_data",
          "data": {
            "image/png": "[encoded data removed]",
            "text/plain": [
              "<Figure size 720x432 with 1 Axes>"
            ]
          },
          "metadata": {
            "tags": [],
            "needs_background": "light"
          }
        }
      ]
    },
    {
      "cell_type": "markdown",
      "metadata": {
        "id": "g6p3T8tmHBrm",
        "colab_type": "text"
      },
      "source": [
        "## Why Regularize?\n",
        "\n",
        "One of the basic assumptions of a multiple linear regression model is that there should be no (or very less) multicollinearity among the feature variables. This essentially means that the feature variables should ideally have no or very less correlation with each other.\n",
        "\n",
        "A high correlation between the two feature variables gives rise to several problems. If we include one of them in the model, adding the other will have little or no impact on improving the model, but will only make the model more complex.\n",
        "\n",
        "This goes against the principle of 'parsimony' in model building, which dictates that a simpler model with fewer variables is always preferred to a more complex model with too many features. \n",
        "\n",
        "In such a case the whole OLS model becomes less reliable as the coefficient estimates have high variance, i.e. they do not generalize well to unseen data(also called the problem of overfitting).\n",
        "\n",
        "The correlations among all the feature variables can be visualized with the help of a correlation matrix using the following commands:"
      ]
    },
    {
      "cell_type": "code",
      "metadata": {
        "id": "4VqkaU9TsWwA",
        "colab_type": "code",
        "colab": {
          "base_uri": "https://localhost:8080/",
          "height": 254
        },
        "outputId": "1855f070-2f41-4674-e62d-4e5b3ca465a1"
      },
      "source": [
        "df = pd.DataFrame(diabetes_X, columns=data.feature_names)\n",
        "\n",
        "df.corr().style.background_gradient(cmap='coolwarm')"
      ],
      "execution_count": 55,
      "outputs": [
        {
          "output_type": "execute_result",
          "data": {
            "text/html": [
              "<style  type=\"text/css\" >\n",
              "    #T_72fe7ebe_fef2_11ea_a1b4_0242ac1c0002row0_col0 {\n",
              "            background-color:  #b40426;\n",
              "            color:  #f1f1f1;\n",
              "        }    #T_72fe7ebe_fef2_11ea_a1b4_0242ac1c0002row0_col1 {\n",
              "            background-color:  #c0d4f5;\n",
              "            color:  #000000;\n",
              "        }    #T_72fe7ebe_fef2_11ea_a1b4_0242ac1c0002row0_col2 {\n",
              "            background-color:  #c1d4f4;\n",
              "            color:  #000000;\n",
              "        }    #T_72fe7ebe_fef2_11ea_a1b4_0242ac1c0002row0_col3 {\n",
              "            background-color:  #cbd8ee;\n",
              "            color:  #000000;\n",
              "        }    #T_72fe7ebe_fef2_11ea_a1b4_0242ac1c0002row0_col4 {\n",
              "            background-color:  #86a9fc;\n",
              "            color:  #000000;\n",
              "        }    #T_72fe7ebe_fef2_11ea_a1b4_0242ac1c0002row0_col5 {\n",
              "            background-color:  #aec9fc;\n",
              "            color:  #000000;\n",
              "        }    #T_72fe7ebe_fef2_11ea_a1b4_0242ac1c0002row0_col6 {\n",
              "            background-color:  #bad0f8;\n",
              "            color:  #000000;\n",
              "        }    #T_72fe7ebe_fef2_11ea_a1b4_0242ac1c0002row0_col7 {\n",
              "            background-color:  #e7d7ce;\n",
              "            color:  #000000;\n",
              "        }    #T_72fe7ebe_fef2_11ea_a1b4_0242ac1c0002row0_col8 {\n",
              "            background-color:  #d7dce3;\n",
              "            color:  #000000;\n",
              "        }    #T_72fe7ebe_fef2_11ea_a1b4_0242ac1c0002row0_col9 {\n",
              "            background-color:  #cfdaea;\n",
              "            color:  #000000;\n",
              "        }    #T_72fe7ebe_fef2_11ea_a1b4_0242ac1c0002row1_col0 {\n",
              "            background-color:  #86a9fc;\n",
              "            color:  #000000;\n",
              "        }    #T_72fe7ebe_fef2_11ea_a1b4_0242ac1c0002row1_col1 {\n",
              "            background-color:  #b40426;\n",
              "            color:  #f1f1f1;\n",
              "        }    #T_72fe7ebe_fef2_11ea_a1b4_0242ac1c0002row1_col2 {\n",
              "            background-color:  #aac7fd;\n",
              "            color:  #000000;\n",
              "        }    #T_72fe7ebe_fef2_11ea_a1b4_0242ac1c0002row1_col3 {\n",
              "            background-color:  #b2ccfb;\n",
              "            color:  #000000;\n",
              "        }    #T_72fe7ebe_fef2_11ea_a1b4_0242ac1c0002row1_col4 {\n",
              "            background-color:  #3b4cc0;\n",
              "            color:  #f1f1f1;\n",
              "        }    #T_72fe7ebe_fef2_11ea_a1b4_0242ac1c0002row1_col5 {\n",
              "            background-color:  #98b9ff;\n",
              "            color:  #000000;\n",
              "        }    #T_72fe7ebe_fef2_11ea_a1b4_0242ac1c0002row1_col6 {\n",
              "            background-color:  #7da0f9;\n",
              "            color:  #000000;\n",
              "        }    #T_72fe7ebe_fef2_11ea_a1b4_0242ac1c0002row1_col7 {\n",
              "            background-color:  #f3c7b1;\n",
              "            color:  #000000;\n",
              "        }    #T_72fe7ebe_fef2_11ea_a1b4_0242ac1c0002row1_col8 {\n",
              "            background-color:  #bed2f6;\n",
              "            color:  #000000;\n",
              "        }    #T_72fe7ebe_fef2_11ea_a1b4_0242ac1c0002row1_col9 {\n",
              "            background-color:  #b9d0f9;\n",
              "            color:  #000000;\n",
              "        }    #T_72fe7ebe_fef2_11ea_a1b4_0242ac1c0002row2_col0 {\n",
              "            background-color:  #89acfd;\n",
              "            color:  #000000;\n",
              "        }    #T_72fe7ebe_fef2_11ea_a1b4_0242ac1c0002row2_col1 {\n",
              "            background-color:  #abc8fd;\n",
              "            color:  #000000;\n",
              "        }    #T_72fe7ebe_fef2_11ea_a1b4_0242ac1c0002row2_col2 {\n",
              "            background-color:  #b40426;\n",
              "            color:  #f1f1f1;\n",
              "        }    #T_72fe7ebe_fef2_11ea_a1b4_0242ac1c0002row2_col3 {\n",
              "            background-color:  #d9dce1;\n",
              "            color:  #000000;\n",
              "        }    #T_72fe7ebe_fef2_11ea_a1b4_0242ac1c0002row2_col4 {\n",
              "            background-color:  #82a6fb;\n",
              "            color:  #000000;\n",
              "        }    #T_72fe7ebe_fef2_11ea_a1b4_0242ac1c0002row2_col5 {\n",
              "            background-color:  #bad0f8;\n",
              "            color:  #000000;\n",
              "        }    #T_72fe7ebe_fef2_11ea_a1b4_0242ac1c0002row2_col6 {\n",
              "            background-color:  #80a3fa;\n",
              "            color:  #000000;\n",
              "        }    #T_72fe7ebe_fef2_11ea_a1b4_0242ac1c0002row2_col7 {\n",
              "            background-color:  #f7b99e;\n",
              "            color:  #000000;\n",
              "        }    #T_72fe7ebe_fef2_11ea_a1b4_0242ac1c0002row2_col8 {\n",
              "            background-color:  #f2cab5;\n",
              "            color:  #000000;\n",
              "        }    #T_72fe7ebe_fef2_11ea_a1b4_0242ac1c0002row2_col9 {\n",
              "            background-color:  #e2dad5;\n",
              "            color:  #000000;\n",
              "        }    #T_72fe7ebe_fef2_11ea_a1b4_0242ac1c0002row3_col0 {\n",
              "            background-color:  #bad0f8;\n",
              "            color:  #000000;\n",
              "        }    #T_72fe7ebe_fef2_11ea_a1b4_0242ac1c0002row3_col1 {\n",
              "            background-color:  #cfdaea;\n",
              "            color:  #000000;\n",
              "        }    #T_72fe7ebe_fef2_11ea_a1b4_0242ac1c0002row3_col2 {\n",
              "            background-color:  #ead4c8;\n",
              "            color:  #000000;\n",
              "        }    #T_72fe7ebe_fef2_11ea_a1b4_0242ac1c0002row3_col3 {\n",
              "            background-color:  #b40426;\n",
              "            color:  #f1f1f1;\n",
              "        }    #T_72fe7ebe_fef2_11ea_a1b4_0242ac1c0002row3_col4 {\n",
              "            background-color:  #80a3fa;\n",
              "            color:  #000000;\n",
              "        }    #T_72fe7ebe_fef2_11ea_a1b4_0242ac1c0002row3_col5 {\n",
              "            background-color:  #a5c3fe;\n",
              "            color:  #000000;\n",
              "        }    #T_72fe7ebe_fef2_11ea_a1b4_0242ac1c0002row3_col6 {\n",
              "            background-color:  #a6c4fe;\n",
              "            color:  #000000;\n",
              "        }    #T_72fe7ebe_fef2_11ea_a1b4_0242ac1c0002row3_col7 {\n",
              "            background-color:  #edd1c2;\n",
              "            color:  #000000;\n",
              "        }    #T_72fe7ebe_fef2_11ea_a1b4_0242ac1c0002row3_col8 {\n",
              "            background-color:  #ecd3c5;\n",
              "            color:  #000000;\n",
              "        }    #T_72fe7ebe_fef2_11ea_a1b4_0242ac1c0002row3_col9 {\n",
              "            background-color:  #e2dad5;\n",
              "            color:  #000000;\n",
              "        }    #T_72fe7ebe_fef2_11ea_a1b4_0242ac1c0002row4_col0 {\n",
              "            background-color:  #a2c1ff;\n",
              "            color:  #000000;\n",
              "        }    #T_72fe7ebe_fef2_11ea_a1b4_0242ac1c0002row4_col1 {\n",
              "            background-color:  #9ebeff;\n",
              "            color:  #000000;\n",
              "        }    #T_72fe7ebe_fef2_11ea_a1b4_0242ac1c0002row4_col2 {\n",
              "            background-color:  #cfdaea;\n",
              "            color:  #000000;\n",
              "        }    #T_72fe7ebe_fef2_11ea_a1b4_0242ac1c0002row4_col3 {\n",
              "            background-color:  #b2ccfb;\n",
              "            color:  #000000;\n",
              "        }    #T_72fe7ebe_fef2_11ea_a1b4_0242ac1c0002row4_col4 {\n",
              "            background-color:  #b40426;\n",
              "            color:  #f1f1f1;\n",
              "        }    #T_72fe7ebe_fef2_11ea_a1b4_0242ac1c0002row4_col5 {\n",
              "            background-color:  #d24b40;\n",
              "            color:  #f1f1f1;\n",
              "        }    #T_72fe7ebe_fef2_11ea_a1b4_0242ac1c0002row4_col6 {\n",
              "            background-color:  #d1dae9;\n",
              "            color:  #000000;\n",
              "        }    #T_72fe7ebe_fef2_11ea_a1b4_0242ac1c0002row4_col7 {\n",
              "            background-color:  #f59f80;\n",
              "            color:  #000000;\n",
              "        }    #T_72fe7ebe_fef2_11ea_a1b4_0242ac1c0002row4_col8 {\n",
              "            background-color:  #f7bca1;\n",
              "            color:  #000000;\n",
              "        }    #T_72fe7ebe_fef2_11ea_a1b4_0242ac1c0002row4_col9 {\n",
              "            background-color:  #d5dbe5;\n",
              "            color:  #000000;\n",
              "        }    #T_72fe7ebe_fef2_11ea_a1b4_0242ac1c0002row5_col0 {\n",
              "            background-color:  #96b7ff;\n",
              "            color:  #000000;\n",
              "        }    #T_72fe7ebe_fef2_11ea_a1b4_0242ac1c0002row5_col1 {\n",
              "            background-color:  #b9d0f9;\n",
              "            color:  #000000;\n",
              "        }    #T_72fe7ebe_fef2_11ea_a1b4_0242ac1c0002row5_col2 {\n",
              "            background-color:  #d2dbe8;\n",
              "            color:  #000000;\n",
              "        }    #T_72fe7ebe_fef2_11ea_a1b4_0242ac1c0002row5_col3 {\n",
              "            background-color:  #a2c1ff;\n",
              "            color:  #000000;\n",
              "        }    #T_72fe7ebe_fef2_11ea_a1b4_0242ac1c0002row5_col4 {\n",
              "            background-color:  #d85646;\n",
              "            color:  #000000;\n",
              "        }    #T_72fe7ebe_fef2_11ea_a1b4_0242ac1c0002row5_col5 {\n",
              "            background-color:  #b40426;\n",
              "            color:  #f1f1f1;\n",
              "        }    #T_72fe7ebe_fef2_11ea_a1b4_0242ac1c0002row5_col6 {\n",
              "            background-color:  #a2c1ff;\n",
              "            color:  #000000;\n",
              "        }    #T_72fe7ebe_fef2_11ea_a1b4_0242ac1c0002row5_col7 {\n",
              "            background-color:  #ed8366;\n",
              "            color:  #000000;\n",
              "        }    #T_72fe7ebe_fef2_11ea_a1b4_0242ac1c0002row5_col8 {\n",
              "            background-color:  #e0dbd8;\n",
              "            color:  #000000;\n",
              "        }    #T_72fe7ebe_fef2_11ea_a1b4_0242ac1c0002row5_col9 {\n",
              "            background-color:  #cdd9ec;\n",
              "            color:  #000000;\n",
              "        }    #T_72fe7ebe_fef2_11ea_a1b4_0242ac1c0002row6_col0 {\n",
              "            background-color:  #3b4cc0;\n",
              "            color:  #f1f1f1;\n",
              "        }    #T_72fe7ebe_fef2_11ea_a1b4_0242ac1c0002row6_col1 {\n",
              "            background-color:  #3b4cc0;\n",
              "            color:  #f1f1f1;\n",
              "        }    #T_72fe7ebe_fef2_11ea_a1b4_0242ac1c0002row6_col2 {\n",
              "            background-color:  #3b4cc0;\n",
              "            color:  #f1f1f1;\n",
              "        }    #T_72fe7ebe_fef2_11ea_a1b4_0242ac1c0002row6_col3 {\n",
              "            background-color:  #3b4cc0;\n",
              "            color:  #f1f1f1;\n",
              "        }    #T_72fe7ebe_fef2_11ea_a1b4_0242ac1c0002row6_col4 {\n",
              "            background-color:  #3f53c6;\n",
              "            color:  #f1f1f1;\n",
              "        }    #T_72fe7ebe_fef2_11ea_a1b4_0242ac1c0002row6_col5 {\n",
              "            background-color:  #3b4cc0;\n",
              "            color:  #f1f1f1;\n",
              "        }    #T_72fe7ebe_fef2_11ea_a1b4_0242ac1c0002row6_col6 {\n",
              "            background-color:  #b40426;\n",
              "            color:  #f1f1f1;\n",
              "        }    #T_72fe7ebe_fef2_11ea_a1b4_0242ac1c0002row6_col7 {\n",
              "            background-color:  #3b4cc0;\n",
              "            color:  #f1f1f1;\n",
              "        }    #T_72fe7ebe_fef2_11ea_a1b4_0242ac1c0002row6_col8 {\n",
              "            background-color:  #3b4cc0;\n",
              "            color:  #f1f1f1;\n",
              "        }    #T_72fe7ebe_fef2_11ea_a1b4_0242ac1c0002row6_col9 {\n",
              "            background-color:  #3b4cc0;\n",
              "            color:  #f1f1f1;\n",
              "        }    #T_72fe7ebe_fef2_11ea_a1b4_0242ac1c0002row7_col0 {\n",
              "            background-color:  #90b2fe;\n",
              "            color:  #000000;\n",
              "        }    #T_72fe7ebe_fef2_11ea_a1b4_0242ac1c0002row7_col1 {\n",
              "            background-color:  #e1dad6;\n",
              "            color:  #000000;\n",
              "        }    #T_72fe7ebe_fef2_11ea_a1b4_0242ac1c0002row7_col2 {\n",
              "            background-color:  #edd1c2;\n",
              "            color:  #000000;\n",
              "        }    #T_72fe7ebe_fef2_11ea_a1b4_0242ac1c0002row7_col3 {\n",
              "            background-color:  #b6cefa;\n",
              "            color:  #000000;\n",
              "        }    #T_72fe7ebe_fef2_11ea_a1b4_0242ac1c0002row7_col4 {\n",
              "            background-color:  #e3d9d3;\n",
              "            color:  #000000;\n",
              "        }    #T_72fe7ebe_fef2_11ea_a1b4_0242ac1c0002row7_col5 {\n",
              "            background-color:  #f7a688;\n",
              "            color:  #000000;\n",
              "        }    #T_72fe7ebe_fef2_11ea_a1b4_0242ac1c0002row7_col6 {\n",
              "            background-color:  #3b4cc0;\n",
              "            color:  #f1f1f1;\n",
              "        }    #T_72fe7ebe_fef2_11ea_a1b4_0242ac1c0002row7_col7 {\n",
              "            background-color:  #b40426;\n",
              "            color:  #f1f1f1;\n",
              "        }    #T_72fe7ebe_fef2_11ea_a1b4_0242ac1c0002row7_col8 {\n",
              "            background-color:  #f6a283;\n",
              "            color:  #000000;\n",
              "        }    #T_72fe7ebe_fef2_11ea_a1b4_0242ac1c0002row7_col9 {\n",
              "            background-color:  #e7d7ce;\n",
              "            color:  #000000;\n",
              "        }    #T_72fe7ebe_fef2_11ea_a1b4_0242ac1c0002row8_col0 {\n",
              "            background-color:  #a6c4fe;\n",
              "            color:  #000000;\n",
              "        }    #T_72fe7ebe_fef2_11ea_a1b4_0242ac1c0002row8_col1 {\n",
              "            background-color:  #bbd1f8;\n",
              "            color:  #000000;\n",
              "        }    #T_72fe7ebe_fef2_11ea_a1b4_0242ac1c0002row8_col2 {\n",
              "            background-color:  #f1ccb8;\n",
              "            color:  #000000;\n",
              "        }    #T_72fe7ebe_fef2_11ea_a1b4_0242ac1c0002row8_col3 {\n",
              "            background-color:  #d9dce1;\n",
              "            color:  #000000;\n",
              "        }    #T_72fe7ebe_fef2_11ea_a1b4_0242ac1c0002row8_col4 {\n",
              "            background-color:  #dcdddd;\n",
              "            color:  #000000;\n",
              "        }    #T_72fe7ebe_fef2_11ea_a1b4_0242ac1c0002row8_col5 {\n",
              "            background-color:  #cad8ef;\n",
              "            color:  #000000;\n",
              "        }    #T_72fe7ebe_fef2_11ea_a1b4_0242ac1c0002row8_col6 {\n",
              "            background-color:  #7a9df8;\n",
              "            color:  #000000;\n",
              "        }    #T_72fe7ebe_fef2_11ea_a1b4_0242ac1c0002row8_col7 {\n",
              "            background-color:  #f18d6f;\n",
              "            color:  #000000;\n",
              "        }    #T_72fe7ebe_fef2_11ea_a1b4_0242ac1c0002row8_col8 {\n",
              "            background-color:  #b40426;\n",
              "            color:  #f1f1f1;\n",
              "        }    #T_72fe7ebe_fef2_11ea_a1b4_0242ac1c0002row8_col9 {\n",
              "            background-color:  #efcfbf;\n",
              "            color:  #000000;\n",
              "        }    #T_72fe7ebe_fef2_11ea_a1b4_0242ac1c0002row9_col0 {\n",
              "            background-color:  #afcafc;\n",
              "            color:  #000000;\n",
              "        }    #T_72fe7ebe_fef2_11ea_a1b4_0242ac1c0002row9_col1 {\n",
              "            background-color:  #c9d7f0;\n",
              "            color:  #000000;\n",
              "        }    #T_72fe7ebe_fef2_11ea_a1b4_0242ac1c0002row9_col2 {\n",
              "            background-color:  #ead5c9;\n",
              "            color:  #000000;\n",
              "        }    #T_72fe7ebe_fef2_11ea_a1b4_0242ac1c0002row9_col3 {\n",
              "            background-color:  #d8dce2;\n",
              "            color:  #000000;\n",
              "        }    #T_72fe7ebe_fef2_11ea_a1b4_0242ac1c0002row9_col4 {\n",
              "            background-color:  #9fbfff;\n",
              "            color:  #000000;\n",
              "        }    #T_72fe7ebe_fef2_11ea_a1b4_0242ac1c0002row9_col5 {\n",
              "            background-color:  #c3d5f4;\n",
              "            color:  #000000;\n",
              "        }    #T_72fe7ebe_fef2_11ea_a1b4_0242ac1c0002row9_col6 {\n",
              "            background-color:  #93b5fe;\n",
              "            color:  #000000;\n",
              "        }    #T_72fe7ebe_fef2_11ea_a1b4_0242ac1c0002row9_col7 {\n",
              "            background-color:  #f7b89c;\n",
              "            color:  #000000;\n",
              "        }    #T_72fe7ebe_fef2_11ea_a1b4_0242ac1c0002row9_col8 {\n",
              "            background-color:  #f4c6af;\n",
              "            color:  #000000;\n",
              "        }    #T_72fe7ebe_fef2_11ea_a1b4_0242ac1c0002row9_col9 {\n",
              "            background-color:  #b40426;\n",
              "            color:  #f1f1f1;\n",
              "        }</style><table id=\"T_72fe7ebe_fef2_11ea_a1b4_0242ac1c0002\" ><thead>    <tr>        <th class=\"blank level0\" ></th>        <th class=\"col_heading level0 col0\" >age</th>        <th class=\"col_heading level0 col1\" >sex</th>        <th class=\"col_heading level0 col2\" >bmi</th>        <th class=\"col_heading level0 col3\" >bp</th>        <th class=\"col_heading level0 col4\" >s1</th>        <th class=\"col_heading level0 col5\" >s2</th>        <th class=\"col_heading level0 col6\" >s3</th>        <th class=\"col_heading level0 col7\" >s4</th>        <th class=\"col_heading level0 col8\" >s5</th>        <th class=\"col_heading level0 col9\" >s6</th>    </tr></thead><tbody>\n",
              "                <tr>\n",
              "                        <th id=\"T_72fe7ebe_fef2_11ea_a1b4_0242ac1c0002level0_row0\" class=\"row_heading level0 row0\" >age</th>\n",
              "                        <td id=\"T_72fe7ebe_fef2_11ea_a1b4_0242ac1c0002row0_col0\" class=\"data row0 col0\" >1.000000</td>\n",
              "                        <td id=\"T_72fe7ebe_fef2_11ea_a1b4_0242ac1c0002row0_col1\" class=\"data row0 col1\" >0.173737</td>\n",
              "                        <td id=\"T_72fe7ebe_fef2_11ea_a1b4_0242ac1c0002row0_col2\" class=\"data row0 col2\" >0.185085</td>\n",
              "                        <td id=\"T_72fe7ebe_fef2_11ea_a1b4_0242ac1c0002row0_col3\" class=\"data row0 col3\" >0.335427</td>\n",
              "                        <td id=\"T_72fe7ebe_fef2_11ea_a1b4_0242ac1c0002row0_col4\" class=\"data row0 col4\" >0.260061</td>\n",
              "                        <td id=\"T_72fe7ebe_fef2_11ea_a1b4_0242ac1c0002row0_col5\" class=\"data row0 col5\" >0.219243</td>\n",
              "                        <td id=\"T_72fe7ebe_fef2_11ea_a1b4_0242ac1c0002row0_col6\" class=\"data row0 col6\" >-0.075181</td>\n",
              "                        <td id=\"T_72fe7ebe_fef2_11ea_a1b4_0242ac1c0002row0_col7\" class=\"data row0 col7\" >0.203841</td>\n",
              "                        <td id=\"T_72fe7ebe_fef2_11ea_a1b4_0242ac1c0002row0_col8\" class=\"data row0 col8\" >0.270777</td>\n",
              "                        <td id=\"T_72fe7ebe_fef2_11ea_a1b4_0242ac1c0002row0_col9\" class=\"data row0 col9\" >0.301731</td>\n",
              "            </tr>\n",
              "            <tr>\n",
              "                        <th id=\"T_72fe7ebe_fef2_11ea_a1b4_0242ac1c0002level0_row1\" class=\"row_heading level0 row1\" >sex</th>\n",
              "                        <td id=\"T_72fe7ebe_fef2_11ea_a1b4_0242ac1c0002row1_col0\" class=\"data row1 col0\" >0.173737</td>\n",
              "                        <td id=\"T_72fe7ebe_fef2_11ea_a1b4_0242ac1c0002row1_col1\" class=\"data row1 col1\" >1.000000</td>\n",
              "                        <td id=\"T_72fe7ebe_fef2_11ea_a1b4_0242ac1c0002row1_col2\" class=\"data row1 col2\" >0.088161</td>\n",
              "                        <td id=\"T_72fe7ebe_fef2_11ea_a1b4_0242ac1c0002row1_col3\" class=\"data row1 col3\" >0.241013</td>\n",
              "                        <td id=\"T_72fe7ebe_fef2_11ea_a1b4_0242ac1c0002row1_col4\" class=\"data row1 col4\" >0.035277</td>\n",
              "                        <td id=\"T_72fe7ebe_fef2_11ea_a1b4_0242ac1c0002row1_col5\" class=\"data row1 col5\" >0.142637</td>\n",
              "                        <td id=\"T_72fe7ebe_fef2_11ea_a1b4_0242ac1c0002row1_col6\" class=\"data row1 col6\" >-0.379090</td>\n",
              "                        <td id=\"T_72fe7ebe_fef2_11ea_a1b4_0242ac1c0002row1_col7\" class=\"data row1 col7\" >0.332115</td>\n",
              "                        <td id=\"T_72fe7ebe_fef2_11ea_a1b4_0242ac1c0002row1_col8\" class=\"data row1 col8\" >0.149918</td>\n",
              "                        <td id=\"T_72fe7ebe_fef2_11ea_a1b4_0242ac1c0002row1_col9\" class=\"data row1 col9\" >0.208133</td>\n",
              "            </tr>\n",
              "            <tr>\n",
              "                        <th id=\"T_72fe7ebe_fef2_11ea_a1b4_0242ac1c0002level0_row2\" class=\"row_heading level0 row2\" >bmi</th>\n",
              "                        <td id=\"T_72fe7ebe_fef2_11ea_a1b4_0242ac1c0002row2_col0\" class=\"data row2 col0\" >0.185085</td>\n",
              "                        <td id=\"T_72fe7ebe_fef2_11ea_a1b4_0242ac1c0002row2_col1\" class=\"data row2 col1\" >0.088161</td>\n",
              "                        <td id=\"T_72fe7ebe_fef2_11ea_a1b4_0242ac1c0002row2_col2\" class=\"data row2 col2\" >1.000000</td>\n",
              "                        <td id=\"T_72fe7ebe_fef2_11ea_a1b4_0242ac1c0002row2_col3\" class=\"data row2 col3\" >0.395415</td>\n",
              "                        <td id=\"T_72fe7ebe_fef2_11ea_a1b4_0242ac1c0002row2_col4\" class=\"data row2 col4\" >0.249777</td>\n",
              "                        <td id=\"T_72fe7ebe_fef2_11ea_a1b4_0242ac1c0002row2_col5\" class=\"data row2 col5\" >0.261170</td>\n",
              "                        <td id=\"T_72fe7ebe_fef2_11ea_a1b4_0242ac1c0002row2_col6\" class=\"data row2 col6\" >-0.366811</td>\n",
              "                        <td id=\"T_72fe7ebe_fef2_11ea_a1b4_0242ac1c0002row2_col7\" class=\"data row2 col7\" >0.413807</td>\n",
              "                        <td id=\"T_72fe7ebe_fef2_11ea_a1b4_0242ac1c0002row2_col8\" class=\"data row2 col8\" >0.446159</td>\n",
              "                        <td id=\"T_72fe7ebe_fef2_11ea_a1b4_0242ac1c0002row2_col9\" class=\"data row2 col9\" >0.388680</td>\n",
              "            </tr>\n",
              "            <tr>\n",
              "                        <th id=\"T_72fe7ebe_fef2_11ea_a1b4_0242ac1c0002level0_row3\" class=\"row_heading level0 row3\" >bp</th>\n",
              "                        <td id=\"T_72fe7ebe_fef2_11ea_a1b4_0242ac1c0002row3_col0\" class=\"data row3 col0\" >0.335427</td>\n",
              "                        <td id=\"T_72fe7ebe_fef2_11ea_a1b4_0242ac1c0002row3_col1\" class=\"data row3 col1\" >0.241013</td>\n",
              "                        <td id=\"T_72fe7ebe_fef2_11ea_a1b4_0242ac1c0002row3_col2\" class=\"data row3 col2\" >0.395415</td>\n",
              "                        <td id=\"T_72fe7ebe_fef2_11ea_a1b4_0242ac1c0002row3_col3\" class=\"data row3 col3\" >1.000000</td>\n",
              "                        <td id=\"T_72fe7ebe_fef2_11ea_a1b4_0242ac1c0002row3_col4\" class=\"data row3 col4\" >0.242470</td>\n",
              "                        <td id=\"T_72fe7ebe_fef2_11ea_a1b4_0242ac1c0002row3_col5\" class=\"data row3 col5\" >0.185558</td>\n",
              "                        <td id=\"T_72fe7ebe_fef2_11ea_a1b4_0242ac1c0002row3_col6\" class=\"data row3 col6\" >-0.178761</td>\n",
              "                        <td id=\"T_72fe7ebe_fef2_11ea_a1b4_0242ac1c0002row3_col7\" class=\"data row3 col7\" >0.257653</td>\n",
              "                        <td id=\"T_72fe7ebe_fef2_11ea_a1b4_0242ac1c0002row3_col8\" class=\"data row3 col8\" >0.393478</td>\n",
              "                        <td id=\"T_72fe7ebe_fef2_11ea_a1b4_0242ac1c0002row3_col9\" class=\"data row3 col9\" >0.390429</td>\n",
              "            </tr>\n",
              "            <tr>\n",
              "                        <th id=\"T_72fe7ebe_fef2_11ea_a1b4_0242ac1c0002level0_row4\" class=\"row_heading level0 row4\" >s1</th>\n",
              "                        <td id=\"T_72fe7ebe_fef2_11ea_a1b4_0242ac1c0002row4_col0\" class=\"data row4 col0\" >0.260061</td>\n",
              "                        <td id=\"T_72fe7ebe_fef2_11ea_a1b4_0242ac1c0002row4_col1\" class=\"data row4 col1\" >0.035277</td>\n",
              "                        <td id=\"T_72fe7ebe_fef2_11ea_a1b4_0242ac1c0002row4_col2\" class=\"data row4 col2\" >0.249777</td>\n",
              "                        <td id=\"T_72fe7ebe_fef2_11ea_a1b4_0242ac1c0002row4_col3\" class=\"data row4 col3\" >0.242470</td>\n",
              "                        <td id=\"T_72fe7ebe_fef2_11ea_a1b4_0242ac1c0002row4_col4\" class=\"data row4 col4\" >1.000000</td>\n",
              "                        <td id=\"T_72fe7ebe_fef2_11ea_a1b4_0242ac1c0002row4_col5\" class=\"data row4 col5\" >0.896663</td>\n",
              "                        <td id=\"T_72fe7ebe_fef2_11ea_a1b4_0242ac1c0002row4_col6\" class=\"data row4 col6\" >0.051519</td>\n",
              "                        <td id=\"T_72fe7ebe_fef2_11ea_a1b4_0242ac1c0002row4_col7\" class=\"data row4 col7\" >0.542207</td>\n",
              "                        <td id=\"T_72fe7ebe_fef2_11ea_a1b4_0242ac1c0002row4_col8\" class=\"data row4 col8\" >0.515501</td>\n",
              "                        <td id=\"T_72fe7ebe_fef2_11ea_a1b4_0242ac1c0002row4_col9\" class=\"data row4 col9\" >0.325717</td>\n",
              "            </tr>\n",
              "            <tr>\n",
              "                        <th id=\"T_72fe7ebe_fef2_11ea_a1b4_0242ac1c0002level0_row5\" class=\"row_heading level0 row5\" >s2</th>\n",
              "                        <td id=\"T_72fe7ebe_fef2_11ea_a1b4_0242ac1c0002row5_col0\" class=\"data row5 col0\" >0.219243</td>\n",
              "                        <td id=\"T_72fe7ebe_fef2_11ea_a1b4_0242ac1c0002row5_col1\" class=\"data row5 col1\" >0.142637</td>\n",
              "                        <td id=\"T_72fe7ebe_fef2_11ea_a1b4_0242ac1c0002row5_col2\" class=\"data row5 col2\" >0.261170</td>\n",
              "                        <td id=\"T_72fe7ebe_fef2_11ea_a1b4_0242ac1c0002row5_col3\" class=\"data row5 col3\" >0.185558</td>\n",
              "                        <td id=\"T_72fe7ebe_fef2_11ea_a1b4_0242ac1c0002row5_col4\" class=\"data row5 col4\" >0.896663</td>\n",
              "                        <td id=\"T_72fe7ebe_fef2_11ea_a1b4_0242ac1c0002row5_col5\" class=\"data row5 col5\" >1.000000</td>\n",
              "                        <td id=\"T_72fe7ebe_fef2_11ea_a1b4_0242ac1c0002row5_col6\" class=\"data row5 col6\" >-0.196455</td>\n",
              "                        <td id=\"T_72fe7ebe_fef2_11ea_a1b4_0242ac1c0002row5_col7\" class=\"data row5 col7\" >0.659817</td>\n",
              "                        <td id=\"T_72fe7ebe_fef2_11ea_a1b4_0242ac1c0002row5_col8\" class=\"data row5 col8\" >0.318353</td>\n",
              "                        <td id=\"T_72fe7ebe_fef2_11ea_a1b4_0242ac1c0002row5_col9\" class=\"data row5 col9\" >0.290600</td>\n",
              "            </tr>\n",
              "            <tr>\n",
              "                        <th id=\"T_72fe7ebe_fef2_11ea_a1b4_0242ac1c0002level0_row6\" class=\"row_heading level0 row6\" >s3</th>\n",
              "                        <td id=\"T_72fe7ebe_fef2_11ea_a1b4_0242ac1c0002row6_col0\" class=\"data row6 col0\" >-0.075181</td>\n",
              "                        <td id=\"T_72fe7ebe_fef2_11ea_a1b4_0242ac1c0002row6_col1\" class=\"data row6 col1\" >-0.379090</td>\n",
              "                        <td id=\"T_72fe7ebe_fef2_11ea_a1b4_0242ac1c0002row6_col2\" class=\"data row6 col2\" >-0.366811</td>\n",
              "                        <td id=\"T_72fe7ebe_fef2_11ea_a1b4_0242ac1c0002row6_col3\" class=\"data row6 col3\" >-0.178761</td>\n",
              "                        <td id=\"T_72fe7ebe_fef2_11ea_a1b4_0242ac1c0002row6_col4\" class=\"data row6 col4\" >0.051519</td>\n",
              "                        <td id=\"T_72fe7ebe_fef2_11ea_a1b4_0242ac1c0002row6_col5\" class=\"data row6 col5\" >-0.196455</td>\n",
              "                        <td id=\"T_72fe7ebe_fef2_11ea_a1b4_0242ac1c0002row6_col6\" class=\"data row6 col6\" >1.000000</td>\n",
              "                        <td id=\"T_72fe7ebe_fef2_11ea_a1b4_0242ac1c0002row6_col7\" class=\"data row6 col7\" >-0.738493</td>\n",
              "                        <td id=\"T_72fe7ebe_fef2_11ea_a1b4_0242ac1c0002row6_col8\" class=\"data row6 col8\" >-0.398577</td>\n",
              "                        <td id=\"T_72fe7ebe_fef2_11ea_a1b4_0242ac1c0002row6_col9\" class=\"data row6 col9\" >-0.273697</td>\n",
              "            </tr>\n",
              "            <tr>\n",
              "                        <th id=\"T_72fe7ebe_fef2_11ea_a1b4_0242ac1c0002level0_row7\" class=\"row_heading level0 row7\" >s4</th>\n",
              "                        <td id=\"T_72fe7ebe_fef2_11ea_a1b4_0242ac1c0002row7_col0\" class=\"data row7 col0\" >0.203841</td>\n",
              "                        <td id=\"T_72fe7ebe_fef2_11ea_a1b4_0242ac1c0002row7_col1\" class=\"data row7 col1\" >0.332115</td>\n",
              "                        <td id=\"T_72fe7ebe_fef2_11ea_a1b4_0242ac1c0002row7_col2\" class=\"data row7 col2\" >0.413807</td>\n",
              "                        <td id=\"T_72fe7ebe_fef2_11ea_a1b4_0242ac1c0002row7_col3\" class=\"data row7 col3\" >0.257653</td>\n",
              "                        <td id=\"T_72fe7ebe_fef2_11ea_a1b4_0242ac1c0002row7_col4\" class=\"data row7 col4\" >0.542207</td>\n",
              "                        <td id=\"T_72fe7ebe_fef2_11ea_a1b4_0242ac1c0002row7_col5\" class=\"data row7 col5\" >0.659817</td>\n",
              "                        <td id=\"T_72fe7ebe_fef2_11ea_a1b4_0242ac1c0002row7_col6\" class=\"data row7 col6\" >-0.738493</td>\n",
              "                        <td id=\"T_72fe7ebe_fef2_11ea_a1b4_0242ac1c0002row7_col7\" class=\"data row7 col7\" >1.000000</td>\n",
              "                        <td id=\"T_72fe7ebe_fef2_11ea_a1b4_0242ac1c0002row7_col8\" class=\"data row7 col8\" >0.617857</td>\n",
              "                        <td id=\"T_72fe7ebe_fef2_11ea_a1b4_0242ac1c0002row7_col9\" class=\"data row7 col9\" >0.417212</td>\n",
              "            </tr>\n",
              "            <tr>\n",
              "                        <th id=\"T_72fe7ebe_fef2_11ea_a1b4_0242ac1c0002level0_row8\" class=\"row_heading level0 row8\" >s5</th>\n",
              "                        <td id=\"T_72fe7ebe_fef2_11ea_a1b4_0242ac1c0002row8_col0\" class=\"data row8 col0\" >0.270777</td>\n",
              "                        <td id=\"T_72fe7ebe_fef2_11ea_a1b4_0242ac1c0002row8_col1\" class=\"data row8 col1\" >0.149918</td>\n",
              "                        <td id=\"T_72fe7ebe_fef2_11ea_a1b4_0242ac1c0002row8_col2\" class=\"data row8 col2\" >0.446159</td>\n",
              "                        <td id=\"T_72fe7ebe_fef2_11ea_a1b4_0242ac1c0002row8_col3\" class=\"data row8 col3\" >0.393478</td>\n",
              "                        <td id=\"T_72fe7ebe_fef2_11ea_a1b4_0242ac1c0002row8_col4\" class=\"data row8 col4\" >0.515501</td>\n",
              "                        <td id=\"T_72fe7ebe_fef2_11ea_a1b4_0242ac1c0002row8_col5\" class=\"data row8 col5\" >0.318353</td>\n",
              "                        <td id=\"T_72fe7ebe_fef2_11ea_a1b4_0242ac1c0002row8_col6\" class=\"data row8 col6\" >-0.398577</td>\n",
              "                        <td id=\"T_72fe7ebe_fef2_11ea_a1b4_0242ac1c0002row8_col7\" class=\"data row8 col7\" >0.617857</td>\n",
              "                        <td id=\"T_72fe7ebe_fef2_11ea_a1b4_0242ac1c0002row8_col8\" class=\"data row8 col8\" >1.000000</td>\n",
              "                        <td id=\"T_72fe7ebe_fef2_11ea_a1b4_0242ac1c0002row8_col9\" class=\"data row8 col9\" >0.464670</td>\n",
              "            </tr>\n",
              "            <tr>\n",
              "                        <th id=\"T_72fe7ebe_fef2_11ea_a1b4_0242ac1c0002level0_row9\" class=\"row_heading level0 row9\" >s6</th>\n",
              "                        <td id=\"T_72fe7ebe_fef2_11ea_a1b4_0242ac1c0002row9_col0\" class=\"data row9 col0\" >0.301731</td>\n",
              "                        <td id=\"T_72fe7ebe_fef2_11ea_a1b4_0242ac1c0002row9_col1\" class=\"data row9 col1\" >0.208133</td>\n",
              "                        <td id=\"T_72fe7ebe_fef2_11ea_a1b4_0242ac1c0002row9_col2\" class=\"data row9 col2\" >0.388680</td>\n",
              "                        <td id=\"T_72fe7ebe_fef2_11ea_a1b4_0242ac1c0002row9_col3\" class=\"data row9 col3\" >0.390429</td>\n",
              "                        <td id=\"T_72fe7ebe_fef2_11ea_a1b4_0242ac1c0002row9_col4\" class=\"data row9 col4\" >0.325717</td>\n",
              "                        <td id=\"T_72fe7ebe_fef2_11ea_a1b4_0242ac1c0002row9_col5\" class=\"data row9 col5\" >0.290600</td>\n",
              "                        <td id=\"T_72fe7ebe_fef2_11ea_a1b4_0242ac1c0002row9_col6\" class=\"data row9 col6\" >-0.273697</td>\n",
              "                        <td id=\"T_72fe7ebe_fef2_11ea_a1b4_0242ac1c0002row9_col7\" class=\"data row9 col7\" >0.417212</td>\n",
              "                        <td id=\"T_72fe7ebe_fef2_11ea_a1b4_0242ac1c0002row9_col8\" class=\"data row9 col8\" >0.464670</td>\n",
              "                        <td id=\"T_72fe7ebe_fef2_11ea_a1b4_0242ac1c0002row9_col9\" class=\"data row9 col9\" >1.000000</td>\n",
              "            </tr>\n",
              "    </tbody></table>"
            ],
            "text/plain": [
              "<pandas.io.formats.style.Styler at 0x7f41a9084c18>"
            ]
          },
          "metadata": {
            "tags": []
          },
          "execution_count": 55
        }
      ]
    },
    {
      "cell_type": "markdown",
      "metadata": {
        "id": "0EALfkI8tD8E",
        "colab_type": "text"
      },
      "source": [
        "The above matrix shows **correlations among the features** such that **darker shades of red implying high positive correlation and darker shades of blue implying high negative correlations**.\n",
        "\n",
        "In the multiple linear models we built in the previous section, both features **s1 and s2 came out as important features**.\n",
        "However, we can see that **they have a very high positive correlation of about 0.896**. This is clearly inducing multicollinearity into the model.\n",
        "\n",
        "To counter such issues, we can use **regularization techniques** which allow us to **lower this variance of the model at the cost of adding some bias into it**, such that the total error is reduced. \n",
        "\n",
        "**Lower variance implies that the problem of overfitting is tackled automatically, as the model generalizes well to unseen data after regularization**.\n",
        "\n",
        "The regularization techniques work by **adding penalty factors to the original OLS cost function such that high coefficient values are penalized, taking them closer to zero**.\n",
        "\n",
        "The features with significant coefficient values are identified after a regularization procedure and other insignificant features with near-zero coefficient values can be dropped. This also leads to what is called natural features selection, resulting in an overall parsimonious model.\n",
        "\n",
        "There are many regularization techniques, of which we discuss the three most commonly used ones viz. **Ridge, Lasso** and **Elastic Net** in the next part."
      ]
    },
    {
      "cell_type": "code",
      "metadata": {
        "id": "uFYtMCoquEzp",
        "colab_type": "code",
        "colab": {}
      },
      "source": [
        "# importing the Ridge class from linear_model submodule of scikit learn\n",
        "from sklearn.linear_model import Ridge\n",
        "# importing the GridSearchCV class from model_selection submodule of scikit learn\n",
        "from sklearn.model_selection import GridSearchCV"
      ],
      "execution_count": 56,
      "outputs": []
    },
    {
      "cell_type": "code",
      "metadata": {
        "id": "u9Aos4Wqt6f8",
        "colab_type": "code",
        "colab": {
          "base_uri": "https://localhost:8080/",
          "height": 54
        },
        "outputId": "fdfe004b-d874-4657-e5b6-0720d1ab5a9b"
      },
      "source": [
        "\n",
        "# creating a dictionary containing potential values of alpha\n",
        "alpha_values = {'alpha':[0.001, 0.01,0.02,0.03,0.04, 0.05, 0.06, 0.08, 1, 2, 3, 5, 8, 10, 20, 50, 100]}\n",
        "\n",
        "# Passing in a Ridge estimator, potential alpha values, scoring method and cross validation parameters to the GridSearchCV\n",
        "ridge= GridSearchCV(Ridge(), alpha_values, scoring='neg_mean_squared_error', cv=10 )\n",
        "\n",
        "# Fitting the model to the data and extracting best value of alpha\n",
        "print('The best value of alpha is:',ridge.fit(X,y).best_params_)\n",
        "\n",
        "# Printing the average neg_mean_squared_error of a 10-fold cross validation\n",
        "print('The best score for the best Ridge estimator is:',ridge.fit(X,y).best_score_)"
      ],
      "execution_count": 57,
      "outputs": [
        {
          "output_type": "stream",
          "text": [
            "The best value of alpha is: {'alpha': 0.04}\n",
            "The best score for the best Ridge estimator is: -2997.186793719345\n"
          ],
          "name": "stdout"
        }
      ]
    },
    {
      "cell_type": "markdown",
      "metadata": {
        "id": "pxnnl1oOuNY5",
        "colab_type": "text"
      },
      "source": [
        "We see that regularizing our multiple linear regression model using Ridge regression, increases the average 'neg_mean_squared_error' from almost -3000.38 to about -2995.94, which is a moderate improvement.\n",
        "\n",
        "Let us visualize all the ten coefficient estimates for the ridge regression model using the following commands:"
      ]
    },
    {
      "cell_type": "code",
      "metadata": {
        "id": "amuX3aOLuPJI",
        "colab_type": "code",
        "colab": {
          "base_uri": "https://localhost:8080/",
          "height": 415
        },
        "outputId": "c356157a-f16b-4f05-a227-c777ca96224a"
      },
      "source": [
        "# Creating an object containing the best ridge regression model\n",
        "best_ridge_model= Ridge(alpha=0.04)\n",
        "# Extracting the coefficient estimates for all ten features\n",
        "best_ridge_coeffs = best_ridge_model.fit(X,y).coef_\n",
        "\n",
        "# plotting the coefficient estimates for all ten features\n",
        "plt.figure(figsize=(10,6))\n",
        "plt.plot(range(len(data.feature_names)),best_ridge_coeffs[0])\n",
        "plt.axhline(0, color='r', linestyle='solid')\n",
        "plt.xticks(range(len(feature_names)),feature_names,rotation=50)\n",
        "plt.title(\"Coefficient estimates from Ridge Regression\")\n",
        "plt.ylabel(\"coefficients\")\n",
        "plt.xlabel(\"features\")\n",
        "plt.show()"
      ],
      "execution_count": 58,
      "outputs": [
        {
          "output_type": "display_data",
          "data": {
            "image/png": "[encoded data removed]",
            "text/plain": [
              "<Figure size 720x432 with 1 Axes>"
            ]
          },
          "metadata": {
            "tags": [],
            "needs_background": "light"
          }
        }
      ]
    },
    {
      "cell_type": "markdown",
      "metadata": {
        "id": "4C9k2fB8z8pf",
        "colab_type": "text"
      },
      "source": [
        "Previously, features s1 and s2 came out as an important feature in the multiple linear regression, however, their coefficient values are significantly reduced after ridge regularization. The features 'bmi' and s5 still remain important."
      ]
    },
    {
      "cell_type": "markdown",
      "metadata": {
        "id": "IkXVyqzp0Bcg",
        "colab_type": "text"
      },
      "source": [
        "## Apply LASSO"
      ]
    },
    {
      "cell_type": "code",
      "metadata": {
        "id": "-byQiLVFuUs2",
        "colab_type": "code",
        "colab": {
          "base_uri": "https://localhost:8080/",
          "height": 54
        },
        "outputId": "0d73ae09-d9b8-42f4-9d86-5845c00d704b"
      },
      "source": [
        "# importing the Lasso class from linear_model submodule of scikit learn\n",
        "from sklearn.linear_model import Lasso\n",
        "# importing the GridSearchCV class from model_selection submodule of scikit learn\n",
        "from sklearn.model_selection import GridSearchCV\n",
        "# creating a dictionary containing potential values of alpha\n",
        "alpha_values = {'alpha':[0.001, 0.01,0.02,0.03,0.04, 0.05, 0.06,0.07, 0.08, 1, 2, 3, 5, 8, 10, 20, 50, 100]}\n",
        "# Passing in a Lasso estimator, potential alpha values, scoring method and cross validation parameters to the GridSearchCV\n",
        "lasso= GridSearchCV(Lasso(), alpha_values, scoring='neg_mean_squared_error', cv=10 )\n",
        "# Fitting the model to the data and extracting best value of alpha\n",
        "print('The best value of alpha is:',lasso.fit(X,y).best_params_)\n",
        "# Printing the average neg_mean_squared_error of a 10-fold cross validation\n",
        "print('The best score for the best Lasso estimator is:',lasso.fit(X,y).best_score_)"
      ],
      "execution_count": 59,
      "outputs": [
        {
          "output_type": "stream",
          "text": [
            "The best value of alpha is: {'alpha': 0.06}\n",
            "The best score for the best Lasso estimator is: -2987.4180821246437\n"
          ],
          "name": "stdout"
        }
      ]
    },
    {
      "cell_type": "markdown",
      "metadata": {
        "id": "0MyrQOYW0FZj",
        "colab_type": "text"
      },
      "source": [
        "We see that using Lasso regularization produces slightly better results as compared to the Ridge regularization, i.e. increases the average 'neg_mean_squared_error' from almost -3000.38 to about -2986.37 (compared to -2995.94 from Ridge regularization).\n",
        "\n",
        "Let us visualize all the ten coefficient estimates for the Lasso regression model using the following commands:"
      ]
    },
    {
      "cell_type": "code",
      "metadata": {
        "id": "3Dryd5vN0H5V",
        "colab_type": "code",
        "colab": {
          "base_uri": "https://localhost:8080/",
          "height": 415
        },
        "outputId": "49928f5d-4621-4bf3-8e73-207f455e7299"
      },
      "source": [
        "# Creating an object containing the best Lasso regression model\n",
        "best_lasso_model= Lasso(alpha=0.06)\n",
        "# Extracting the coefficient estimates for all ten features\n",
        "best_lasso_coeffs = best_lasso_model.fit(X,y).coef_\n",
        "# plotting the coefficient estimates for all ten features\n",
        "plt.figure(figsize=(10,6))\n",
        "plt.plot(range(len(feature_names)),best_lasso_coeffs)\n",
        "plt.axhline(0, color='r', linestyle='solid')\n",
        "plt.xticks(range(len(feature_names)),feature_names,rotation=50)\n",
        "plt.title(\"Coefficient estimates from Lasso Regression\")\n",
        "plt.ylabel(\"coefficients\")\n",
        "plt.xlabel(\"features\")\n",
        "plt.show()"
      ],
      "execution_count": 60,
      "outputs": [
        {
          "output_type": "display_data",
          "data": {
            "image/png": "[encoded data removed]",
            "text/plain": [
              "<Figure size 720x432 with 1 Axes>"
            ]
          },
          "metadata": {
            "tags": [],
            "needs_background": "light"
          }
        }
      ]
    },
    {
      "cell_type": "code",
      "metadata": {
        "id": "C_N9KNrW0LG9",
        "colab_type": "code",
        "colab": {
          "base_uri": "https://localhost:8080/",
          "height": 72
        },
        "outputId": "600d9f36-7573-4011-cd7a-ecb8f67a962f"
      },
      "source": [
        "best_lasso_coeffs"
      ],
      "execution_count": 61,
      "outputs": [
        {
          "output_type": "execute_result",
          "data": {
            "text/plain": [
              "array([  -0.        , -186.30924508,  520.89411638,  291.19604139,\n",
              "        -90.06855506,   -0.        , -220.20726443,    0.        ,\n",
              "        506.42221212,   49.07461404])"
            ]
          },
          "metadata": {
            "tags": []
          },
          "execution_count": 61
        }
      ]
    },
    {
      "cell_type": "markdown",
      "metadata": {
        "id": "FrOKRxRh0OpY",
        "colab_type": "text"
      },
      "source": [
        "## Apply Elastic Net"
      ]
    },
    {
      "cell_type": "code",
      "metadata": {
        "id": "4CPyzvxA0OI5",
        "colab_type": "code",
        "colab": {}
      },
      "source": [
        "# from sklearn.model_selection import GridSearchCV # If not already imported\n",
        "from sklearn.linear_model import ElasticNet\n",
        "alpha_values = {'alpha':[0.00005,0.0005,0.001, 0.01, 0.05, 0.06, 0.08, 1, 2, 3, 5, 8, 10, 20, 50, 100],\n",
        " 'l1_ratio':[0.1,0.2,0.3,0.4,0.5,0.6,0.7,0.8,1]}\n",
        "elastic= GridSearchCV(ElasticNet(), alpha_values, scoring='neg_mean_squared_error', cv=10 )"
      ],
      "execution_count": 62,
      "outputs": []
    },
    {
      "cell_type": "markdown",
      "metadata": {
        "id": "7oRbPeLb0STx",
        "colab_type": "text"
      },
      "source": [
        "Let us now take a peek at the best values for hyperparameters alpha and l1_ratio (and the best score from Elastic Net regularization):"
      ]
    },
    {
      "cell_type": "code",
      "metadata": {
        "id": "yrQZL7F30UF0",
        "colab_type": "code",
        "colab": {
          "base_uri": "https://localhost:8080/",
          "height": 35
        },
        "outputId": "5a908676-ac6e-4c16-e72a-70b3105989ed"
      },
      "source": [
        "elastic.fit(X,y).best_params_"
      ],
      "execution_count": 63,
      "outputs": [
        {
          "output_type": "execute_result",
          "data": {
            "text/plain": [
              "{'alpha': 0.06, 'l1_ratio': 1}"
            ]
          },
          "metadata": {
            "tags": []
          },
          "execution_count": 63
        }
      ]
    },
    {
      "cell_type": "code",
      "metadata": {
        "id": "Q5hrIK_w0Wr5",
        "colab_type": "code",
        "colab": {
          "base_uri": "https://localhost:8080/",
          "height": 35
        },
        "outputId": "2870fb03-e213-478f-dd6f-e22f2072754b"
      },
      "source": [
        "elastic.fit(X,y).best_score_"
      ],
      "execution_count": 64,
      "outputs": [
        {
          "output_type": "execute_result",
          "data": {
            "text/plain": [
              "-2987.4180821246437"
            ]
          },
          "metadata": {
            "tags": []
          },
          "execution_count": 64
        }
      ]
    },
    {
      "cell_type": "markdown",
      "metadata": {
        "id": "eLvc7_nT0Yv7",
        "colab_type": "text"
      },
      "source": [
        "In this case, the best l1_ratio turns out to be 1, which is the same as a Lasso regularization. Consequently, the best score also remains the same as obtained from Lasso regularization earlier."
      ]
    }
  ]
}